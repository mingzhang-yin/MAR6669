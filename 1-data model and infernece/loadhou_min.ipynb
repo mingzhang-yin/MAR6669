{
 "cells": [
  {
   "cell_type": "code",
   "execution_count": 32,
   "metadata": {},
   "outputs": [],
   "source": [
    "import pandas as pd\n",
    "import numpy as np\n",
    "import matplotlib.pyplot as plt\n",
    "from sklearn.metrics import mean_squared_error\n",
    "\n",
    "import warnings\n",
    "warnings.filterwarnings('ignore', category=FutureWarning)\n",
    "\n",
    "loadhou = pd.read_csv('/content/drive/MyDrive/MAR6669-data/loadhou.csv')"
   ]
  },
  {
   "cell_type": "code",
   "execution_count": 33,
   "metadata": {},
   "outputs": [
    {
     "data": {
      "text/html": [
       "<div>\n",
       "<style scoped>\n",
       "    .dataframe tbody tr th:only-of-type {\n",
       "        vertical-align: middle;\n",
       "    }\n",
       "\n",
       "    .dataframe tbody tr th {\n",
       "        vertical-align: top;\n",
       "    }\n",
       "\n",
       "    .dataframe thead th {\n",
       "        text-align: right;\n",
       "    }\n",
       "</style>\n",
       "<table border=\"1\" class=\"dataframe\">\n",
       "  <thead>\n",
       "    <tr style=\"text-align: right;\">\n",
       "      <th></th>\n",
       "      <th>Time</th>\n",
       "      <th>KHOU</th>\n",
       "      <th>COAST</th>\n",
       "    </tr>\n",
       "  </thead>\n",
       "  <tbody>\n",
       "    <tr>\n",
       "      <th>0</th>\n",
       "      <td>1/1/10 15:00</td>\n",
       "      <td>7.10</td>\n",
       "      <td>8222.029420</td>\n",
       "    </tr>\n",
       "    <tr>\n",
       "      <th>1</th>\n",
       "      <td>1/2/10 15:00</td>\n",
       "      <td>9.10</td>\n",
       "      <td>8379.872342</td>\n",
       "    </tr>\n",
       "    <tr>\n",
       "      <th>2</th>\n",
       "      <td>1/3/10 15:00</td>\n",
       "      <td>6.10</td>\n",
       "      <td>8679.087157</td>\n",
       "    </tr>\n",
       "    <tr>\n",
       "      <th>3</th>\n",
       "      <td>1/4/10 15:00</td>\n",
       "      <td>4.10</td>\n",
       "      <td>10273.567000</td>\n",
       "    </tr>\n",
       "    <tr>\n",
       "      <th>4</th>\n",
       "      <td>1/5/10 15:00</td>\n",
       "      <td>3.10</td>\n",
       "      <td>10317.801170</td>\n",
       "    </tr>\n",
       "    <tr>\n",
       "      <th>...</th>\n",
       "      <td>...</td>\n",
       "      <td>...</td>\n",
       "      <td>...</td>\n",
       "    </tr>\n",
       "    <tr>\n",
       "      <th>2352</th>\n",
       "      <td>6/26/16 15:00</td>\n",
       "      <td>31.60</td>\n",
       "      <td>16588.555300</td>\n",
       "    </tr>\n",
       "    <tr>\n",
       "      <th>2353</th>\n",
       "      <td>6/27/16 15:00</td>\n",
       "      <td>31.60</td>\n",
       "      <td>18056.292190</td>\n",
       "    </tr>\n",
       "    <tr>\n",
       "      <th>2354</th>\n",
       "      <td>6/28/16 15:00</td>\n",
       "      <td>31.60</td>\n",
       "      <td>16908.966850</td>\n",
       "    </tr>\n",
       "    <tr>\n",
       "      <th>2355</th>\n",
       "      <td>6/29/16 15:00</td>\n",
       "      <td>29.35</td>\n",
       "      <td>17397.014410</td>\n",
       "    </tr>\n",
       "    <tr>\n",
       "      <th>2356</th>\n",
       "      <td>6/30/16 15:00</td>\n",
       "      <td>31.10</td>\n",
       "      <td>17893.895700</td>\n",
       "    </tr>\n",
       "  </tbody>\n",
       "</table>\n",
       "<p>2357 rows × 3 columns</p>\n",
       "</div>"
      ],
      "text/plain": [
       "               Time   KHOU         COAST\n",
       "0      1/1/10 15:00   7.10   8222.029420\n",
       "1      1/2/10 15:00   9.10   8379.872342\n",
       "2      1/3/10 15:00   6.10   8679.087157\n",
       "3      1/4/10 15:00   4.10  10273.567000\n",
       "4      1/5/10 15:00   3.10  10317.801170\n",
       "...             ...    ...           ...\n",
       "2352  6/26/16 15:00  31.60  16588.555300\n",
       "2353  6/27/16 15:00  31.60  18056.292190\n",
       "2354  6/28/16 15:00  31.60  16908.966850\n",
       "2355  6/29/16 15:00  29.35  17397.014410\n",
       "2356  6/30/16 15:00  31.10  17893.895700\n",
       "\n",
       "[2357 rows x 3 columns]"
      ]
     },
     "execution_count": 33,
     "metadata": {},
     "output_type": "execute_result"
    }
   ],
   "source": [
    "loadhou"
   ]
  },
  {
   "cell_type": "code",
   "execution_count": 34,
   "metadata": {},
   "outputs": [],
   "source": [
    "# train-validation-test split\n",
    "np.random.seed(123)  # set the random seed for reproducibility\n",
    "\n",
    "N = loadhou.shape[0]\n",
    "# 70/20/10 split    \n",
    "train_ind, val_ind, test_ind = np.split(np.random.permutation(N), [int(.7*N), int(.9*N)])\n",
    "D_train = loadhou.loc[train_ind, :]\n",
    "D_valid = loadhou.loc[val_ind, :]\n",
    "D_test = loadhou.loc[test_ind, :]"
   ]
  },
  {
   "cell_type": "code",
   "execution_count": 35,
   "metadata": {},
   "outputs": [],
   "source": [
    "X_train = D_train['KHOU'].values[:,None]\n",
    "y_train = D_train['COAST'].values\n",
    "\n",
    "X_valid = D_valid['KHOU'].values[:,None]\n",
    "y_valid = D_valid['COAST'].values"
   ]
  },
  {
   "attachments": {},
   "cell_type": "markdown",
   "metadata": {},
   "source": [
    "### Fit a linear model as baseline"
   ]
  },
  {
   "cell_type": "code",
   "execution_count": 36,
   "metadata": {},
   "outputs": [
    {
     "name": "stdout",
     "output_type": "stream",
     "text": [
      "2544.686210324086\n"
     ]
    }
   ],
   "source": [
    "import statsmodels.api as sm\n",
    "lm1 = sm.OLS(y_train, X_train).fit()\n",
    "\n",
    "y_pred = lm1.predict(X_valid)\n",
    "\n",
    "lm1_rmse = np.sqrt(mean_squared_error(y_valid, y_pred))\n",
    "print(lm1_rmse)"
   ]
  },
  {
   "attachments": {},
   "cell_type": "markdown",
   "metadata": {},
   "source": [
    "### Train the KNN model and calculate RMSE on the validation set"
   ]
  },
  {
   "cell_type": "code",
   "execution_count": 37,
   "metadata": {},
   "outputs": [
    {
     "name": "stdout",
     "output_type": "stream",
     "text": [
      "1000.1630689415206\n"
     ]
    }
   ],
   "source": [
    "# Try K=25\n",
    "from sklearn.neighbors import KNeighborsRegressor\n",
    "np.random.seed(123) \n",
    "\n",
    "knn_model = KNeighborsRegressor(n_neighbors=25)\n",
    "knn_model.fit(X_train, y_train)\n",
    "y_pred = knn_model.predict(X_valid)\n",
    "\n",
    "knn_rmse = np.sqrt(mean_squared_error(y_valid, y_pred))\n",
    "print(knn_rmse)"
   ]
  },
  {
   "attachments": {},
   "cell_type": "markdown",
   "metadata": {},
   "source": [
    "### KNN  check performance across a variety of choices for K"
   ]
  },
  {
   "cell_type": "code",
   "execution_count": 38,
   "metadata": {},
   "outputs": [
    {
     "name": "stdout",
     "output_type": "stream",
     "text": [
      "[2, 3, 4, 5, 6, 7, 8, 9, 10, 11, 12, 13, 14, 15, 16, 17, 18, 19, 21, 22, 24, 25, 27, 29, 31, 33, 35, 38, 41, 43, 46, 50, 53, 57, 61, 65, 69, 74, 79, 85, 90, 97, 103, 111, 118, 126, 135, 144, 154, 165, 177, 189, 202, 216, 231, 247, 264, 282, 301, 322, 344, 368, 394, 421, 450, 481, 515, 550, 588, 629, 672, 719, 769, 822, 879, 939, 1004, 1074, 1148, 1227, 1312, 1403, 1500]\n"
     ]
    }
   ],
   "source": [
    "k_grid = np.unique(np.round(np.exp(np.linspace(np.log(1500), np.log(2), num=100))))\n",
    "k_grid = [int(_) for _ in k_grid]\n",
    "print(k_grid)"
   ]
  },
  {
   "cell_type": "code",
   "execution_count": 39,
   "metadata": {},
   "outputs": [],
   "source": [
    "# Try all K\n",
    "rmse_grid_out = []\n",
    "for k in k_grid:\n",
    "    knn_model = KNeighborsRegressor(n_neighbors=k)\n",
    "    knn_model.fit(X_train, y_train)\n",
    "    y_pred = knn_model.predict(X_valid)\n",
    "    rmse = np.sqrt(mean_squared_error(y_valid, y_pred))\n",
    "    rmse_grid_out.append(rmse)\n",
    "\n",
    "rmse_grid_out = pd.DataFrame({'K': k_grid, 'RMSE': rmse_grid_out})\n"
   ]
  },
  {
   "cell_type": "code",
   "execution_count": 40,
   "metadata": {},
   "outputs": [],
   "source": [
    "ind_best = np.argmin(rmse_grid_out['RMSE'])\n",
    "k_best = k_grid[ind_best]"
   ]
  },
  {
   "cell_type": "code",
   "execution_count": 41,
   "metadata": {},
   "outputs": [
    {
     "data": {
      "text/plain": [
       "11"
      ]
     },
     "execution_count": 41,
     "metadata": {},
     "output_type": "execute_result"
    }
   ],
   "source": [
    "k_best"
   ]
  },
  {
   "cell_type": "code",
   "execution_count": 42,
   "metadata": {},
   "outputs": [
    {
     "data": {
      "text/html": [
       "<div>\n",
       "<style scoped>\n",
       "    .dataframe tbody tr th:only-of-type {\n",
       "        vertical-align: middle;\n",
       "    }\n",
       "\n",
       "    .dataframe tbody tr th {\n",
       "        vertical-align: top;\n",
       "    }\n",
       "\n",
       "    .dataframe thead th {\n",
       "        text-align: right;\n",
       "    }\n",
       "</style>\n",
       "<table border=\"1\" class=\"dataframe\">\n",
       "  <thead>\n",
       "    <tr style=\"text-align: right;\">\n",
       "      <th></th>\n",
       "      <th>K</th>\n",
       "      <th>RMSE</th>\n",
       "    </tr>\n",
       "  </thead>\n",
       "  <tbody>\n",
       "    <tr>\n",
       "      <th>0</th>\n",
       "      <td>2</td>\n",
       "      <td>1078.363105</td>\n",
       "    </tr>\n",
       "    <tr>\n",
       "      <th>1</th>\n",
       "      <td>3</td>\n",
       "      <td>1073.893883</td>\n",
       "    </tr>\n",
       "    <tr>\n",
       "      <th>2</th>\n",
       "      <td>4</td>\n",
       "      <td>1037.097883</td>\n",
       "    </tr>\n",
       "    <tr>\n",
       "      <th>3</th>\n",
       "      <td>5</td>\n",
       "      <td>1022.369458</td>\n",
       "    </tr>\n",
       "    <tr>\n",
       "      <th>4</th>\n",
       "      <td>6</td>\n",
       "      <td>1012.109350</td>\n",
       "    </tr>\n",
       "  </tbody>\n",
       "</table>\n",
       "</div>"
      ],
      "text/plain": [
       "   K         RMSE\n",
       "0  2  1078.363105\n",
       "1  3  1073.893883\n",
       "2  4  1037.097883\n",
       "3  5  1022.369458\n",
       "4  6  1012.109350"
      ]
     },
     "execution_count": 42,
     "metadata": {},
     "output_type": "execute_result"
    }
   ],
   "source": [
    "rmse_grid_out.head()"
   ]
  },
  {
   "cell_type": "code",
   "execution_count": 43,
   "metadata": {},
   "outputs": [
    {
     "data": {
      "image/png": "[encoded data removed]",
      "text/plain": [
       "<Figure size 640x480 with 1 Axes>"
      ]
     },
     "metadata": {},
     "output_type": "display_data"
    }
   ],
   "source": [
    "plt.figure()\n",
    "plt.plot(rmse_grid_out['K'], rmse_grid_out['RMSE'], linewidth=1, color='black')\n",
    "plt.xscale('log')\n",
    "plt.ylim(700, 2700)\n",
    "plt.axhline(y=lm1_rmse, color='blue', linewidth=1, label='Linear regression')\n",
    "plt.axvline(x=k_best, color='darkgreen', linewidth=1, label='KNN')\n",
    "plt.xlabel('K')\n",
    "plt.ylabel('RMSE')\n",
    "plt.legend()\n",
    "plt.show()"
   ]
  },
  {
   "attachments": {},
   "cell_type": "markdown",
   "metadata": {},
   "source": [
    "### K-nearest neighbors: at the optimal k "
   ]
  },
  {
   "cell_type": "code",
   "execution_count": 44,
   "metadata": {},
   "outputs": [
    {
     "data": {
      "image/png": "[encoded data removed]",
      "text/plain": [
       "<Figure size 640x480 with 1 Axes>"
      ]
     },
     "metadata": {},
     "output_type": "display_data"
    }
   ],
   "source": [
    "knn_model = KNeighborsRegressor(n_neighbors=k_best)\n",
    "knn_model.fit(X_train, y_train)\n",
    "\n",
    "D_test = D_test.sort_values(by='KHOU') # for better plotting\n",
    "X_test, y_test = D_test['KHOU'].values[:,None], D_test['COAST'].values\n",
    "\n",
    "y_pred = knn_model.predict(X_test)\n",
    "rmse_best = np.sqrt(mean_squared_error(y_test, y_pred))\n",
    "\n",
    "D_test['ypred'] = y_pred\n",
    "\n",
    "plt.figure()\n",
    "plt.scatter(D_test['KHOU'], D_test['COAST'], color='lightgrey')\n",
    "plt.plot(D_test['KHOU'], D_test['ypred'], color='red', linewidth=1.5)\n",
    "plt.ylim(7000, 20000)\n",
    "plt.xlabel('KHOU')\n",
    "plt.ylabel('COAST')\n",
    "plt.show()"
   ]
  },
  {
   "cell_type": "code",
   "execution_count": null,
   "metadata": {},
   "outputs": [],
   "source": []
  }
 ],
 "metadata": {
  "kernelspec": {
   "display_name": "base",
   "language": "python",
   "name": "python3"
  },
  "language_info": {
   "codemirror_mode": {
    "name": "ipython",
    "version": 3
   },
   "file_extension": ".py",
   "mimetype": "text/x-python",
   "name": "python",
   "nbconvert_exporter": "python",
   "pygments_lexer": "ipython3",
   "version": "3.11.6"
  },
  "orig_nbformat": 4,
  "vscode": {
   "interpreter": {
    "hash": "6493d78ee9c74ef6e256008e984005d403b900fa83abf15bc9da3adad0ade6c1"
   }
  }
 },
 "nbformat": 4,
 "nbformat_minor": 2
}
