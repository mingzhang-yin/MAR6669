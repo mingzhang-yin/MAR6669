{
 "cells": [
  {
   "cell_type": "code",
   "execution_count": 4,
   "metadata": {},
   "outputs": [],
   "source": [
    "import pandas as pd\n",
    "import numpy as np\n",
    "import os\n",
    "import matplotlib.pyplot as plt\n",
    "from sklearn.neighbors import KNeighborsRegressor\n",
    "from sklearn.metrics import mean_squared_error\n",
    "\n",
    "import warnings\n",
    "warnings.filterwarnings('ignore', category=FutureWarning)\n",
    "\n",
    "os.chdir('/Users/mingzhangyin/Dropbox (UFL)/UF teaching/My course/2-data model and infernece') # add your data path here\n",
    "\n",
    "loadhou = pd.read_csv('loadhou.csv')"
   ]
  },
  {
   "cell_type": "code",
   "execution_count": 5,
   "metadata": {},
   "outputs": [
    {
     "data": {
      "text/html": [
       "<div>\n",
       "<style scoped>\n",
       "    .dataframe tbody tr th:only-of-type {\n",
       "        vertical-align: middle;\n",
       "    }\n",
       "\n",
       "    .dataframe tbody tr th {\n",
       "        vertical-align: top;\n",
       "    }\n",
       "\n",
       "    .dataframe thead th {\n",
       "        text-align: right;\n",
       "    }\n",
       "</style>\n",
       "<table border=\"1\" class=\"dataframe\">\n",
       "  <thead>\n",
       "    <tr style=\"text-align: right;\">\n",
       "      <th></th>\n",
       "      <th>Time</th>\n",
       "      <th>KHOU</th>\n",
       "      <th>COAST</th>\n",
       "    </tr>\n",
       "  </thead>\n",
       "  <tbody>\n",
       "    <tr>\n",
       "      <th>0</th>\n",
       "      <td>1/1/10 15:00</td>\n",
       "      <td>7.10</td>\n",
       "      <td>8222.029420</td>\n",
       "    </tr>\n",
       "    <tr>\n",
       "      <th>1</th>\n",
       "      <td>1/2/10 15:00</td>\n",
       "      <td>9.10</td>\n",
       "      <td>8379.872342</td>\n",
       "    </tr>\n",
       "    <tr>\n",
       "      <th>2</th>\n",
       "      <td>1/3/10 15:00</td>\n",
       "      <td>6.10</td>\n",
       "      <td>8679.087157</td>\n",
       "    </tr>\n",
       "    <tr>\n",
       "      <th>3</th>\n",
       "      <td>1/4/10 15:00</td>\n",
       "      <td>4.10</td>\n",
       "      <td>10273.567000</td>\n",
       "    </tr>\n",
       "    <tr>\n",
       "      <th>4</th>\n",
       "      <td>1/5/10 15:00</td>\n",
       "      <td>3.10</td>\n",
       "      <td>10317.801170</td>\n",
       "    </tr>\n",
       "    <tr>\n",
       "      <th>...</th>\n",
       "      <td>...</td>\n",
       "      <td>...</td>\n",
       "      <td>...</td>\n",
       "    </tr>\n",
       "    <tr>\n",
       "      <th>2352</th>\n",
       "      <td>6/26/16 15:00</td>\n",
       "      <td>31.60</td>\n",
       "      <td>16588.555300</td>\n",
       "    </tr>\n",
       "    <tr>\n",
       "      <th>2353</th>\n",
       "      <td>6/27/16 15:00</td>\n",
       "      <td>31.60</td>\n",
       "      <td>18056.292190</td>\n",
       "    </tr>\n",
       "    <tr>\n",
       "      <th>2354</th>\n",
       "      <td>6/28/16 15:00</td>\n",
       "      <td>31.60</td>\n",
       "      <td>16908.966850</td>\n",
       "    </tr>\n",
       "    <tr>\n",
       "      <th>2355</th>\n",
       "      <td>6/29/16 15:00</td>\n",
       "      <td>29.35</td>\n",
       "      <td>17397.014410</td>\n",
       "    </tr>\n",
       "    <tr>\n",
       "      <th>2356</th>\n",
       "      <td>6/30/16 15:00</td>\n",
       "      <td>31.10</td>\n",
       "      <td>17893.895700</td>\n",
       "    </tr>\n",
       "  </tbody>\n",
       "</table>\n",
       "<p>2357 rows × 3 columns</p>\n",
       "</div>"
      ],
      "text/plain": [
       "               Time   KHOU         COAST\n",
       "0      1/1/10 15:00   7.10   8222.029420\n",
       "1      1/2/10 15:00   9.10   8379.872342\n",
       "2      1/3/10 15:00   6.10   8679.087157\n",
       "3      1/4/10 15:00   4.10  10273.567000\n",
       "4      1/5/10 15:00   3.10  10317.801170\n",
       "...             ...    ...           ...\n",
       "2352  6/26/16 15:00  31.60  16588.555300\n",
       "2353  6/27/16 15:00  31.60  18056.292190\n",
       "2354  6/28/16 15:00  31.60  16908.966850\n",
       "2355  6/29/16 15:00  29.35  17397.014410\n",
       "2356  6/30/16 15:00  31.10  17893.895700\n",
       "\n",
       "[2357 rows x 3 columns]"
      ]
     },
     "execution_count": 5,
     "metadata": {},
     "output_type": "execute_result"
    }
   ],
   "source": [
    "loadhou"
   ]
  },
  {
   "cell_type": "code",
   "execution_count": 8,
   "metadata": {},
   "outputs": [],
   "source": [
    "N = loadhou.shape[0]\n",
    "N_train = int(np.floor(0.8 * N))\n",
    "\n",
    "np.random.seed(123)  # set the random seed for reproducibility\n",
    "train_ind = np.sort(np.random.choice(N, N_train, replace=False))\n",
    "\n",
    "D_train = loadhou.loc[train_ind, :]\n",
    "D_test = loadhou.loc[~loadhou.index.isin(train_ind), :]\n",
    "\n",
    "D_test = D_test.sort_values('KHOU')"
   ]
  },
  {
   "cell_type": "code",
   "execution_count": 7,
   "metadata": {},
   "outputs": [
    {
     "data": {
      "text/plain": [
       "1885"
      ]
     },
     "execution_count": 7,
     "metadata": {},
     "output_type": "execute_result"
    }
   ],
   "source": [
    "N_train"
   ]
  },
  {
   "cell_type": "code",
   "execution_count": 9,
   "metadata": {},
   "outputs": [],
   "source": [
    "X_train = D_train['KHOU'][:,None]\n",
    "y_train = D_train['COAST']\n",
    "\n",
    "X_test = D_test['KHOU'][:,None]\n",
    "y_test = D_test['COAST']"
   ]
  },
  {
   "attachments": {},
   "cell_type": "markdown",
   "metadata": {},
   "source": [
    "### fit a linear model as baseline"
   ]
  },
  {
   "cell_type": "code",
   "execution_count": 10,
   "metadata": {},
   "outputs": [
    {
     "name": "stdout",
     "output_type": "stream",
     "text": [
      "2535.5674192085226\n"
     ]
    }
   ],
   "source": [
    "import statsmodels.api as sm\n",
    "lm1 = sm.OLS(y_train, X_train).fit()\n",
    "\n",
    "y_pred = lm1.predict(X_test)\n",
    "\n",
    "lm1_rmse = np.sqrt(mean_squared_error(y_test, y_pred))\n",
    "print(lm1_rmse)"
   ]
  },
  {
   "attachments": {},
   "cell_type": "markdown",
   "metadata": {},
   "source": [
    "### Train the KNN model and calculate RMSE on the test set"
   ]
  },
  {
   "cell_type": "code",
   "execution_count": 11,
   "metadata": {},
   "outputs": [
    {
     "name": "stdout",
     "output_type": "stream",
     "text": [
      "999.6760278194722\n"
     ]
    }
   ],
   "source": [
    "knn_model = KNeighborsRegressor(n_neighbors=25)\n",
    "knn_model.fit(X_train, y_train)\n",
    "y_pred = knn_model.predict(X_test)\n",
    "\n",
    "knn_rmse = np.sqrt(mean_squared_error(y_test, y_pred))\n",
    "print(knn_rmse)"
   ]
  },
  {
   "attachments": {},
   "cell_type": "markdown",
   "metadata": {},
   "source": [
    "### KNN  check performance across a variety of choices for K"
   ]
  },
  {
   "cell_type": "code",
   "execution_count": 13,
   "metadata": {},
   "outputs": [
    {
     "data": {
      "text/plain": [
       "[2,\n",
       " 3,\n",
       " 4,\n",
       " 5,\n",
       " 6,\n",
       " 7,\n",
       " 8,\n",
       " 9,\n",
       " 10,\n",
       " 11,\n",
       " 12,\n",
       " 13,\n",
       " 14,\n",
       " 15,\n",
       " 16,\n",
       " 17,\n",
       " 18,\n",
       " 19,\n",
       " 21,\n",
       " 22,\n",
       " 24,\n",
       " 25,\n",
       " 27,\n",
       " 29,\n",
       " 31,\n",
       " 33,\n",
       " 35,\n",
       " 38,\n",
       " 41,\n",
       " 43,\n",
       " 46,\n",
       " 50,\n",
       " 53,\n",
       " 57,\n",
       " 61,\n",
       " 65,\n",
       " 69,\n",
       " 74,\n",
       " 79,\n",
       " 85,\n",
       " 90,\n",
       " 97,\n",
       " 103,\n",
       " 111,\n",
       " 118,\n",
       " 126,\n",
       " 135,\n",
       " 144,\n",
       " 154,\n",
       " 165,\n",
       " 177,\n",
       " 189,\n",
       " 202,\n",
       " 216,\n",
       " 231,\n",
       " 247,\n",
       " 264,\n",
       " 282,\n",
       " 301,\n",
       " 322,\n",
       " 344,\n",
       " 368,\n",
       " 394,\n",
       " 421,\n",
       " 450,\n",
       " 481,\n",
       " 515,\n",
       " 550,\n",
       " 588,\n",
       " 629,\n",
       " 672,\n",
       " 719,\n",
       " 769,\n",
       " 822,\n",
       " 879,\n",
       " 939,\n",
       " 1004,\n",
       " 1074,\n",
       " 1148,\n",
       " 1227,\n",
       " 1312,\n",
       " 1403,\n",
       " 1500]"
      ]
     },
     "execution_count": 13,
     "metadata": {},
     "output_type": "execute_result"
    }
   ],
   "source": [
    "k_grid"
   ]
  },
  {
   "cell_type": "code",
   "execution_count": 12,
   "metadata": {},
   "outputs": [],
   "source": [
    "\n",
    "k_grid = np.unique(np.round(np.exp(np.linspace(np.log(1500), np.log(2), num=100))))\n",
    "k_grid = [int(_) for _ in k_grid]\n",
    "\n",
    "rmse_grid_out = []\n",
    "for k in k_grid:\n",
    "    knn_model = KNeighborsRegressor(n_neighbors=k)\n",
    "    knn_model.fit(X_train, y_train)\n",
    "    y_pred = knn_model.predict(X_test)\n",
    "    rmse = np.sqrt(mean_squared_error(y_test, y_pred))\n",
    "    rmse_grid_out.append(rmse)\n",
    "\n",
    "rmse_grid_out = pd.DataFrame({'K': k_grid, 'RMSE': rmse_grid_out})\n"
   ]
  },
  {
   "cell_type": "code",
   "execution_count": 15,
   "metadata": {},
   "outputs": [],
   "source": [
    "ind_best = np.argmin(rmse_grid_out['RMSE'])\n",
    "k_best = k_grid[ind_best]"
   ]
  },
  {
   "cell_type": "code",
   "execution_count": 16,
   "metadata": {},
   "outputs": [
    {
     "data": {
      "text/plain": [
       "46"
      ]
     },
     "execution_count": 16,
     "metadata": {},
     "output_type": "execute_result"
    }
   ],
   "source": [
    "k_best"
   ]
  },
  {
   "cell_type": "code",
   "execution_count": 14,
   "metadata": {},
   "outputs": [
    {
     "data": {
      "text/html": [
       "<div>\n",
       "<style scoped>\n",
       "    .dataframe tbody tr th:only-of-type {\n",
       "        vertical-align: middle;\n",
       "    }\n",
       "\n",
       "    .dataframe tbody tr th {\n",
       "        vertical-align: top;\n",
       "    }\n",
       "\n",
       "    .dataframe thead th {\n",
       "        text-align: right;\n",
       "    }\n",
       "</style>\n",
       "<table border=\"1\" class=\"dataframe\">\n",
       "  <thead>\n",
       "    <tr style=\"text-align: right;\">\n",
       "      <th></th>\n",
       "      <th>K</th>\n",
       "      <th>RMSE</th>\n",
       "    </tr>\n",
       "  </thead>\n",
       "  <tbody>\n",
       "    <tr>\n",
       "      <th>0</th>\n",
       "      <td>2</td>\n",
       "      <td>1314.625433</td>\n",
       "    </tr>\n",
       "    <tr>\n",
       "      <th>1</th>\n",
       "      <td>3</td>\n",
       "      <td>1233.870110</td>\n",
       "    </tr>\n",
       "    <tr>\n",
       "      <th>2</th>\n",
       "      <td>4</td>\n",
       "      <td>1164.823746</td>\n",
       "    </tr>\n",
       "    <tr>\n",
       "      <th>3</th>\n",
       "      <td>5</td>\n",
       "      <td>1116.595359</td>\n",
       "    </tr>\n",
       "    <tr>\n",
       "      <th>4</th>\n",
       "      <td>6</td>\n",
       "      <td>1081.516946</td>\n",
       "    </tr>\n",
       "  </tbody>\n",
       "</table>\n",
       "</div>"
      ],
      "text/plain": [
       "   K         RMSE\n",
       "0  2  1314.625433\n",
       "1  3  1233.870110\n",
       "2  4  1164.823746\n",
       "3  5  1116.595359\n",
       "4  6  1081.516946"
      ]
     },
     "execution_count": 14,
     "metadata": {},
     "output_type": "execute_result"
    }
   ],
   "source": [
    "rmse_grid_out.head()"
   ]
  },
  {
   "cell_type": "code",
   "execution_count": 10,
   "metadata": {},
   "outputs": [
    {
     "data": {
      "image/png": "[encoded data removed]",
      "text/plain": [
       "<Figure size 640x480 with 1 Axes>"
      ]
     },
     "metadata": {},
     "output_type": "display_data"
    }
   ],
   "source": [
    "plt.figure()\n",
    "plt.plot(rmse_grid_out['K'], rmse_grid_out['RMSE'], linewidth=1, color='black')\n",
    "plt.xscale('log')\n",
    "plt.ylim(700, 2700)\n",
    "plt.axhline(y=lm1_rmse, color='blue', linewidth=1, label='Linear regression')\n",
    "plt.axvline(x=k_best, color='darkgreen', linewidth=1, label='KNN')\n",
    "plt.xlabel('K')\n",
    "plt.ylabel('RMSE')\n",
    "plt.legend()\n",
    "plt.show()"
   ]
  },
  {
   "attachments": {},
   "cell_type": "markdown",
   "metadata": {},
   "source": [
    "### K-nearest neighbors: at the optimal k "
   ]
  },
  {
   "cell_type": "code",
   "execution_count": 17,
   "metadata": {},
   "outputs": [
    {
     "data": {
      "image/png": "[encoded data removed]",
      "text/plain": [
       "<Figure size 640x480 with 1 Axes>"
      ]
     },
     "metadata": {},
     "output_type": "display_data"
    }
   ],
   "source": [
    "knn_model = KNeighborsRegressor(n_neighbors=k_best)\n",
    "knn_model.fit(X_train, y_train)\n",
    "y_pred = knn_model.predict(X_test)\n",
    "rmse_best = np.sqrt(mean_squared_error(y_test, y_pred))\n",
    "\n",
    "D_test['ypred'] = y_pred\n",
    "\n",
    "p_test = plt.figure()\n",
    "plt.scatter(D_test['KHOU'], D_test['COAST'], color='lightgrey')\n",
    "plt.plot(D_test['KHOU'], D_test['ypred'], color='red', linewidth=1.5)\n",
    "plt.ylim(7000, 20000)\n",
    "plt.xlabel('KHOU')\n",
    "plt.ylabel('COAST')\n",
    "plt.show()"
   ]
  },
  {
   "cell_type": "code",
   "execution_count": null,
   "metadata": {},
   "outputs": [],
   "source": []
  }
 ],
 "metadata": {
  "kernelspec": {
   "display_name": "base",
   "language": "python",
   "name": "python3"
  },
  "language_info": {
   "codemirror_mode": {
    "name": "ipython",
    "version": 3
   },
   "file_extension": ".py",
   "mimetype": "text/x-python",
   "name": "python",
   "nbconvert_exporter": "python",
   "pygments_lexer": "ipython3",
   "version": "3.9.13"
  },
  "orig_nbformat": 4,
  "vscode": {
   "interpreter": {
    "hash": "6493d78ee9c74ef6e256008e984005d403b900fa83abf15bc9da3adad0ade6c1"
   }
  }
 },
 "nbformat": 4,
 "nbformat_minor": 2
}
