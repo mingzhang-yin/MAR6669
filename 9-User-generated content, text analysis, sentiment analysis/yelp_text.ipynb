{
 "cells": [
  {
   "cell_type": "code",
   "execution_count": 1,
   "metadata": {},
   "outputs": [],
   "source": [
    "import json\n",
    "from pandas import DataFrame\n",
    "import numpy as np\n",
    "import matplotlib.pyplot as plt\n",
    "import seaborn as sns\n",
    "import pandas as pd\n",
    "import re\n"
   ]
  },
  {
   "cell_type": "code",
   "execution_count": 41,
   "metadata": {},
   "outputs": [
    {
     "data": {
      "text/plain": [
       "Index(['review_id', 'user_id', 'business_id', 'stars', 'useful', 'funny',\n",
       "       'cool', 'text', 'date'],\n",
       "      dtype='object')"
      ]
     },
     "execution_count": 41,
     "metadata": {},
     "output_type": "execute_result"
    }
   ],
   "source": [
    "file = '/Users/mingzhangyin/Downloads/yelp_dataset/yelp_academic_dataset_review.json'\n",
    "open(file)\n",
    "k = 0\n",
    "review_records = []\n",
    "num = 300000\n",
    "for line in open(file):\n",
    "    if k>num:\n",
    "        break\n",
    "    review_records.append(json.loads(line))\n",
    "    k +=1\n",
    "    \n",
    "with open(file) as files:\n",
    "    for line in (files.readlines()[-num:]):\n",
    "        review_records.append(json.loads(line))\n",
    "\n",
    "review_records_frame = DataFrame(review_records)\n",
    "ids = list(review_records_frame.business_id)"
   ]
  },
  {
   "cell_type": "code",
   "execution_count": 46,
   "metadata": {},
   "outputs": [],
   "source": [
    "file = '/Users/mingzhangyin/Downloads/yelp_dataset/yelp_academic_dataset_business.json'\n",
    "buisess_records = [json.loads(line) for line in open(file)]\n",
    "buisess_records_frame = DataFrame(buisess_records)\n",
    "a = dict(zip(buisess_records_frame.business_id, buisess_records_frame.categories))\n",
    "types = [a[i] for i in ids]\n",
    "rest_id = []\n",
    "for i in types:\n",
    "    rest_id.append('Restaurant' in str(i))"
   ]
  },
  {
   "cell_type": "code",
   "execution_count": 48,
   "metadata": {},
   "outputs": [],
   "source": [
    "select_reviews = review_records_frame[rest_id] # select reviews only for restaurants\n",
    "select_reviews.shape"
   ]
  },
  {
   "cell_type": "code",
   "execution_count": 50,
   "metadata": {},
   "outputs": [],
   "source": [
    "review_df = select_reviews[['text', 'date']]\n",
    "del(review_records_frame)"
   ]
  },
  {
   "cell_type": "code",
   "execution_count": 51,
   "metadata": {},
   "outputs": [
    {
     "name": "stderr",
     "output_type": "stream",
     "text": [
      "/var/folders/b6/dnmgz4v90qndj_wtz10vd5rm0000gn/T/ipykernel_45560/2540852332.py:1: SettingWithCopyWarning: \n",
      "A value is trying to be set on a copy of a slice from a DataFrame.\n",
      "Try using .loc[row_indexer,col_indexer] = value instead\n",
      "\n",
      "See the caveats in the documentation: https://pandas.pydata.org/pandas-docs/stable/user_guide/indexing.html#returning-a-view-versus-a-copy\n",
      "  review_df['time'] = pd.to_datetime(review_df['date'])\n"
     ]
    }
   ],
   "source": [
    "review_df['time'] = pd.to_datetime(review_df['date'])"
   ]
  },
  {
   "cell_type": "code",
   "execution_count": 54,
   "metadata": {},
   "outputs": [
    {
     "data": {
      "text/plain": [
       "<AxesSubplot:>"
      ]
     },
     "execution_count": 54,
     "metadata": {},
     "output_type": "execute_result"
    },
    {
     "data": {
      "image/png": "[encoded data removed]",
      "text/plain": [
       "<Figure size 720x360 with 1 Axes>"
      ]
     },
     "metadata": {
      "needs_background": "light"
     },
     "output_type": "display_data"
    }
   ],
   "source": [
    "plt.figure(figsize=(10, 5))\n",
    "review_df[\"time\"].hist()"
   ]
  },
  {
   "attachments": {},
   "cell_type": "markdown",
   "metadata": {},
   "source": [
    "### Sample 1000 reviews for every half a year"
   ]
  },
  {
   "cell_type": "code",
   "execution_count": 56,
   "metadata": {},
   "outputs": [],
   "source": [
    "time_list = ['2014-07-01','2015-01-01', '2015-07-01', '2016-01-01', '2016-07-01', '2017-01-01', '2017-07-01', '2018-01-01', '2018-07-01', '2019-01-01', '2019-07-01', '2020-01-01', '2020-07-01', '2021-01-01', '2021-07-01', '2022-01-01']\n",
    "time_list = [pd.to_datetime(_) for _ in time_list]"
   ]
  },
  {
   "cell_type": "code",
   "execution_count": 57,
   "metadata": {},
   "outputs": [
    {
     "data": {
      "text/plain": [
       "Timestamp('2018-07-07 22:09:11')"
      ]
     },
     "execution_count": 57,
     "metadata": {},
     "output_type": "execute_result"
    }
   ],
   "source": [
    "review_df['time'][0]"
   ]
  },
  {
   "cell_type": "code",
   "execution_count": 58,
   "metadata": {},
   "outputs": [],
   "source": [
    "txt_dic = {}\n",
    "for i in range(len(time_list)-1):\n",
    "    txt = review_df['text'][(review_df['time']>time_list[i]) & (review_df['time']<time_list[i+1])].sample(1000)\n",
    "    txt_dic[str(time_list[i])[:10]] = txt\n",
    "    "
   ]
  },
  {
   "attachments": {},
   "cell_type": "markdown",
   "metadata": {},
   "source": [
    "### preprocessing"
   ]
  },
  {
   "cell_type": "code",
   "execution_count": 91,
   "metadata": {},
   "outputs": [],
   "source": [
    "from nltk.corpus import stopwords\n",
    "from nltk.tokenize import word_tokenize\n",
    "import nltk\n",
    "from nltk.stem import WordNetLemmatizer\n",
    "import re\n",
    "import string\n",
    "stop_words = set(stopwords.words('english'))\n",
    "lemmatizer=WordNetLemmatizer()"
   ]
  },
  {
   "attachments": {},
   "cell_type": "markdown",
   "metadata": {},
   "source": [
    "### pre-inflation"
   ]
  },
  {
   "cell_type": "code",
   "execution_count": 184,
   "metadata": {},
   "outputs": [
    {
     "data": {
      "text/plain": [
       "\"Was in the mood for some biscuits and gravy this morning as i headed down keystone ave.  What better place than this hole in the wall little diner at 53rd and keystone.  Tucked back into the plaza, i walked into friendly faces, tables if what appeared to be regulars starting their day early with a gathering at the diner.\\n\\nSolid biscuits and gravy (they arent afraid to add a little pepper ) and hash browns with a coffee cup that stays full.  Random stop this morning...  i'll be back..\""
      ]
     },
     "execution_count": 184,
     "metadata": {},
     "output_type": "execute_result"
    }
   ],
   "source": [
    "txt = list(txt_dic['2019-07-01'])\n",
    "txt[0]"
   ]
  },
  {
   "cell_type": "code",
   "execution_count": 185,
   "metadata": {},
   "outputs": [
    {
     "data": {
      "text/plain": [
       "'mood biscuit gravy morning headed keystone ave better place hole wall little diner rd keystone tucked back plaza walked friendly face table appeared regular starting day early gathering diner solid biscuit gravy arent afraid add little pepper hash brown coffee cup stay full random stop morning ill back'"
      ]
     },
     "execution_count": 185,
     "metadata": {},
     "output_type": "execute_result"
    }
   ],
   "source": [
    "txt_clean = []\n",
    "for i in range(len(txt)):    \n",
    "    txt[i] = re.sub(r'\\d+', '', txt[i]) # remove numbers\n",
    "    txt[i] = txt[i].lower()     # lower case\n",
    "    txt[i] = txt[i].translate(str.maketrans('', '', string.punctuation)) # remove punctuation\n",
    "    txt[i] = txt[i].strip() # remove white space\n",
    "    tokens = word_tokenize(txt[i]) # tokenize\n",
    "    remove_stop = [lemmatizer.lemmatize(i) for i in tokens if not i in stop_words] # remove stop words and lemmatize\n",
    "    txt_clean.append(' '.join(remove_stop))\n",
    "txt_clean[0]"
   ]
  },
  {
   "cell_type": "code",
   "execution_count": 119,
   "metadata": {},
   "outputs": [],
   "source": [
    "from bertopic import BERTopic\n",
    "#from utils import *\n",
    "\n",
    "topic_model = BERTopic(nr_topics=\"auto\", diversity=0.2)\n",
    "topics, probs = topic_model.fit_transform(txt_clean)"
   ]
  },
  {
   "cell_type": "code",
   "execution_count": 120,
   "metadata": {},
   "outputs": [
    {
     "data": {
      "text/html": [
       "<div>\n",
       "<style scoped>\n",
       "    .dataframe tbody tr th:only-of-type {\n",
       "        vertical-align: middle;\n",
       "    }\n",
       "\n",
       "    .dataframe tbody tr th {\n",
       "        vertical-align: top;\n",
       "    }\n",
       "\n",
       "    .dataframe thead th {\n",
       "        text-align: right;\n",
       "    }\n",
       "</style>\n",
       "<table border=\"1\" class=\"dataframe\">\n",
       "  <thead>\n",
       "    <tr style=\"text-align: right;\">\n",
       "      <th></th>\n",
       "      <th>Topic</th>\n",
       "      <th>Count</th>\n",
       "      <th>Name</th>\n",
       "    </tr>\n",
       "  </thead>\n",
       "  <tbody>\n",
       "    <tr>\n",
       "      <th>0</th>\n",
       "      <td>-1</td>\n",
       "      <td>415</td>\n",
       "      <td>-1_food_place_service_menu</td>\n",
       "    </tr>\n",
       "    <tr>\n",
       "      <th>1</th>\n",
       "      <td>0</td>\n",
       "      <td>137</td>\n",
       "      <td>0_order_manager_minute_service</td>\n",
       "    </tr>\n",
       "    <tr>\n",
       "      <th>2</th>\n",
       "      <td>1</td>\n",
       "      <td>87</td>\n",
       "      <td>1_place_bar_beer_service</td>\n",
       "    </tr>\n",
       "    <tr>\n",
       "      <th>3</th>\n",
       "      <td>2</td>\n",
       "      <td>66</td>\n",
       "      <td>2_pizza_italian_place_pasta</td>\n",
       "    </tr>\n",
       "    <tr>\n",
       "      <th>4</th>\n",
       "      <td>3</td>\n",
       "      <td>54</td>\n",
       "      <td>3_shrimp_crab_sushi_food</td>\n",
       "    </tr>\n",
       "    <tr>\n",
       "      <th>5</th>\n",
       "      <td>4</td>\n",
       "      <td>44</td>\n",
       "      <td>4_cheese_food_ordered_sauce</td>\n",
       "    </tr>\n",
       "    <tr>\n",
       "      <th>6</th>\n",
       "      <td>5</td>\n",
       "      <td>34</td>\n",
       "      <td>5_bbq_beer_rib_brisket</td>\n",
       "    </tr>\n",
       "    <tr>\n",
       "      <th>7</th>\n",
       "      <td>6</td>\n",
       "      <td>30</td>\n",
       "      <td>6_taco_mexican_tamale_queso</td>\n",
       "    </tr>\n",
       "    <tr>\n",
       "      <th>8</th>\n",
       "      <td>7</td>\n",
       "      <td>26</td>\n",
       "      <td>7_nashville_biscuit_chicken_fried</td>\n",
       "    </tr>\n",
       "    <tr>\n",
       "      <th>9</th>\n",
       "      <td>8</td>\n",
       "      <td>20</td>\n",
       "      <td>8_thai_curry_dish_pad</td>\n",
       "    </tr>\n",
       "    <tr>\n",
       "      <th>10</th>\n",
       "      <td>9</td>\n",
       "      <td>20</td>\n",
       "      <td>9_brunch_benedict_biscuit_lunch</td>\n",
       "    </tr>\n",
       "    <tr>\n",
       "      <th>11</th>\n",
       "      <td>10</td>\n",
       "      <td>20</td>\n",
       "      <td>10_chicken_delivery_order_oil</td>\n",
       "    </tr>\n",
       "    <tr>\n",
       "      <th>12</th>\n",
       "      <td>11</td>\n",
       "      <td>19</td>\n",
       "      <td>11_place_food_recommend_area</td>\n",
       "    </tr>\n",
       "    <tr>\n",
       "      <th>13</th>\n",
       "      <td>12</td>\n",
       "      <td>16</td>\n",
       "      <td>12_vegan_menu_delicious_crepe</td>\n",
       "    </tr>\n",
       "    <tr>\n",
       "      <th>14</th>\n",
       "      <td>13</td>\n",
       "      <td>12</td>\n",
       "      <td>13_food_staff_server_friendly</td>\n",
       "    </tr>\n",
       "  </tbody>\n",
       "</table>\n",
       "</div>"
      ],
      "text/plain": [
       "    Topic  Count                               Name\n",
       "0      -1    415         -1_food_place_service_menu\n",
       "1       0    137     0_order_manager_minute_service\n",
       "2       1     87           1_place_bar_beer_service\n",
       "3       2     66        2_pizza_italian_place_pasta\n",
       "4       3     54           3_shrimp_crab_sushi_food\n",
       "5       4     44        4_cheese_food_ordered_sauce\n",
       "6       5     34             5_bbq_beer_rib_brisket\n",
       "7       6     30        6_taco_mexican_tamale_queso\n",
       "8       7     26  7_nashville_biscuit_chicken_fried\n",
       "9       8     20              8_thai_curry_dish_pad\n",
       "10      9     20    9_brunch_benedict_biscuit_lunch\n",
       "11     10     20      10_chicken_delivery_order_oil\n",
       "12     11     19       11_place_food_recommend_area\n",
       "13     12     16      12_vegan_menu_delicious_crepe\n",
       "14     13     12      13_food_staff_server_friendly"
      ]
     },
     "execution_count": 120,
     "metadata": {},
     "output_type": "execute_result"
    }
   ],
   "source": [
    "topic_model.get_topic_info()"
   ]
  },
  {
   "cell_type": "code",
   "execution_count": 121,
   "metadata": {},
   "outputs": [
    {
     "data": {
      "text/plain": [
       "[('order', 0.029095501542863972),\n",
       " ('manager', 0.0233779420444587),\n",
       " ('minute', 0.022180767751165318),\n",
       " ('service', 0.02107493103492249),\n",
       " ('customer', 0.017343256761099792),\n",
       " ('table', 0.016167592847406573),\n",
       " ('drink', 0.015801245047346448),\n",
       " ('didnt', 0.015187712347756125),\n",
       " ('rude', 0.015128197909641452),\n",
       " ('restaurant', 0.013641112455260982)]"
      ]
     },
     "execution_count": 121,
     "metadata": {},
     "output_type": "execute_result"
    }
   ],
   "source": [
    "topic_model.get_topic(0)"
   ]
  },
  {
   "cell_type": "code",
   "execution_count": 122,
   "metadata": {},
   "outputs": [
    {
     "data": {
      "text/plain": [
       "[('place', 0.03123214301842017),\n",
       " ('bar', 0.022707617072018862),\n",
       " ('beer', 0.021233701774834253),\n",
       " ('service', 0.02016039887738755),\n",
       " ('fun', 0.019613965052334096),\n",
       " ('awesome', 0.015169036294266209),\n",
       " ('around', 0.014428343043110973),\n",
       " ('reno', 0.014000682045635834),\n",
       " ('friendly', 0.014000204285018721),\n",
       " ('boat', 0.013486931965559352)]"
      ]
     },
     "execution_count": 122,
     "metadata": {},
     "output_type": "execute_result"
    }
   ],
   "source": [
    "topic_model.get_topic(1)"
   ]
  },
  {
   "attachments": {},
   "cell_type": "markdown",
   "metadata": {},
   "source": [
    "### guided topic model"
   ]
  },
  {
   "cell_type": "code",
   "execution_count": 186,
   "metadata": {},
   "outputs": [],
   "source": [
    "seed_topic_list = [[\"service\", \"waiter\",  \"manager\", \"quality\", \"attitude\"],\n",
    "                   [\"price\", \"dollar\", \"tip\",\"menu\",'expensive', 'cheap', 'worth']]\n",
    "topic_model = BERTopic(seed_topic_list=seed_topic_list, top_n_words=20, nr_topics=20)\n",
    "topics, probs = topic_model.fit_transform(txt_clean)"
   ]
  },
  {
   "cell_type": "code",
   "execution_count": 187,
   "metadata": {},
   "outputs": [
    {
     "data": {
      "text/html": [
       "<div>\n",
       "<style scoped>\n",
       "    .dataframe tbody tr th:only-of-type {\n",
       "        vertical-align: middle;\n",
       "    }\n",
       "\n",
       "    .dataframe tbody tr th {\n",
       "        vertical-align: top;\n",
       "    }\n",
       "\n",
       "    .dataframe thead th {\n",
       "        text-align: right;\n",
       "    }\n",
       "</style>\n",
       "<table border=\"1\" class=\"dataframe\">\n",
       "  <thead>\n",
       "    <tr style=\"text-align: right;\">\n",
       "      <th></th>\n",
       "      <th>Topic</th>\n",
       "      <th>Count</th>\n",
       "      <th>Name</th>\n",
       "    </tr>\n",
       "  </thead>\n",
       "  <tbody>\n",
       "    <tr>\n",
       "      <th>0</th>\n",
       "      <td>-1</td>\n",
       "      <td>496</td>\n",
       "      <td>-1_food_place_good_great</td>\n",
       "    </tr>\n",
       "    <tr>\n",
       "      <th>1</th>\n",
       "      <td>0</td>\n",
       "      <td>19</td>\n",
       "      <td>0_vegan_vegetarian_menu_option</td>\n",
       "    </tr>\n",
       "    <tr>\n",
       "      <th>2</th>\n",
       "      <td>1</td>\n",
       "      <td>61</td>\n",
       "      <td>1_pizza_italian_place_pasta</td>\n",
       "    </tr>\n",
       "    <tr>\n",
       "      <th>3</th>\n",
       "      <td>2</td>\n",
       "      <td>25</td>\n",
       "      <td>2_nashville_biscuit_cheese_line</td>\n",
       "    </tr>\n",
       "    <tr>\n",
       "      <th>4</th>\n",
       "      <td>3</td>\n",
       "      <td>50</td>\n",
       "      <td>3_beer_bbq_great_burger</td>\n",
       "    </tr>\n",
       "    <tr>\n",
       "      <th>5</th>\n",
       "      <td>4</td>\n",
       "      <td>117</td>\n",
       "      <td>4_manager_order_food_service</td>\n",
       "    </tr>\n",
       "    <tr>\n",
       "      <th>6</th>\n",
       "      <td>5</td>\n",
       "      <td>32</td>\n",
       "      <td>5_taco_mexican_tamale_queso</td>\n",
       "    </tr>\n",
       "    <tr>\n",
       "      <th>7</th>\n",
       "      <td>6</td>\n",
       "      <td>49</td>\n",
       "      <td>6_crab_shrimp_great_roll</td>\n",
       "    </tr>\n",
       "    <tr>\n",
       "      <th>8</th>\n",
       "      <td>7</td>\n",
       "      <td>20</td>\n",
       "      <td>7_thai_curry_dish_tom</td>\n",
       "    </tr>\n",
       "    <tr>\n",
       "      <th>9</th>\n",
       "      <td>8</td>\n",
       "      <td>14</td>\n",
       "      <td>8_closed_food_service_restaurant</td>\n",
       "    </tr>\n",
       "    <tr>\n",
       "      <th>10</th>\n",
       "      <td>9</td>\n",
       "      <td>17</td>\n",
       "      <td>9_brunch_benedict_breakfast_lunch</td>\n",
       "    </tr>\n",
       "    <tr>\n",
       "      <th>11</th>\n",
       "      <td>10</td>\n",
       "      <td>14</td>\n",
       "      <td>10_great_service_music_fantastic</td>\n",
       "    </tr>\n",
       "    <tr>\n",
       "      <th>12</th>\n",
       "      <td>11</td>\n",
       "      <td>35</td>\n",
       "      <td>11_beer_bar_drink_place</td>\n",
       "    </tr>\n",
       "    <tr>\n",
       "      <th>13</th>\n",
       "      <td>12</td>\n",
       "      <td>19</td>\n",
       "      <td>12_chicken_delivery_ordered_oil</td>\n",
       "    </tr>\n",
       "    <tr>\n",
       "      <th>14</th>\n",
       "      <td>13</td>\n",
       "      <td>32</td>\n",
       "      <td>13_like_food_cheese_good</td>\n",
       "    </tr>\n",
       "  </tbody>\n",
       "</table>\n",
       "</div>"
      ],
      "text/plain": [
       "    Topic  Count                               Name\n",
       "0      -1    496           -1_food_place_good_great\n",
       "1       0     19     0_vegan_vegetarian_menu_option\n",
       "2       1     61        1_pizza_italian_place_pasta\n",
       "3       2     25    2_nashville_biscuit_cheese_line\n",
       "4       3     50            3_beer_bbq_great_burger\n",
       "5       4    117       4_manager_order_food_service\n",
       "6       5     32        5_taco_mexican_tamale_queso\n",
       "7       6     49           6_crab_shrimp_great_roll\n",
       "8       7     20              7_thai_curry_dish_tom\n",
       "9       8     14   8_closed_food_service_restaurant\n",
       "10      9     17  9_brunch_benedict_breakfast_lunch\n",
       "11     10     14   10_great_service_music_fantastic\n",
       "12     11     35            11_beer_bar_drink_place\n",
       "13     12     19    12_chicken_delivery_ordered_oil\n",
       "14     13     32           13_like_food_cheese_good"
      ]
     },
     "execution_count": 187,
     "metadata": {},
     "output_type": "execute_result"
    }
   ],
   "source": [
    "topic_model.get_topic_info()"
   ]
  },
  {
   "cell_type": "code",
   "execution_count": 189,
   "metadata": {},
   "outputs": [
    {
     "data": {
      "text/plain": [
       "[('manager', 0.030397407186182345),\n",
       " ('order', 0.02913538526408003),\n",
       " ('food', 0.025128415100367882),\n",
       " ('service', 0.02503464119756669),\n",
       " ('asked', 0.024486150964083866),\n",
       " ('said', 0.024320602998744775),\n",
       " ('minute', 0.023052995726173243),\n",
       " ('one', 0.022254865090672028),\n",
       " ('time', 0.022004206669717783),\n",
       " ('came', 0.021718863516932967),\n",
       " ('back', 0.019763317445808726),\n",
       " ('get', 0.01870519537435858),\n",
       " ('customer', 0.01840078248884209),\n",
       " ('people', 0.017593627701219625),\n",
       " ('rude', 0.01683635432196635),\n",
       " ('didnt', 0.016699757595634874),\n",
       " ('would', 0.01643673670462331),\n",
       " ('went', 0.015724176424204928),\n",
       " ('table', 0.01543808796157038),\n",
       " ('drink', 0.015311563938370874)]"
      ]
     },
     "execution_count": 189,
     "metadata": {},
     "output_type": "execute_result"
    }
   ],
   "source": [
    "topic_model.get_topic(4)"
   ]
  },
  {
   "cell_type": "code",
   "execution_count": 190,
   "metadata": {},
   "outputs": [
    {
     "data": {
      "application/vnd.plotly.v1+json": {
       "config": {
        "plotlyServerURL": "https://plot.ly"
       },
       "data": [
        {
         "marker": {
          "color": "#D55E00"
         },
         "orientation": "h",
         "type": "bar",
         "x": [
          0.02795470363320965,
          0.02989975254227665,
          0.03503069919841762,
          0.04040755672233809,
          0.11900966922127063
         ],
         "xaxis": "x",
         "y": [
          "sauce  ",
          "pasta  ",
          "place  ",
          "italian  ",
          "pizza  "
         ],
         "yaxis": "y"
        },
        {
         "marker": {
          "color": "#0072B2"
         },
         "orientation": "h",
         "type": "bar",
         "x": [
          0.025322513277980227,
          0.025445882383867996,
          0.026784536246370075,
          0.028796316242390967,
          0.08745026808084261
         ],
         "xaxis": "x2",
         "y": [
          "chicken  ",
          "line  ",
          "cheese  ",
          "biscuit  ",
          "nashville  "
         ],
         "yaxis": "y2"
        },
        {
         "marker": {
          "color": "#CC79A7"
         },
         "orientation": "h",
         "type": "bar",
         "x": [
          0.03740077546626505,
          0.03895346955788079,
          0.04066649321807871,
          0.04456571438666859,
          0.04869183694735099
         ],
         "xaxis": "x3",
         "y": [
          "good  ",
          "burger  ",
          "great  ",
          "bbq  ",
          "beer  "
         ],
         "yaxis": "y3"
        },
        {
         "marker": {
          "color": "#E69F00"
         },
         "orientation": "h",
         "type": "bar",
         "x": [
          0.024486150964083866,
          0.02503464119756669,
          0.025128415100367882,
          0.02913538526408003,
          0.030397407186182345
         ],
         "xaxis": "x4",
         "y": [
          "asked  ",
          "service  ",
          "food  ",
          "order  ",
          "manager  "
         ],
         "yaxis": "y4"
        },
        {
         "marker": {
          "color": "#56B4E9"
         },
         "orientation": "h",
         "type": "bar",
         "x": [
          0.031125991318761988,
          0.03651163615496117,
          0.04421870458987154,
          0.06181084743393177,
          0.10418107286573547
         ],
         "xaxis": "x5",
         "y": [
          "food  ",
          "queso  ",
          "tamale  ",
          "mexican  ",
          "taco  "
         ],
         "yaxis": "y5"
        },
        {
         "marker": {
          "color": "#009E73"
         },
         "orientation": "h",
         "type": "bar",
         "x": [
          0.028192461599611172,
          0.029656190025892083,
          0.030335488339970074,
          0.03489389107782877,
          0.037777500783761485
         ],
         "xaxis": "x6",
         "y": [
          "good  ",
          "roll  ",
          "great  ",
          "shrimp  ",
          "crab  "
         ],
         "yaxis": "y6"
        },
        {
         "marker": {
          "color": "#F0E442"
         },
         "orientation": "h",
         "type": "bar",
         "x": [
          0.024050287080617593,
          0.033272330805096735,
          0.03487873176630875,
          0.03548006642716679,
          0.040979634094396616
         ],
         "xaxis": "x7",
         "y": [
          "great  ",
          "place  ",
          "drink  ",
          "bar  ",
          "beer  "
         ],
         "yaxis": "y7"
        },
        {
         "marker": {
          "color": "#D55E00"
         },
         "orientation": "h",
         "type": "bar",
         "x": [
          0.016627138996852767,
          0.017421047575311537,
          0.017847846364359085,
          0.01867750228085183,
          0.019805002550854562
         ],
         "xaxis": "x8",
         "y": [
          "dish  ",
          "good  ",
          "cheese  ",
          "food  ",
          "like  "
         ],
         "yaxis": "y8"
        }
       ],
       "layout": {
        "annotations": [
         {
          "font": {
           "size": 16
          },
          "showarrow": false,
          "text": "Topic 1",
          "x": 0.0875,
          "xanchor": "center",
          "xref": "paper",
          "y": 1,
          "yanchor": "bottom",
          "yref": "paper"
         },
         {
          "font": {
           "size": 16
          },
          "showarrow": false,
          "text": "Topic 2",
          "x": 0.36250000000000004,
          "xanchor": "center",
          "xref": "paper",
          "y": 1,
          "yanchor": "bottom",
          "yref": "paper"
         },
         {
          "font": {
           "size": 16
          },
          "showarrow": false,
          "text": "Topic 3",
          "x": 0.6375000000000001,
          "xanchor": "center",
          "xref": "paper",
          "y": 1,
          "yanchor": "bottom",
          "yref": "paper"
         },
         {
          "font": {
           "size": 16
          },
          "showarrow": false,
          "text": "Topic 4",
          "x": 0.9125,
          "xanchor": "center",
          "xref": "paper",
          "y": 1,
          "yanchor": "bottom",
          "yref": "paper"
         },
         {
          "font": {
           "size": 16
          },
          "showarrow": false,
          "text": "Topic 5",
          "x": 0.0875,
          "xanchor": "center",
          "xref": "paper",
          "y": 0.4,
          "yanchor": "bottom",
          "yref": "paper"
         },
         {
          "font": {
           "size": 16
          },
          "showarrow": false,
          "text": "Topic 6",
          "x": 0.36250000000000004,
          "xanchor": "center",
          "xref": "paper",
          "y": 0.4,
          "yanchor": "bottom",
          "yref": "paper"
         },
         {
          "font": {
           "size": 16
          },
          "showarrow": false,
          "text": "Topic 11",
          "x": 0.6375000000000001,
          "xanchor": "center",
          "xref": "paper",
          "y": 0.4,
          "yanchor": "bottom",
          "yref": "paper"
         },
         {
          "font": {
           "size": 16
          },
          "showarrow": false,
          "text": "Topic 13",
          "x": 0.9125,
          "xanchor": "center",
          "xref": "paper",
          "y": 0.4,
          "yanchor": "bottom",
          "yref": "paper"
         }
        ],
        "height": 500,
        "hoverlabel": {
         "bgcolor": "white",
         "font": {
          "family": "Rockwell",
          "size": 16
         }
        },
        "showlegend": false,
        "template": {
         "data": {
          "bar": [
           {
            "error_x": {
             "color": "#2a3f5f"
            },
            "error_y": {
             "color": "#2a3f5f"
            },
            "marker": {
             "line": {
              "color": "white",
              "width": 0.5
             },
             "pattern": {
              "fillmode": "overlay",
              "size": 10,
              "solidity": 0.2
             }
            },
            "type": "bar"
           }
          ],
          "barpolar": [
           {
            "marker": {
             "line": {
              "color": "white",
              "width": 0.5
             },
             "pattern": {
              "fillmode": "overlay",
              "size": 10,
              "solidity": 0.2
             }
            },
            "type": "barpolar"
           }
          ],
          "carpet": [
           {
            "aaxis": {
             "endlinecolor": "#2a3f5f",
             "gridcolor": "#C8D4E3",
             "linecolor": "#C8D4E3",
             "minorgridcolor": "#C8D4E3",
             "startlinecolor": "#2a3f5f"
            },
            "baxis": {
             "endlinecolor": "#2a3f5f",
             "gridcolor": "#C8D4E3",
             "linecolor": "#C8D4E3",
             "minorgridcolor": "#C8D4E3",
             "startlinecolor": "#2a3f5f"
            },
            "type": "carpet"
           }
          ],
          "choropleth": [
           {
            "colorbar": {
             "outlinewidth": 0,
             "ticks": ""
            },
            "type": "choropleth"
           }
          ],
          "contour": [
           {
            "colorbar": {
             "outlinewidth": 0,
             "ticks": ""
            },
            "colorscale": [
             [
              0,
              "#0d0887"
             ],
             [
              0.1111111111111111,
              "#46039f"
             ],
             [
              0.2222222222222222,
              "#7201a8"
             ],
             [
              0.3333333333333333,
              "#9c179e"
             ],
             [
              0.4444444444444444,
              "#bd3786"
             ],
             [
              0.5555555555555556,
              "#d8576b"
             ],
             [
              0.6666666666666666,
              "#ed7953"
             ],
             [
              0.7777777777777778,
              "#fb9f3a"
             ],
             [
              0.8888888888888888,
              "#fdca26"
             ],
             [
              1,
              "#f0f921"
             ]
            ],
            "type": "contour"
           }
          ],
          "contourcarpet": [
           {
            "colorbar": {
             "outlinewidth": 0,
             "ticks": ""
            },
            "type": "contourcarpet"
           }
          ],
          "heatmap": [
           {
            "colorbar": {
             "outlinewidth": 0,
             "ticks": ""
            },
            "colorscale": [
             [
              0,
              "#0d0887"
             ],
             [
              0.1111111111111111,
              "#46039f"
             ],
             [
              0.2222222222222222,
              "#7201a8"
             ],
             [
              0.3333333333333333,
              "#9c179e"
             ],
             [
              0.4444444444444444,
              "#bd3786"
             ],
             [
              0.5555555555555556,
              "#d8576b"
             ],
             [
              0.6666666666666666,
              "#ed7953"
             ],
             [
              0.7777777777777778,
              "#fb9f3a"
             ],
             [
              0.8888888888888888,
              "#fdca26"
             ],
             [
              1,
              "#f0f921"
             ]
            ],
            "type": "heatmap"
           }
          ],
          "heatmapgl": [
           {
            "colorbar": {
             "outlinewidth": 0,
             "ticks": ""
            },
            "colorscale": [
             [
              0,
              "#0d0887"
             ],
             [
              0.1111111111111111,
              "#46039f"
             ],
             [
              0.2222222222222222,
              "#7201a8"
             ],
             [
              0.3333333333333333,
              "#9c179e"
             ],
             [
              0.4444444444444444,
              "#bd3786"
             ],
             [
              0.5555555555555556,
              "#d8576b"
             ],
             [
              0.6666666666666666,
              "#ed7953"
             ],
             [
              0.7777777777777778,
              "#fb9f3a"
             ],
             [
              0.8888888888888888,
              "#fdca26"
             ],
             [
              1,
              "#f0f921"
             ]
            ],
            "type": "heatmapgl"
           }
          ],
          "histogram": [
           {
            "marker": {
             "pattern": {
              "fillmode": "overlay",
              "size": 10,
              "solidity": 0.2
             }
            },
            "type": "histogram"
           }
          ],
          "histogram2d": [
           {
            "colorbar": {
             "outlinewidth": 0,
             "ticks": ""
            },
            "colorscale": [
             [
              0,
              "#0d0887"
             ],
             [
              0.1111111111111111,
              "#46039f"
             ],
             [
              0.2222222222222222,
              "#7201a8"
             ],
             [
              0.3333333333333333,
              "#9c179e"
             ],
             [
              0.4444444444444444,
              "#bd3786"
             ],
             [
              0.5555555555555556,
              "#d8576b"
             ],
             [
              0.6666666666666666,
              "#ed7953"
             ],
             [
              0.7777777777777778,
              "#fb9f3a"
             ],
             [
              0.8888888888888888,
              "#fdca26"
             ],
             [
              1,
              "#f0f921"
             ]
            ],
            "type": "histogram2d"
           }
          ],
          "histogram2dcontour": [
           {
            "colorbar": {
             "outlinewidth": 0,
             "ticks": ""
            },
            "colorscale": [
             [
              0,
              "#0d0887"
             ],
             [
              0.1111111111111111,
              "#46039f"
             ],
             [
              0.2222222222222222,
              "#7201a8"
             ],
             [
              0.3333333333333333,
              "#9c179e"
             ],
             [
              0.4444444444444444,
              "#bd3786"
             ],
             [
              0.5555555555555556,
              "#d8576b"
             ],
             [
              0.6666666666666666,
              "#ed7953"
             ],
             [
              0.7777777777777778,
              "#fb9f3a"
             ],
             [
              0.8888888888888888,
              "#fdca26"
             ],
             [
              1,
              "#f0f921"
             ]
            ],
            "type": "histogram2dcontour"
           }
          ],
          "mesh3d": [
           {
            "colorbar": {
             "outlinewidth": 0,
             "ticks": ""
            },
            "type": "mesh3d"
           }
          ],
          "parcoords": [
           {
            "line": {
             "colorbar": {
              "outlinewidth": 0,
              "ticks": ""
             }
            },
            "type": "parcoords"
           }
          ],
          "pie": [
           {
            "automargin": true,
            "type": "pie"
           }
          ],
          "scatter": [
           {
            "fillpattern": {
             "fillmode": "overlay",
             "size": 10,
             "solidity": 0.2
            },
            "type": "scatter"
           }
          ],
          "scatter3d": [
           {
            "line": {
             "colorbar": {
              "outlinewidth": 0,
              "ticks": ""
             }
            },
            "marker": {
             "colorbar": {
              "outlinewidth": 0,
              "ticks": ""
             }
            },
            "type": "scatter3d"
           }
          ],
          "scattercarpet": [
           {
            "marker": {
             "colorbar": {
              "outlinewidth": 0,
              "ticks": ""
             }
            },
            "type": "scattercarpet"
           }
          ],
          "scattergeo": [
           {
            "marker": {
             "colorbar": {
              "outlinewidth": 0,
              "ticks": ""
             }
            },
            "type": "scattergeo"
           }
          ],
          "scattergl": [
           {
            "marker": {
             "colorbar": {
              "outlinewidth": 0,
              "ticks": ""
             }
            },
            "type": "scattergl"
           }
          ],
          "scattermapbox": [
           {
            "marker": {
             "colorbar": {
              "outlinewidth": 0,
              "ticks": ""
             }
            },
            "type": "scattermapbox"
           }
          ],
          "scatterpolar": [
           {
            "marker": {
             "colorbar": {
              "outlinewidth": 0,
              "ticks": ""
             }
            },
            "type": "scatterpolar"
           }
          ],
          "scatterpolargl": [
           {
            "marker": {
             "colorbar": {
              "outlinewidth": 0,
              "ticks": ""
             }
            },
            "type": "scatterpolargl"
           }
          ],
          "scatterternary": [
           {
            "marker": {
             "colorbar": {
              "outlinewidth": 0,
              "ticks": ""
             }
            },
            "type": "scatterternary"
           }
          ],
          "surface": [
           {
            "colorbar": {
             "outlinewidth": 0,
             "ticks": ""
            },
            "colorscale": [
             [
              0,
              "#0d0887"
             ],
             [
              0.1111111111111111,
              "#46039f"
             ],
             [
              0.2222222222222222,
              "#7201a8"
             ],
             [
              0.3333333333333333,
              "#9c179e"
             ],
             [
              0.4444444444444444,
              "#bd3786"
             ],
             [
              0.5555555555555556,
              "#d8576b"
             ],
             [
              0.6666666666666666,
              "#ed7953"
             ],
             [
              0.7777777777777778,
              "#fb9f3a"
             ],
             [
              0.8888888888888888,
              "#fdca26"
             ],
             [
              1,
              "#f0f921"
             ]
            ],
            "type": "surface"
           }
          ],
          "table": [
           {
            "cells": {
             "fill": {
              "color": "#EBF0F8"
             },
             "line": {
              "color": "white"
             }
            },
            "header": {
             "fill": {
              "color": "#C8D4E3"
             },
             "line": {
              "color": "white"
             }
            },
            "type": "table"
           }
          ]
         },
         "layout": {
          "annotationdefaults": {
           "arrowcolor": "#2a3f5f",
           "arrowhead": 0,
           "arrowwidth": 1
          },
          "autotypenumbers": "strict",
          "coloraxis": {
           "colorbar": {
            "outlinewidth": 0,
            "ticks": ""
           }
          },
          "colorscale": {
           "diverging": [
            [
             0,
             "#8e0152"
            ],
            [
             0.1,
             "#c51b7d"
            ],
            [
             0.2,
             "#de77ae"
            ],
            [
             0.3,
             "#f1b6da"
            ],
            [
             0.4,
             "#fde0ef"
            ],
            [
             0.5,
             "#f7f7f7"
            ],
            [
             0.6,
             "#e6f5d0"
            ],
            [
             0.7,
             "#b8e186"
            ],
            [
             0.8,
             "#7fbc41"
            ],
            [
             0.9,
             "#4d9221"
            ],
            [
             1,
             "#276419"
            ]
           ],
           "sequential": [
            [
             0,
             "#0d0887"
            ],
            [
             0.1111111111111111,
             "#46039f"
            ],
            [
             0.2222222222222222,
             "#7201a8"
            ],
            [
             0.3333333333333333,
             "#9c179e"
            ],
            [
             0.4444444444444444,
             "#bd3786"
            ],
            [
             0.5555555555555556,
             "#d8576b"
            ],
            [
             0.6666666666666666,
             "#ed7953"
            ],
            [
             0.7777777777777778,
             "#fb9f3a"
            ],
            [
             0.8888888888888888,
             "#fdca26"
            ],
            [
             1,
             "#f0f921"
            ]
           ],
           "sequentialminus": [
            [
             0,
             "#0d0887"
            ],
            [
             0.1111111111111111,
             "#46039f"
            ],
            [
             0.2222222222222222,
             "#7201a8"
            ],
            [
             0.3333333333333333,
             "#9c179e"
            ],
            [
             0.4444444444444444,
             "#bd3786"
            ],
            [
             0.5555555555555556,
             "#d8576b"
            ],
            [
             0.6666666666666666,
             "#ed7953"
            ],
            [
             0.7777777777777778,
             "#fb9f3a"
            ],
            [
             0.8888888888888888,
             "#fdca26"
            ],
            [
             1,
             "#f0f921"
            ]
           ]
          },
          "colorway": [
           "#636efa",
           "#EF553B",
           "#00cc96",
           "#ab63fa",
           "#FFA15A",
           "#19d3f3",
           "#FF6692",
           "#B6E880",
           "#FF97FF",
           "#FECB52"
          ],
          "font": {
           "color": "#2a3f5f"
          },
          "geo": {
           "bgcolor": "white",
           "lakecolor": "white",
           "landcolor": "white",
           "showlakes": true,
           "showland": true,
           "subunitcolor": "#C8D4E3"
          },
          "hoverlabel": {
           "align": "left"
          },
          "hovermode": "closest",
          "mapbox": {
           "style": "light"
          },
          "paper_bgcolor": "white",
          "plot_bgcolor": "white",
          "polar": {
           "angularaxis": {
            "gridcolor": "#EBF0F8",
            "linecolor": "#EBF0F8",
            "ticks": ""
           },
           "bgcolor": "white",
           "radialaxis": {
            "gridcolor": "#EBF0F8",
            "linecolor": "#EBF0F8",
            "ticks": ""
           }
          },
          "scene": {
           "xaxis": {
            "backgroundcolor": "white",
            "gridcolor": "#DFE8F3",
            "gridwidth": 2,
            "linecolor": "#EBF0F8",
            "showbackground": true,
            "ticks": "",
            "zerolinecolor": "#EBF0F8"
           },
           "yaxis": {
            "backgroundcolor": "white",
            "gridcolor": "#DFE8F3",
            "gridwidth": 2,
            "linecolor": "#EBF0F8",
            "showbackground": true,
            "ticks": "",
            "zerolinecolor": "#EBF0F8"
           },
           "zaxis": {
            "backgroundcolor": "white",
            "gridcolor": "#DFE8F3",
            "gridwidth": 2,
            "linecolor": "#EBF0F8",
            "showbackground": true,
            "ticks": "",
            "zerolinecolor": "#EBF0F8"
           }
          },
          "shapedefaults": {
           "line": {
            "color": "#2a3f5f"
           }
          },
          "ternary": {
           "aaxis": {
            "gridcolor": "#DFE8F3",
            "linecolor": "#A2B1C6",
            "ticks": ""
           },
           "baxis": {
            "gridcolor": "#DFE8F3",
            "linecolor": "#A2B1C6",
            "ticks": ""
           },
           "bgcolor": "white",
           "caxis": {
            "gridcolor": "#DFE8F3",
            "linecolor": "#A2B1C6",
            "ticks": ""
           }
          },
          "title": {
           "x": 0.05
          },
          "xaxis": {
           "automargin": true,
           "gridcolor": "#EBF0F8",
           "linecolor": "#EBF0F8",
           "ticks": "",
           "title": {
            "standoff": 15
           },
           "zerolinecolor": "#EBF0F8",
           "zerolinewidth": 2
          },
          "yaxis": {
           "automargin": true,
           "gridcolor": "#EBF0F8",
           "linecolor": "#EBF0F8",
           "ticks": "",
           "title": {
            "standoff": 15
           },
           "zerolinecolor": "#EBF0F8",
           "zerolinewidth": 2
          }
         }
        },
        "title": {
         "font": {
          "color": "Black",
          "size": 22
         },
         "text": "<b>Topic Word Scores",
         "x": 0.5,
         "xanchor": "center",
         "yanchor": "top"
        },
        "width": 1000,
        "xaxis": {
         "anchor": "y",
         "domain": [
          0,
          0.175
         ],
         "showgrid": true
        },
        "xaxis2": {
         "anchor": "y2",
         "domain": [
          0.275,
          0.45
         ],
         "showgrid": true
        },
        "xaxis3": {
         "anchor": "y3",
         "domain": [
          0.55,
          0.7250000000000001
         ],
         "showgrid": true
        },
        "xaxis4": {
         "anchor": "y4",
         "domain": [
          0.825,
          1
         ],
         "showgrid": true
        },
        "xaxis5": {
         "anchor": "y5",
         "domain": [
          0,
          0.175
         ],
         "showgrid": true
        },
        "xaxis6": {
         "anchor": "y6",
         "domain": [
          0.275,
          0.45
         ],
         "showgrid": true
        },
        "xaxis7": {
         "anchor": "y7",
         "domain": [
          0.55,
          0.7250000000000001
         ],
         "showgrid": true
        },
        "xaxis8": {
         "anchor": "y8",
         "domain": [
          0.825,
          1
         ],
         "showgrid": true
        },
        "yaxis": {
         "anchor": "x",
         "domain": [
          0.6000000000000001,
          1
         ],
         "showgrid": true
        },
        "yaxis2": {
         "anchor": "x2",
         "domain": [
          0.6000000000000001,
          1
         ],
         "showgrid": true
        },
        "yaxis3": {
         "anchor": "x3",
         "domain": [
          0.6000000000000001,
          1
         ],
         "showgrid": true
        },
        "yaxis4": {
         "anchor": "x4",
         "domain": [
          0.6000000000000001,
          1
         ],
         "showgrid": true
        },
        "yaxis5": {
         "anchor": "x5",
         "domain": [
          0,
          0.4
         ],
         "showgrid": true
        },
        "yaxis6": {
         "anchor": "x6",
         "domain": [
          0,
          0.4
         ],
         "showgrid": true
        },
        "yaxis7": {
         "anchor": "x7",
         "domain": [
          0,
          0.4
         ],
         "showgrid": true
        },
        "yaxis8": {
         "anchor": "x8",
         "domain": [
          0,
          0.4
         ],
         "showgrid": true
        }
       }
      }
     },
     "metadata": {},
     "output_type": "display_data"
    }
   ],
   "source": [
    "topic_model.visualize_barchart(n_words=5)"
   ]
  },
  {
   "cell_type": "code",
   "execution_count": 191,
   "metadata": {},
   "outputs": [
    {
     "name": "stdout",
     "output_type": "stream",
     "text": [
      "Most Similar Topic Info: \n",
      "[('closed', 0.09881325950322425), ('food', 0.07187445463251539), ('service', 0.059911961840330534), ('restaurant', 0.0513450839082576), ('place', 0.0500904084219234), ('area', 0.04717581328564863), ('location', 0.0453139302852862), ('best', 0.03954238268492311), ('great', 0.03759949643226223), ('excellent', 0.03598200559849409), ('sad', 0.03550030398381603), ('often', 0.034994069651370106), ('healthy', 0.034089437698007895), ('welcoming', 0.03293775316774142), ('lot', 0.032690273152792805), ('one', 0.03090953484815559), ('close', 0.030618732874939783), ('shop', 0.030152135032064948), ('friendly', 0.029718080692401085), ('im', 0.029181385796383363)]\n",
      "Similarity Score: 0.632819900766685\n",
      "\n",
      " Most Similar Topic Info: \n",
      "[('great', 0.10037153708612374), ('service', 0.09139112823101267), ('music', 0.09044070399825625), ('fantastic', 0.07111559304522638), ('live', 0.0617852121295616), ('tuesday', 0.060971377804434124), ('band', 0.05686065638085788), ('back', 0.04851311120537501), ('dance', 0.04533844257620316), ('absolutely', 0.04308689358262009), ('amazing', 0.04231048776545239), ('loved', 0.04081191124249096), ('highly', 0.04064410657106878), ('atmosphere', 0.03765739468398076), ('new', 0.03694924518449875), ('remember', 0.036400586016516905), ('night', 0.036289545864063945), ('environment', 0.03555623199783527), ('excited', 0.03555623199783527), ('food', 0.03542183031432962)]\n",
      "Similarity Score: 0.631398320654563\n",
      "\n",
      " Most Similar Topic Info: \n",
      "[('food', 0.02597737987429214), ('place', 0.025015005009742693), ('good', 0.024616105244701307), ('great', 0.023890087329850433), ('service', 0.023237557546591223), ('menu', 0.01711887453301003), ('back', 0.01672386526048696), ('time', 0.015320899687618144), ('one', 0.014566491000587793), ('really', 0.013764781623507994), ('like', 0.013337221344243146), ('got', 0.013301781625998122), ('restaurant', 0.013242133778590015), ('get', 0.013098314731598006), ('ordered', 0.013077601642562043), ('also', 0.012935486507471441), ('definitely', 0.012823238544137357), ('friendly', 0.0128205010489726), ('go', 0.012722721457569839), ('price', 0.012475697530115005)]\n",
      "Similarity Score: 0.6000135051280842\n"
     ]
    }
   ],
   "source": [
    "# Return top3 topics that are semantically most similar to an input query term\n",
    "\n",
    "similar_topics, similarity = topic_model.find_topics(\"service\", top_n = 3) \n",
    "\n",
    "\n",
    "print(\"Most Similar Topic Info: \\n{}\".format(topic_model.get_topic(similar_topics[0])))\n",
    "print(\"Similarity Score: {}\".format(similarity[0]))\n",
    "\n",
    "print(\"\\n Most Similar Topic Info: \\n{}\".format(topic_model.get_topic(similar_topics[1])))\n",
    "print(\"Similarity Score: {}\".format(similarity[1]))\n",
    "\n",
    "print(\"\\n Most Similar Topic Info: \\n{}\".format(topic_model.get_topic(similar_topics[2])))\n",
    "print(\"Similarity Score: {}\".format(similarity[2]))"
   ]
  },
  {
   "cell_type": "code",
   "execution_count": 192,
   "metadata": {},
   "outputs": [
    {
     "name": "stdout",
     "output_type": "stream",
     "text": [
      "Most Similar Topic Info: \n",
      "[('chicken', 0.05574940718522261), ('delivery', 0.04802793028985085), ('ordered', 0.047408495338623034), ('oil', 0.04177053879599541), ('order', 0.0417113604353329), ('like', 0.0408965505430048), ('online', 0.03776704766888833), ('roll', 0.03272778814486697), ('fresh', 0.03146268342863442), ('ordering', 0.030377640490097738), ('food', 0.030168986711285987), ('always', 0.029125473894790522), ('spring', 0.02895467209139215), ('extra', 0.027691282992278767), ('tasted', 0.02643036213964319), ('two', 0.026412842758034506), ('chinese', 0.02603889434688563), ('fast', 0.02549319379745769), ('would', 0.025282656714674206), ('wrap', 0.024777374266208047)]\n",
      "Similarity Score: 0.504657381215182\n",
      "\n",
      " Most Similar Topic Info: \n",
      "[('food', 0.02597737987429214), ('place', 0.025015005009742693), ('good', 0.024616105244701307), ('great', 0.023890087329850433), ('service', 0.023237557546591223), ('menu', 0.01711887453301003), ('back', 0.01672386526048696), ('time', 0.015320899687618144), ('one', 0.014566491000587793), ('really', 0.013764781623507994), ('like', 0.013337221344243146), ('got', 0.013301781625998122), ('restaurant', 0.013242133778590015), ('get', 0.013098314731598006), ('ordered', 0.013077601642562043), ('also', 0.012935486507471441), ('definitely', 0.012823238544137357), ('friendly', 0.0128205010489726), ('go', 0.012722721457569839), ('price', 0.012475697530115005)]\n",
      "Similarity Score: 0.5024671784238642\n",
      "\n",
      " Most Similar Topic Info: \n",
      "[('closed', 0.09881325950322425), ('food', 0.07187445463251539), ('service', 0.059911961840330534), ('restaurant', 0.0513450839082576), ('place', 0.0500904084219234), ('area', 0.04717581328564863), ('location', 0.0453139302852862), ('best', 0.03954238268492311), ('great', 0.03759949643226223), ('excellent', 0.03598200559849409), ('sad', 0.03550030398381603), ('often', 0.034994069651370106), ('healthy', 0.034089437698007895), ('welcoming', 0.03293775316774142), ('lot', 0.032690273152792805), ('one', 0.03090953484815559), ('close', 0.030618732874939783), ('shop', 0.030152135032064948), ('friendly', 0.029718080692401085), ('im', 0.029181385796383363)]\n",
      "Similarity Score: 0.4770764241147255\n"
     ]
    }
   ],
   "source": [
    "similar_topics, similarity = topic_model.find_topics(\"price\", top_n = 3) \n",
    "\n",
    "\n",
    "print(\"Most Similar Topic Info: \\n{}\".format(topic_model.get_topic(similar_topics[0])))\n",
    "print(\"Similarity Score: {}\".format(similarity[0]))\n",
    "\n",
    "print(\"\\n Most Similar Topic Info: \\n{}\".format(topic_model.get_topic(similar_topics[1])))\n",
    "print(\"Similarity Score: {}\".format(similarity[1]))\n",
    "\n",
    "print(\"\\n Most Similar Topic Info: \\n{}\".format(topic_model.get_topic(similar_topics[2])))\n",
    "print(\"Similarity Score: {}\".format(similarity[2]))"
   ]
  },
  {
   "attachments": {},
   "cell_type": "markdown",
   "metadata": {},
   "source": [
    "### post-inflation"
   ]
  },
  {
   "cell_type": "code",
   "execution_count": 163,
   "metadata": {},
   "outputs": [
    {
     "data": {
      "text/plain": [
       "\"I would sooner roll over dead than go to this McDonald's again.\\n\\nMy son and I walked into this McDonald's on a Thursday morning at 9:30am. The smell of fresh shit wafting through the air - their toilets were backed up and judging by the smell of it, it had been that way for a while. The workers seemed to be fine with the smell, seeing as no one was wearing a face mask. \\n\\nThere was a single register open. We got at the front of the line and no one helped us for at least 5 minutes. When we got up, she didn't ask if I was paying with credit card, but called at the end of the line for anyone with a credit card to come up and pay. It's 9:30am and you haven't figured out cash-purchases yet? Before I could get my card out, an Aryan family of 4 cut in front of me and ordered. \\n\\nMy son went up to order with a deal on the McDonald's app (which was advertised with window decals and stickers all over the store) and attempted to redeem a deal. The cashier told him they do not use the app and ran the purchase through at full price. \\n\\nThe service here was terrible, the place smells like a Port-A-John, and it is likely the petri-dish in which COVID-19 started. Never go here.\""
      ]
     },
     "execution_count": 163,
     "metadata": {},
     "output_type": "execute_result"
    }
   ],
   "source": [
    "txt = list(txt_dic['2021-07-01'])\n",
    "txt[0]"
   ]
  },
  {
   "cell_type": "code",
   "execution_count": 133,
   "metadata": {},
   "outputs": [
    {
     "data": {
      "text/plain": [
       "'would sooner roll dead go mcdonalds son walked mcdonalds thursday morning smell fresh shit wafting air toilet backed judging smell way worker seemed fine smell seeing one wearing face mask single register open got front line one helped u least minute got didnt ask paying credit card called end line anyone credit card come pay havent figured cashpurchases yet could get card aryan family cut front ordered son went order deal mcdonalds app advertised window decal sticker store attempted redeem deal cashier told use app ran purchase full price service terrible place smell like portajohn likely petridish covid started never go'"
      ]
     },
     "execution_count": 133,
     "metadata": {},
     "output_type": "execute_result"
    }
   ],
   "source": [
    "txt_clean = []\n",
    "for i in range(len(txt)):    \n",
    "    txt[i] = re.sub(r'\\d+', '', txt[i]) # remove numbers\n",
    "    txt[i] = txt[i].lower()     # lower case\n",
    "    txt[i] = txt[i].translate(str.maketrans('', '', string.punctuation)) # remove punctuation\n",
    "    txt[i] = txt[i].strip() # remove white space\n",
    "    tokens = word_tokenize(txt[i]) # tokenize\n",
    "    remove_stop = [lemmatizer.lemmatize(i) for i in tokens if not i in stop_words] # remove stop words and lemmatize\n",
    "    txt_clean.append(' '.join(remove_stop))\n",
    "txt_clean[0]"
   ]
  },
  {
   "cell_type": "code",
   "execution_count": 195,
   "metadata": {},
   "outputs": [],
   "source": [
    "seed_topic_list = [[\"service\", \"waiter\",  \"manager\", \"quality\", \"attitude\"],\n",
    "                   [\"price\", \"dollar\", \"tip\",\"menu\",'expensive', 'cheap', 'worth']]\n",
    "topic_model = BERTopic(seed_topic_list=seed_topic_list, top_n_words=20, nr_topics=20, calculate_probabilities=True)\n",
    "topics, probs = topic_model.fit_transform(txt_clean)"
   ]
  },
  {
   "cell_type": "code",
   "execution_count": 183,
   "metadata": {},
   "outputs": [
    {
     "data": {
      "text/html": [
       "<div>\n",
       "<style scoped>\n",
       "    .dataframe tbody tr th:only-of-type {\n",
       "        vertical-align: middle;\n",
       "    }\n",
       "\n",
       "    .dataframe tbody tr th {\n",
       "        vertical-align: top;\n",
       "    }\n",
       "\n",
       "    .dataframe thead th {\n",
       "        text-align: right;\n",
       "    }\n",
       "</style>\n",
       "<table border=\"1\" class=\"dataframe\">\n",
       "  <thead>\n",
       "    <tr style=\"text-align: right;\">\n",
       "      <th></th>\n",
       "      <th>Topic</th>\n",
       "      <th>Count</th>\n",
       "      <th>Name</th>\n",
       "    </tr>\n",
       "  </thead>\n",
       "  <tbody>\n",
       "    <tr>\n",
       "      <th>0</th>\n",
       "      <td>-1</td>\n",
       "      <td>505</td>\n",
       "      <td>-1_place_food_good_great</td>\n",
       "    </tr>\n",
       "    <tr>\n",
       "      <th>1</th>\n",
       "      <td>0</td>\n",
       "      <td>10</td>\n",
       "      <td>0_italian_pasta_alfredo_oggi</td>\n",
       "    </tr>\n",
       "    <tr>\n",
       "      <th>2</th>\n",
       "      <td>1</td>\n",
       "      <td>35</td>\n",
       "      <td>1_pizza_slice_place_crust</td>\n",
       "    </tr>\n",
       "    <tr>\n",
       "      <th>3</th>\n",
       "      <td>2</td>\n",
       "      <td>19</td>\n",
       "      <td>2_vegan_vegetarian_menu_option</td>\n",
       "    </tr>\n",
       "    <tr>\n",
       "      <th>4</th>\n",
       "      <td>3</td>\n",
       "      <td>128</td>\n",
       "      <td>3_order_manager_service_food</td>\n",
       "    </tr>\n",
       "    <tr>\n",
       "      <th>5</th>\n",
       "      <td>4</td>\n",
       "      <td>43</td>\n",
       "      <td>4_beer_bbq_burger_good</td>\n",
       "    </tr>\n",
       "    <tr>\n",
       "      <th>6</th>\n",
       "      <td>5</td>\n",
       "      <td>24</td>\n",
       "      <td>5_nashville_cheese_biscuit_fried</td>\n",
       "    </tr>\n",
       "    <tr>\n",
       "      <th>7</th>\n",
       "      <td>6</td>\n",
       "      <td>38</td>\n",
       "      <td>6_taco_mexican_tamale_bean</td>\n",
       "    </tr>\n",
       "    <tr>\n",
       "      <th>8</th>\n",
       "      <td>7</td>\n",
       "      <td>29</td>\n",
       "      <td>7_food_service_great_place</td>\n",
       "    </tr>\n",
       "    <tr>\n",
       "      <th>9</th>\n",
       "      <td>8</td>\n",
       "      <td>39</td>\n",
       "      <td>8_crab_shrimp_great_meal</td>\n",
       "    </tr>\n",
       "    <tr>\n",
       "      <th>10</th>\n",
       "      <td>9</td>\n",
       "      <td>20</td>\n",
       "      <td>9_thai_curry_tom_dish</td>\n",
       "    </tr>\n",
       "    <tr>\n",
       "      <th>11</th>\n",
       "      <td>10</td>\n",
       "      <td>20</td>\n",
       "      <td>10_brunch_benedict_lunch_good</td>\n",
       "    </tr>\n",
       "    <tr>\n",
       "      <th>12</th>\n",
       "      <td>11</td>\n",
       "      <td>32</td>\n",
       "      <td>11_beer_bar_drink_great</td>\n",
       "    </tr>\n",
       "    <tr>\n",
       "      <th>13</th>\n",
       "      <td>12</td>\n",
       "      <td>13</td>\n",
       "      <td>12_great_music_service_live</td>\n",
       "    </tr>\n",
       "    <tr>\n",
       "      <th>14</th>\n",
       "      <td>13</td>\n",
       "      <td>18</td>\n",
       "      <td>13_chicken_ordered_delivery_oil</td>\n",
       "    </tr>\n",
       "    <tr>\n",
       "      <th>15</th>\n",
       "      <td>14</td>\n",
       "      <td>27</td>\n",
       "      <td>14_cheese_dish_like_sauce</td>\n",
       "    </tr>\n",
       "  </tbody>\n",
       "</table>\n",
       "</div>"
      ],
      "text/plain": [
       "    Topic  Count                              Name\n",
       "0      -1    505          -1_place_food_good_great\n",
       "1       0     10      0_italian_pasta_alfredo_oggi\n",
       "2       1     35         1_pizza_slice_place_crust\n",
       "3       2     19    2_vegan_vegetarian_menu_option\n",
       "4       3    128      3_order_manager_service_food\n",
       "5       4     43            4_beer_bbq_burger_good\n",
       "6       5     24  5_nashville_cheese_biscuit_fried\n",
       "7       6     38        6_taco_mexican_tamale_bean\n",
       "8       7     29        7_food_service_great_place\n",
       "9       8     39          8_crab_shrimp_great_meal\n",
       "10      9     20             9_thai_curry_tom_dish\n",
       "11     10     20     10_brunch_benedict_lunch_good\n",
       "12     11     32           11_beer_bar_drink_great\n",
       "13     12     13       12_great_music_service_live\n",
       "14     13     18   13_chicken_ordered_delivery_oil\n",
       "15     14     27         14_cheese_dish_like_sauce"
      ]
     },
     "execution_count": 183,
     "metadata": {},
     "output_type": "execute_result"
    }
   ],
   "source": [
    "topic_model.get_topic_info()"
   ]
  },
  {
   "cell_type": "code",
   "execution_count": 181,
   "metadata": {},
   "outputs": [
    {
     "data": {
      "text/plain": [
       "[('order', 0.02904817533999586),\n",
       " ('manager', 0.02823993386109258),\n",
       " ('service', 0.024732983363855217),\n",
       " ('food', 0.024173797024455778),\n",
       " ('asked', 0.02259758950871481),\n",
       " ('minute', 0.021850860219033093),\n",
       " ('said', 0.021576695469594735),\n",
       " ('one', 0.021445187834026866),\n",
       " ('time', 0.02142522952653497),\n",
       " ('came', 0.01956833284919896),\n",
       " ('back', 0.018605614268696998),\n",
       " ('get', 0.018152381036838056),\n",
       " ('customer', 0.017334223326379284),\n",
       " ('people', 0.01652683057245554),\n",
       " ('would', 0.016193434667394296),\n",
       " ('table', 0.0161599056735104),\n",
       " ('didnt', 0.015941959633586533),\n",
       " ('rude', 0.015594002788630825),\n",
       " ('drink', 0.01541999447538972),\n",
       " ('went', 0.015153092197218776)]"
      ]
     },
     "execution_count": 181,
     "metadata": {},
     "output_type": "execute_result"
    }
   ],
   "source": [
    "topic_model.get_topic(3)"
   ]
  },
  {
   "cell_type": "code",
   "execution_count": 174,
   "metadata": {},
   "outputs": [
    {
     "data": {
      "application/vnd.plotly.v1+json": {
       "config": {
        "plotlyServerURL": "https://plot.ly"
       },
       "data": [
        {
         "marker": {
          "color": "#D55E00"
         },
         "orientation": "h",
         "type": "bar",
         "x": [
          0.032433769140264135,
          0.03860313295819033,
          0.040507376305931285,
          0.0461798164231526,
          0.2093529975735738
         ],
         "xaxis": "x",
         "y": [
          "great  ",
          "crust  ",
          "place  ",
          "slice  ",
          "pizza  "
         ],
         "yaxis": "y"
        },
        {
         "marker": {
          "color": "#0072B2"
         },
         "orientation": "h",
         "type": "bar",
         "x": [
          0.02259758950871481,
          0.024173797024455778,
          0.024732983363855217,
          0.02823993386109258,
          0.02904817533999586
         ],
         "xaxis": "x2",
         "y": [
          "asked  ",
          "food  ",
          "service  ",
          "manager  ",
          "order  "
         ],
         "yaxis": "y2"
        },
        {
         "marker": {
          "color": "#CC79A7"
         },
         "orientation": "h",
         "type": "bar",
         "x": [
          0.03910231734311589,
          0.03913598987231755,
          0.039385337908070264,
          0.04466429873215645,
          0.05470185820565315
         ],
         "xaxis": "x3",
         "y": [
          "great  ",
          "good  ",
          "burger  ",
          "bbq  ",
          "beer  "
         ],
         "yaxis": "y3"
        },
        {
         "marker": {
          "color": "#E69F00"
         },
         "orientation": "h",
         "type": "bar",
         "x": [
          0.030191196056888296,
          0.03408777563402601,
          0.03654050112071946,
          0.051014390746167336,
          0.08842834566651993
         ],
         "xaxis": "x4",
         "y": [
          "queso  ",
          "bean  ",
          "tamale  ",
          "mexican  ",
          "taco  "
         ],
         "yaxis": "y4"
        },
        {
         "marker": {
          "color": "#56B4E9"
         },
         "orientation": "h",
         "type": "bar",
         "x": [
          0.04564896292684885,
          0.0484186534852056,
          0.04846029206388202,
          0.05464323475502398,
          0.08530127629734538
         ],
         "xaxis": "x5",
         "y": [
          "good  ",
          "place  ",
          "great  ",
          "service  ",
          "food  "
         ],
         "yaxis": "y5"
        },
        {
         "marker": {
          "color": "#009E73"
         },
         "orientation": "h",
         "type": "bar",
         "x": [
          0.027063857981528945,
          0.028734725840298205,
          0.03415651236759567,
          0.04363946812095512,
          0.047159324364483786
         ],
         "xaxis": "x6",
         "y": [
          "good  ",
          "meal  ",
          "great  ",
          "shrimp  ",
          "crab  "
         ],
         "yaxis": "y6"
        },
        {
         "marker": {
          "color": "#F0E442"
         },
         "orientation": "h",
         "type": "bar",
         "x": [
          0.03171774484495315,
          0.03174502114693806,
          0.03859966921858012,
          0.041002016571068216,
          0.04547525686020983
         ],
         "xaxis": "x7",
         "y": [
          "place  ",
          "great  ",
          "drink  ",
          "bar  ",
          "beer  "
         ],
         "yaxis": "y7"
        },
        {
         "marker": {
          "color": "#D55E00"
         },
         "orientation": "h",
         "type": "bar",
         "x": [
          0.015106453162301237,
          0.01593482772860562,
          0.017907691845541106,
          0.018134262169914976,
          0.02004615190510588
         ],
         "xaxis": "x8",
         "y": [
          "ive  ",
          "sauce  ",
          "like  ",
          "dish  ",
          "cheese  "
         ],
         "yaxis": "y8"
        }
       ],
       "layout": {
        "annotations": [
         {
          "font": {
           "size": 16
          },
          "showarrow": false,
          "text": "Topic 1",
          "x": 0.0875,
          "xanchor": "center",
          "xref": "paper",
          "y": 1,
          "yanchor": "bottom",
          "yref": "paper"
         },
         {
          "font": {
           "size": 16
          },
          "showarrow": false,
          "text": "Topic 3",
          "x": 0.36250000000000004,
          "xanchor": "center",
          "xref": "paper",
          "y": 1,
          "yanchor": "bottom",
          "yref": "paper"
         },
         {
          "font": {
           "size": 16
          },
          "showarrow": false,
          "text": "Topic 4",
          "x": 0.6375000000000001,
          "xanchor": "center",
          "xref": "paper",
          "y": 1,
          "yanchor": "bottom",
          "yref": "paper"
         },
         {
          "font": {
           "size": 16
          },
          "showarrow": false,
          "text": "Topic 6",
          "x": 0.9125,
          "xanchor": "center",
          "xref": "paper",
          "y": 1,
          "yanchor": "bottom",
          "yref": "paper"
         },
         {
          "font": {
           "size": 16
          },
          "showarrow": false,
          "text": "Topic 7",
          "x": 0.0875,
          "xanchor": "center",
          "xref": "paper",
          "y": 0.4,
          "yanchor": "bottom",
          "yref": "paper"
         },
         {
          "font": {
           "size": 16
          },
          "showarrow": false,
          "text": "Topic 8",
          "x": 0.36250000000000004,
          "xanchor": "center",
          "xref": "paper",
          "y": 0.4,
          "yanchor": "bottom",
          "yref": "paper"
         },
         {
          "font": {
           "size": 16
          },
          "showarrow": false,
          "text": "Topic 11",
          "x": 0.6375000000000001,
          "xanchor": "center",
          "xref": "paper",
          "y": 0.4,
          "yanchor": "bottom",
          "yref": "paper"
         },
         {
          "font": {
           "size": 16
          },
          "showarrow": false,
          "text": "Topic 14",
          "x": 0.9125,
          "xanchor": "center",
          "xref": "paper",
          "y": 0.4,
          "yanchor": "bottom",
          "yref": "paper"
         }
        ],
        "height": 500,
        "hoverlabel": {
         "bgcolor": "white",
         "font": {
          "family": "Rockwell",
          "size": 16
         }
        },
        "showlegend": false,
        "template": {
         "data": {
          "bar": [
           {
            "error_x": {
             "color": "#2a3f5f"
            },
            "error_y": {
             "color": "#2a3f5f"
            },
            "marker": {
             "line": {
              "color": "white",
              "width": 0.5
             },
             "pattern": {
              "fillmode": "overlay",
              "size": 10,
              "solidity": 0.2
             }
            },
            "type": "bar"
           }
          ],
          "barpolar": [
           {
            "marker": {
             "line": {
              "color": "white",
              "width": 0.5
             },
             "pattern": {
              "fillmode": "overlay",
              "size": 10,
              "solidity": 0.2
             }
            },
            "type": "barpolar"
           }
          ],
          "carpet": [
           {
            "aaxis": {
             "endlinecolor": "#2a3f5f",
             "gridcolor": "#C8D4E3",
             "linecolor": "#C8D4E3",
             "minorgridcolor": "#C8D4E3",
             "startlinecolor": "#2a3f5f"
            },
            "baxis": {
             "endlinecolor": "#2a3f5f",
             "gridcolor": "#C8D4E3",
             "linecolor": "#C8D4E3",
             "minorgridcolor": "#C8D4E3",
             "startlinecolor": "#2a3f5f"
            },
            "type": "carpet"
           }
          ],
          "choropleth": [
           {
            "colorbar": {
             "outlinewidth": 0,
             "ticks": ""
            },
            "type": "choropleth"
           }
          ],
          "contour": [
           {
            "colorbar": {
             "outlinewidth": 0,
             "ticks": ""
            },
            "colorscale": [
             [
              0,
              "#0d0887"
             ],
             [
              0.1111111111111111,
              "#46039f"
             ],
             [
              0.2222222222222222,
              "#7201a8"
             ],
             [
              0.3333333333333333,
              "#9c179e"
             ],
             [
              0.4444444444444444,
              "#bd3786"
             ],
             [
              0.5555555555555556,
              "#d8576b"
             ],
             [
              0.6666666666666666,
              "#ed7953"
             ],
             [
              0.7777777777777778,
              "#fb9f3a"
             ],
             [
              0.8888888888888888,
              "#fdca26"
             ],
             [
              1,
              "#f0f921"
             ]
            ],
            "type": "contour"
           }
          ],
          "contourcarpet": [
           {
            "colorbar": {
             "outlinewidth": 0,
             "ticks": ""
            },
            "type": "contourcarpet"
           }
          ],
          "heatmap": [
           {
            "colorbar": {
             "outlinewidth": 0,
             "ticks": ""
            },
            "colorscale": [
             [
              0,
              "#0d0887"
             ],
             [
              0.1111111111111111,
              "#46039f"
             ],
             [
              0.2222222222222222,
              "#7201a8"
             ],
             [
              0.3333333333333333,
              "#9c179e"
             ],
             [
              0.4444444444444444,
              "#bd3786"
             ],
             [
              0.5555555555555556,
              "#d8576b"
             ],
             [
              0.6666666666666666,
              "#ed7953"
             ],
             [
              0.7777777777777778,
              "#fb9f3a"
             ],
             [
              0.8888888888888888,
              "#fdca26"
             ],
             [
              1,
              "#f0f921"
             ]
            ],
            "type": "heatmap"
           }
          ],
          "heatmapgl": [
           {
            "colorbar": {
             "outlinewidth": 0,
             "ticks": ""
            },
            "colorscale": [
             [
              0,
              "#0d0887"
             ],
             [
              0.1111111111111111,
              "#46039f"
             ],
             [
              0.2222222222222222,
              "#7201a8"
             ],
             [
              0.3333333333333333,
              "#9c179e"
             ],
             [
              0.4444444444444444,
              "#bd3786"
             ],
             [
              0.5555555555555556,
              "#d8576b"
             ],
             [
              0.6666666666666666,
              "#ed7953"
             ],
             [
              0.7777777777777778,
              "#fb9f3a"
             ],
             [
              0.8888888888888888,
              "#fdca26"
             ],
             [
              1,
              "#f0f921"
             ]
            ],
            "type": "heatmapgl"
           }
          ],
          "histogram": [
           {
            "marker": {
             "pattern": {
              "fillmode": "overlay",
              "size": 10,
              "solidity": 0.2
             }
            },
            "type": "histogram"
           }
          ],
          "histogram2d": [
           {
            "colorbar": {
             "outlinewidth": 0,
             "ticks": ""
            },
            "colorscale": [
             [
              0,
              "#0d0887"
             ],
             [
              0.1111111111111111,
              "#46039f"
             ],
             [
              0.2222222222222222,
              "#7201a8"
             ],
             [
              0.3333333333333333,
              "#9c179e"
             ],
             [
              0.4444444444444444,
              "#bd3786"
             ],
             [
              0.5555555555555556,
              "#d8576b"
             ],
             [
              0.6666666666666666,
              "#ed7953"
             ],
             [
              0.7777777777777778,
              "#fb9f3a"
             ],
             [
              0.8888888888888888,
              "#fdca26"
             ],
             [
              1,
              "#f0f921"
             ]
            ],
            "type": "histogram2d"
           }
          ],
          "histogram2dcontour": [
           {
            "colorbar": {
             "outlinewidth": 0,
             "ticks": ""
            },
            "colorscale": [
             [
              0,
              "#0d0887"
             ],
             [
              0.1111111111111111,
              "#46039f"
             ],
             [
              0.2222222222222222,
              "#7201a8"
             ],
             [
              0.3333333333333333,
              "#9c179e"
             ],
             [
              0.4444444444444444,
              "#bd3786"
             ],
             [
              0.5555555555555556,
              "#d8576b"
             ],
             [
              0.6666666666666666,
              "#ed7953"
             ],
             [
              0.7777777777777778,
              "#fb9f3a"
             ],
             [
              0.8888888888888888,
              "#fdca26"
             ],
             [
              1,
              "#f0f921"
             ]
            ],
            "type": "histogram2dcontour"
           }
          ],
          "mesh3d": [
           {
            "colorbar": {
             "outlinewidth": 0,
             "ticks": ""
            },
            "type": "mesh3d"
           }
          ],
          "parcoords": [
           {
            "line": {
             "colorbar": {
              "outlinewidth": 0,
              "ticks": ""
             }
            },
            "type": "parcoords"
           }
          ],
          "pie": [
           {
            "automargin": true,
            "type": "pie"
           }
          ],
          "scatter": [
           {
            "fillpattern": {
             "fillmode": "overlay",
             "size": 10,
             "solidity": 0.2
            },
            "type": "scatter"
           }
          ],
          "scatter3d": [
           {
            "line": {
             "colorbar": {
              "outlinewidth": 0,
              "ticks": ""
             }
            },
            "marker": {
             "colorbar": {
              "outlinewidth": 0,
              "ticks": ""
             }
            },
            "type": "scatter3d"
           }
          ],
          "scattercarpet": [
           {
            "marker": {
             "colorbar": {
              "outlinewidth": 0,
              "ticks": ""
             }
            },
            "type": "scattercarpet"
           }
          ],
          "scattergeo": [
           {
            "marker": {
             "colorbar": {
              "outlinewidth": 0,
              "ticks": ""
             }
            },
            "type": "scattergeo"
           }
          ],
          "scattergl": [
           {
            "marker": {
             "colorbar": {
              "outlinewidth": 0,
              "ticks": ""
             }
            },
            "type": "scattergl"
           }
          ],
          "scattermapbox": [
           {
            "marker": {
             "colorbar": {
              "outlinewidth": 0,
              "ticks": ""
             }
            },
            "type": "scattermapbox"
           }
          ],
          "scatterpolar": [
           {
            "marker": {
             "colorbar": {
              "outlinewidth": 0,
              "ticks": ""
             }
            },
            "type": "scatterpolar"
           }
          ],
          "scatterpolargl": [
           {
            "marker": {
             "colorbar": {
              "outlinewidth": 0,
              "ticks": ""
             }
            },
            "type": "scatterpolargl"
           }
          ],
          "scatterternary": [
           {
            "marker": {
             "colorbar": {
              "outlinewidth": 0,
              "ticks": ""
             }
            },
            "type": "scatterternary"
           }
          ],
          "surface": [
           {
            "colorbar": {
             "outlinewidth": 0,
             "ticks": ""
            },
            "colorscale": [
             [
              0,
              "#0d0887"
             ],
             [
              0.1111111111111111,
              "#46039f"
             ],
             [
              0.2222222222222222,
              "#7201a8"
             ],
             [
              0.3333333333333333,
              "#9c179e"
             ],
             [
              0.4444444444444444,
              "#bd3786"
             ],
             [
              0.5555555555555556,
              "#d8576b"
             ],
             [
              0.6666666666666666,
              "#ed7953"
             ],
             [
              0.7777777777777778,
              "#fb9f3a"
             ],
             [
              0.8888888888888888,
              "#fdca26"
             ],
             [
              1,
              "#f0f921"
             ]
            ],
            "type": "surface"
           }
          ],
          "table": [
           {
            "cells": {
             "fill": {
              "color": "#EBF0F8"
             },
             "line": {
              "color": "white"
             }
            },
            "header": {
             "fill": {
              "color": "#C8D4E3"
             },
             "line": {
              "color": "white"
             }
            },
            "type": "table"
           }
          ]
         },
         "layout": {
          "annotationdefaults": {
           "arrowcolor": "#2a3f5f",
           "arrowhead": 0,
           "arrowwidth": 1
          },
          "autotypenumbers": "strict",
          "coloraxis": {
           "colorbar": {
            "outlinewidth": 0,
            "ticks": ""
           }
          },
          "colorscale": {
           "diverging": [
            [
             0,
             "#8e0152"
            ],
            [
             0.1,
             "#c51b7d"
            ],
            [
             0.2,
             "#de77ae"
            ],
            [
             0.3,
             "#f1b6da"
            ],
            [
             0.4,
             "#fde0ef"
            ],
            [
             0.5,
             "#f7f7f7"
            ],
            [
             0.6,
             "#e6f5d0"
            ],
            [
             0.7,
             "#b8e186"
            ],
            [
             0.8,
             "#7fbc41"
            ],
            [
             0.9,
             "#4d9221"
            ],
            [
             1,
             "#276419"
            ]
           ],
           "sequential": [
            [
             0,
             "#0d0887"
            ],
            [
             0.1111111111111111,
             "#46039f"
            ],
            [
             0.2222222222222222,
             "#7201a8"
            ],
            [
             0.3333333333333333,
             "#9c179e"
            ],
            [
             0.4444444444444444,
             "#bd3786"
            ],
            [
             0.5555555555555556,
             "#d8576b"
            ],
            [
             0.6666666666666666,
             "#ed7953"
            ],
            [
             0.7777777777777778,
             "#fb9f3a"
            ],
            [
             0.8888888888888888,
             "#fdca26"
            ],
            [
             1,
             "#f0f921"
            ]
           ],
           "sequentialminus": [
            [
             0,
             "#0d0887"
            ],
            [
             0.1111111111111111,
             "#46039f"
            ],
            [
             0.2222222222222222,
             "#7201a8"
            ],
            [
             0.3333333333333333,
             "#9c179e"
            ],
            [
             0.4444444444444444,
             "#bd3786"
            ],
            [
             0.5555555555555556,
             "#d8576b"
            ],
            [
             0.6666666666666666,
             "#ed7953"
            ],
            [
             0.7777777777777778,
             "#fb9f3a"
            ],
            [
             0.8888888888888888,
             "#fdca26"
            ],
            [
             1,
             "#f0f921"
            ]
           ]
          },
          "colorway": [
           "#636efa",
           "#EF553B",
           "#00cc96",
           "#ab63fa",
           "#FFA15A",
           "#19d3f3",
           "#FF6692",
           "#B6E880",
           "#FF97FF",
           "#FECB52"
          ],
          "font": {
           "color": "#2a3f5f"
          },
          "geo": {
           "bgcolor": "white",
           "lakecolor": "white",
           "landcolor": "white",
           "showlakes": true,
           "showland": true,
           "subunitcolor": "#C8D4E3"
          },
          "hoverlabel": {
           "align": "left"
          },
          "hovermode": "closest",
          "mapbox": {
           "style": "light"
          },
          "paper_bgcolor": "white",
          "plot_bgcolor": "white",
          "polar": {
           "angularaxis": {
            "gridcolor": "#EBF0F8",
            "linecolor": "#EBF0F8",
            "ticks": ""
           },
           "bgcolor": "white",
           "radialaxis": {
            "gridcolor": "#EBF0F8",
            "linecolor": "#EBF0F8",
            "ticks": ""
           }
          },
          "scene": {
           "xaxis": {
            "backgroundcolor": "white",
            "gridcolor": "#DFE8F3",
            "gridwidth": 2,
            "linecolor": "#EBF0F8",
            "showbackground": true,
            "ticks": "",
            "zerolinecolor": "#EBF0F8"
           },
           "yaxis": {
            "backgroundcolor": "white",
            "gridcolor": "#DFE8F3",
            "gridwidth": 2,
            "linecolor": "#EBF0F8",
            "showbackground": true,
            "ticks": "",
            "zerolinecolor": "#EBF0F8"
           },
           "zaxis": {
            "backgroundcolor": "white",
            "gridcolor": "#DFE8F3",
            "gridwidth": 2,
            "linecolor": "#EBF0F8",
            "showbackground": true,
            "ticks": "",
            "zerolinecolor": "#EBF0F8"
           }
          },
          "shapedefaults": {
           "line": {
            "color": "#2a3f5f"
           }
          },
          "ternary": {
           "aaxis": {
            "gridcolor": "#DFE8F3",
            "linecolor": "#A2B1C6",
            "ticks": ""
           },
           "baxis": {
            "gridcolor": "#DFE8F3",
            "linecolor": "#A2B1C6",
            "ticks": ""
           },
           "bgcolor": "white",
           "caxis": {
            "gridcolor": "#DFE8F3",
            "linecolor": "#A2B1C6",
            "ticks": ""
           }
          },
          "title": {
           "x": 0.05
          },
          "xaxis": {
           "automargin": true,
           "gridcolor": "#EBF0F8",
           "linecolor": "#EBF0F8",
           "ticks": "",
           "title": {
            "standoff": 15
           },
           "zerolinecolor": "#EBF0F8",
           "zerolinewidth": 2
          },
          "yaxis": {
           "automargin": true,
           "gridcolor": "#EBF0F8",
           "linecolor": "#EBF0F8",
           "ticks": "",
           "title": {
            "standoff": 15
           },
           "zerolinecolor": "#EBF0F8",
           "zerolinewidth": 2
          }
         }
        },
        "title": {
         "font": {
          "color": "Black",
          "size": 22
         },
         "text": "<b>Topic Word Scores",
         "x": 0.5,
         "xanchor": "center",
         "yanchor": "top"
        },
        "width": 1000,
        "xaxis": {
         "anchor": "y",
         "domain": [
          0,
          0.175
         ],
         "showgrid": true
        },
        "xaxis2": {
         "anchor": "y2",
         "domain": [
          0.275,
          0.45
         ],
         "showgrid": true
        },
        "xaxis3": {
         "anchor": "y3",
         "domain": [
          0.55,
          0.7250000000000001
         ],
         "showgrid": true
        },
        "xaxis4": {
         "anchor": "y4",
         "domain": [
          0.825,
          1
         ],
         "showgrid": true
        },
        "xaxis5": {
         "anchor": "y5",
         "domain": [
          0,
          0.175
         ],
         "showgrid": true
        },
        "xaxis6": {
         "anchor": "y6",
         "domain": [
          0.275,
          0.45
         ],
         "showgrid": true
        },
        "xaxis7": {
         "anchor": "y7",
         "domain": [
          0.55,
          0.7250000000000001
         ],
         "showgrid": true
        },
        "xaxis8": {
         "anchor": "y8",
         "domain": [
          0.825,
          1
         ],
         "showgrid": true
        },
        "yaxis": {
         "anchor": "x",
         "domain": [
          0.6000000000000001,
          1
         ],
         "showgrid": true
        },
        "yaxis2": {
         "anchor": "x2",
         "domain": [
          0.6000000000000001,
          1
         ],
         "showgrid": true
        },
        "yaxis3": {
         "anchor": "x3",
         "domain": [
          0.6000000000000001,
          1
         ],
         "showgrid": true
        },
        "yaxis4": {
         "anchor": "x4",
         "domain": [
          0.6000000000000001,
          1
         ],
         "showgrid": true
        },
        "yaxis5": {
         "anchor": "x5",
         "domain": [
          0,
          0.4
         ],
         "showgrid": true
        },
        "yaxis6": {
         "anchor": "x6",
         "domain": [
          0,
          0.4
         ],
         "showgrid": true
        },
        "yaxis7": {
         "anchor": "x7",
         "domain": [
          0,
          0.4
         ],
         "showgrid": true
        },
        "yaxis8": {
         "anchor": "x8",
         "domain": [
          0,
          0.4
         ],
         "showgrid": true
        }
       }
      }
     },
     "metadata": {},
     "output_type": "display_data"
    }
   ],
   "source": [
    "topic_model.visualize_barchart(n_words=5)"
   ]
  },
  {
   "cell_type": "code",
   "execution_count": 176,
   "metadata": {},
   "outputs": [
    {
     "name": "stdout",
     "output_type": "stream",
     "text": [
      "Most Similar Topic Info: \n",
      "[('food', 0.08530127629734538), ('service', 0.05464323475502398), ('great', 0.04846029206388202), ('place', 0.0484186534852056), ('good', 0.04564896292684885), ('area', 0.04341106805360283), ('restaurant', 0.03915833442068458), ('excellent', 0.03863908505307181), ('closed', 0.03806316779299049), ('friendly', 0.03181286959954767), ('best', 0.03174612700623657), ('location', 0.03125339988249581), ('visit', 0.026693547075990084), ('server', 0.024708815272626628), ('fantastic', 0.024559047219163455), ('enjoyed', 0.023884161420020398), ('healthy', 0.023646199384567437), ('really', 0.023566678138607935), ('staff', 0.023428685983224864), ('see', 0.02300088011368484)]\n",
      "Similarity Score: 0.6398129087066582\n",
      "\n",
      " Most Similar Topic Info: \n",
      "[('great', 0.09358328998276212), ('music', 0.0916240622946241), ('service', 0.0915253782730989), ('live', 0.06261455273225863), ('band', 0.057771220341531496), ('fantastic', 0.05758968215504183), ('always', 0.05262616014637558), ('back', 0.04863976422115584), ('dance', 0.04615147264076543), ('wonderful', 0.04554394603241106), ('enjoy', 0.04430018762600986), ('absolutely', 0.043621014804947164), ('amazing', 0.04262829515280355), ('food', 0.04118203654814451), ('atmosphere', 0.03804729388502143), ('new', 0.03732064623844111), ('remember', 0.036966067795154205), ('night', 0.03664379463574857), ('excited', 0.03609846576536903), ('environment', 0.03609846576536903)]\n",
      "Similarity Score: 0.6247478910736016\n",
      "\n",
      " Most Similar Topic Info: \n",
      "[('order', 0.02904817533999586), ('manager', 0.02823993386109258), ('service', 0.024732983363855217), ('food', 0.024173797024455778), ('asked', 0.02259758950871481), ('minute', 0.021850860219033093), ('said', 0.021576695469594735), ('one', 0.021445187834026866), ('time', 0.02142522952653497), ('came', 0.01956833284919896), ('back', 0.018605614268696998), ('get', 0.018152381036838056), ('customer', 0.017334223326379284), ('people', 0.01652683057245554), ('would', 0.016193434667394296), ('table', 0.0161599056735104), ('didnt', 0.015941959633586533), ('rude', 0.015594002788630825), ('drink', 0.01541999447538972), ('went', 0.015153092197218776)]\n",
      "Similarity Score: 0.6002955210050664\n"
     ]
    }
   ],
   "source": [
    "similar_topics, similarity = topic_model.find_topics(\"service\", top_n = 3) \n",
    "\n",
    "\n",
    "print(\"Most Similar Topic Info: \\n{}\".format(topic_model.get_topic(similar_topics[0])))\n",
    "print(\"Similarity Score: {}\".format(similarity[0]))\n",
    "\n",
    "print(\"\\n Most Similar Topic Info: \\n{}\".format(topic_model.get_topic(similar_topics[1])))\n",
    "print(\"Similarity Score: {}\".format(similarity[1]))\n",
    "\n",
    "print(\"\\n Most Similar Topic Info: \\n{}\".format(topic_model.get_topic(similar_topics[2])))\n",
    "print(\"Similarity Score: {}\".format(similarity[2]))"
   ]
  },
  {
   "cell_type": "code",
   "execution_count": 179,
   "metadata": {},
   "outputs": [
    {
     "name": "stdout",
     "output_type": "stream",
     "text": [
      "Most Similar Topic Info: \n",
      "[('chicken', 0.05564303998411522), ('ordered', 0.05155032186477447), ('delivery', 0.04833325968294157), ('oil', 0.042057972617408776), ('like', 0.0407244975643554), ('online', 0.0380797306403849), ('order', 0.037395888096140126), ('didnt', 0.03387174925711055), ('ordering', 0.030550377916416904), ('spring', 0.029201207284557402), ('always', 0.029092214373052566), ('extra', 0.027814114060145362), ('food', 0.027102142832647263), ('disappointed', 0.02679343231464919), ('tasted', 0.026530078296142866), ('two', 0.026420530414905), ('roll', 0.026277426894904463), ('chinese', 0.026229866204000918), ('fresh', 0.026223321542307776), ('would', 0.02519014826972471)]\n",
      "Similarity Score: 0.5129082278535722\n",
      "\n",
      " Most Similar Topic Info: \n",
      "[('place', 0.024993834599869046), ('food', 0.02445442452064711), ('good', 0.02335654335629392), ('great', 0.023000671209992773), ('service', 0.02183809782634149), ('menu', 0.016262808485639303), ('back', 0.01618665121134159), ('time', 0.015034435674701634), ('got', 0.014016832794027932), ('one', 0.013926570235373727), ('go', 0.013795694507114093), ('really', 0.01353274265126548), ('like', 0.01309976684145455), ('also', 0.01297834701521373), ('get', 0.01276389791352301), ('definitely', 0.012696987567200122), ('restaurant', 0.012453769051514125), ('price', 0.012352968026893377), ('little', 0.012178646894479854), ('delicious', 0.012136219251806359)]\n",
      "Similarity Score: 0.4900480464325113\n",
      "\n",
      " Most Similar Topic Info: \n",
      "[('order', 0.02904817533999586), ('manager', 0.02823993386109258), ('service', 0.024732983363855217), ('food', 0.024173797024455778), ('asked', 0.02259758950871481), ('minute', 0.021850860219033093), ('said', 0.021576695469594735), ('one', 0.021445187834026866), ('time', 0.02142522952653497), ('came', 0.01956833284919896), ('back', 0.018605614268696998), ('get', 0.018152381036838056), ('customer', 0.017334223326379284), ('people', 0.01652683057245554), ('would', 0.016193434667394296), ('table', 0.0161599056735104), ('didnt', 0.015941959633586533), ('rude', 0.015594002788630825), ('drink', 0.01541999447538972), ('went', 0.015153092197218776)]\n",
      "Similarity Score: 0.4758091356636104\n"
     ]
    }
   ],
   "source": [
    "similar_topics, similarity = topic_model.find_topics(\"price\", top_n = 3) \n",
    "\n",
    "\n",
    "print(\"Most Similar Topic Info: \\n{}\".format(topic_model.get_topic(similar_topics[0])))\n",
    "print(\"Similarity Score: {}\".format(similarity[0]))\n",
    "\n",
    "print(\"\\n Most Similar Topic Info: \\n{}\".format(topic_model.get_topic(similar_topics[1])))\n",
    "print(\"Similarity Score: {}\".format(similarity[1]))\n",
    "\n",
    "print(\"\\n Most Similar Topic Info: \\n{}\".format(topic_model.get_topic(similar_topics[2])))\n",
    "print(\"Similarity Score: {}\".format(similarity[2]))"
   ]
  },
  {
   "cell_type": "code",
   "execution_count": null,
   "metadata": {},
   "outputs": [],
   "source": [
    "# plt.figure(figsize=(12, 6))\n",
    "# plt.plot(np.mean(topic_model.probabilities_, axis=0),'o')\n",
    "# plt.vlines(x=np.arange(len(np.mean(topic_model.probabilities_, axis=0))), ymin=0, ymax=np.mean(topic_model.probabilities_, axis=0))\n"
   ]
  }
 ],
 "metadata": {
  "kernelspec": {
   "display_name": "stan",
   "language": "python",
   "name": "python3"
  },
  "language_info": {
   "codemirror_mode": {
    "name": "ipython",
    "version": 3
   },
   "file_extension": ".py",
   "mimetype": "text/x-python",
   "name": "python",
   "nbconvert_exporter": "python",
   "pygments_lexer": "ipython3",
   "version": "3.10.4"
  },
  "orig_nbformat": 4,
  "vscode": {
   "interpreter": {
    "hash": "7251645f9d3f94c6d075fc366747525888e0a6c2da77a86838a138db92431a52"
   }
  }
 },
 "nbformat": 4,
 "nbformat_minor": 2
}
