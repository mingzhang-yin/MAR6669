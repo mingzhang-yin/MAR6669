{
 "cells": [
  {
   "cell_type": "code",
   "execution_count": 8,
   "metadata": {},
   "outputs": [],
   "source": [
    "# pip install pyreadr\n",
    "import pandas as pd\n",
    "import numpy as np\n",
    "import pyreadr \n",
    "import matplotlib.pyplot as plt\n",
    "import seaborn as sns\n",
    "from statsmodels.api import OLS\n",
    "from statsmodels.tools.tools import add_constant\n",
    "from linearmodels import PanelOLS #pip install linearmodels"
   ]
  },
  {
   "cell_type": "code",
   "execution_count": 9,
   "metadata": {},
   "outputs": [],
   "source": [
    "# On April 1, 1992, New Jersey's minimum wage rose from $4.25 to $5.05 per hour. To evaluate the impact of the law, the authors surveyed 410 fast-food restaurants in New Jersey and eastern Pennsylvania before and after the rise.\n",
    "\n",
    "# Does the rise in the minimum wage reduce employment?"
   ]
  },
  {
   "cell_type": "code",
   "execution_count": 10,
   "metadata": {},
   "outputs": [
    {
     "name": "stdout",
     "output_type": "stream",
     "text": [
      "  bonus   chain co_owned  date  empft  emppt  firstinc  hrsopen  inctime  \\\n",
      "0   yes      bk       no  None   30.0   15.0       NaN     16.5     19.0   \n",
      "1    no     kfc       no  None    6.5    6.5       NaN     13.0     26.0   \n",
      "2    no     kfc      yes  None    3.0    7.0      0.37     10.0     13.0   \n",
      "3   yes  wendys      yes  None   20.0   20.0      0.10     12.0     26.0   \n",
      "4   yes  wendys      yes  None    6.0   26.0      0.15     12.0     52.0   \n",
      "\n",
      "                               meals  ...  psoda    region  sheet  special  \\\n",
      "0                reduced price meals  ...   1.03  phillypa   46.0      NaN   \n",
      "1                reduced price meals  ...   1.01  phillypa   49.0      NaN   \n",
      "2                reduced price meals  ...   0.95  phillypa  506.0      NaN   \n",
      "3                reduced price meals  ...   0.87  phillypa   56.0      NaN   \n",
      "4  both free and reduced price meals  ...   0.87  phillypa   61.0      NaN   \n",
      "\n",
      "          state  status  type  wage_st  emptot    pct_fte  \n",
      "0  Pennsylvania     NaN   NaN      NaN   40.50  74.074074  \n",
      "1  Pennsylvania     NaN   NaN      NaN   13.75  47.272727  \n",
      "2  Pennsylvania     NaN   NaN      NaN    8.50  35.294118  \n",
      "3  Pennsylvania     NaN   NaN      5.0   34.00  58.823529  \n",
      "4  Pennsylvania     NaN   NaN      5.5   24.00  25.000000  \n",
      "\n",
      "[5 rows x 29 columns]\n"
     ]
    }
   ],
   "source": [
    "result = pyreadr.read_r('/Users/mingzhangyin/Dropbox (UFL)/UF teaching/My course/12-Panel data methods- DiD, synthetic control/data/card.rds')\n",
    "card_krueger_1994_mod = result[None] # the result is a dictionary containing the data frame(s), we get the first data frame with None\n",
    "print(card_krueger_1994_mod.head())"
   ]
  },
  {
   "cell_type": "code",
   "execution_count": 11,
   "metadata": {},
   "outputs": [
    {
     "data": {
      "text/plain": [
       "(820, 29)"
      ]
     },
     "execution_count": 11,
     "metadata": {},
     "output_type": "execute_result"
    }
   ],
   "source": [
    "card_krueger_1994_mod.shape"
   ]
  },
  {
   "cell_type": "code",
   "execution_count": 12,
   "metadata": {},
   "outputs": [
    {
     "data": {
      "text/plain": [
       "Index(['bonus', 'chain', 'co_owned', 'date', 'empft', 'emppt', 'firstinc',\n",
       "       'hrsopen', 'inctime', 'meals', 'ncalls', 'nmgrs', 'nregs', 'nregs11',\n",
       "       'observation', 'open', 'pctaff', 'pentree', 'pfry', 'psoda', 'region',\n",
       "       'sheet', 'special', 'state', 'status', 'type', 'wage_st', 'emptot',\n",
       "       'pct_fte'],\n",
       "      dtype='object')"
      ]
     },
     "execution_count": 12,
     "metadata": {},
     "output_type": "execute_result"
    }
   ],
   "source": [
    "card_krueger_1994_mod.columns"
   ]
  },
  {
   "cell_type": "code",
   "execution_count": 13,
   "metadata": {},
   "outputs": [
    {
     "name": "stdout",
     "output_type": "stream",
     "text": [
      "state  New Jersey Pennsylvania\n",
      "chain                         \n",
      "bk          41.1%        44.3%\n",
      "kfc         20.5%        15.2%\n",
      "roys        24.8%        21.5%\n",
      "wendys      13.6%        19.0%\n"
     ]
    }
   ],
   "source": [
    "# Distribution of restaurants\n",
    "prop = pd.crosstab(index=card_krueger_1994_mod['chain'], columns=card_krueger_1994_mod['state'], normalize='columns')\n",
    "print(prop.applymap(lambda x: f'{x:.1%}').to_string())"
   ]
  },
  {
   "cell_type": "code",
   "execution_count": 14,
   "metadata": {},
   "outputs": [
    {
     "name": "stdout",
     "output_type": "stream",
     "text": [
      "state     New Jersey  Pennsylvania\n",
      "variable                          \n",
      "emptot     20.439408     23.331169\n",
      "hrsopen    14.418429     14.525316\n",
      "pct_fte    32.848870     35.037798\n",
      "wage_st     4.612134      4.630132\n"
     ]
    }
   ],
   "source": [
    "# Pre-treatment means\n",
    "pre_means = card_krueger_1994_mod.query(\"observation == 'February 1992'\").groupby('state')\\\n",
    "                                     .agg({'emptot': 'mean', 'pct_fte': 'mean', 'wage_st': 'mean', 'hrsopen': 'mean'})\\\n",
    "                                     .reset_index()\\\n",
    "                                     .melt(id_vars='state', var_name='variable', value_name='value')\\\n",
    "                                     .pivot(index='variable', columns='state', values='value')\n",
    "print(pre_means)"
   ]
  },
  {
   "cell_type": "code",
   "execution_count": 15,
   "metadata": {},
   "outputs": [
    {
     "name": "stdout",
     "output_type": "stream",
     "text": [
      "state     New Jersey  Pennsylvania\n",
      "variable                          \n",
      "emptot     21.027429     21.165584\n",
      "hrsopen    14.419782     14.653846\n",
      "pct_fte    35.865552     30.384849\n",
      "wage_st     5.080849      4.617465\n"
     ]
    }
   ],
   "source": [
    "# Post-treatment means\n",
    "post_means = card_krueger_1994_mod.query(\"observation == 'November 1992'\").groupby('state')\\\n",
    "                                      .agg({'emptot': 'mean', 'pct_fte': 'mean', 'wage_st': 'mean', 'hrsopen': 'mean'})\\\n",
    "                                      .reset_index()\\\n",
    "                                      .melt(id_vars='state', var_name='variable', value_name='value')\\\n",
    "                                      .pivot(index='variable', columns='state', values='value')\n",
    "print(post_means)"
   ]
  },
  {
   "cell_type": "code",
   "execution_count": 16,
   "metadata": {},
   "outputs": [
    {
     "data": {
      "image/png": "[encoded data removed]",
      "text/plain": [
       "<Figure size 1500x500 with 2 Axes>"
      ]
     },
     "metadata": {},
     "output_type": "display_data"
    }
   ],
   "source": [
    "# Plot distribution of the fast food restaurants’ wages grouped \n",
    "# by states NJ and PA before and after the treatment\n",
    "\n",
    "##############################\n",
    "# Plot distribution of the fast food restaurants’ wages grouped \n",
    "# by states NJ and PA before and after the treatment\n",
    "##############################\n",
    "\n",
    "feb_data = card_krueger_1994_mod[card_krueger_1994_mod['observation'] == \"February 1992\"]\n",
    "nov_data = card_krueger_1994_mod[card_krueger_1994_mod['observation'] == \"November 1992\"]\n",
    "\n",
    "fig, axes = plt.subplots(1, 2, figsize=(15, 5), sharey=True)\n",
    "sns.histplot(data=feb_data, x='wage_st', hue='state', stat='probability', common_norm=False, bins=23, alpha=0.5, ax=axes[0])\n",
    "sns.histplot(data=nov_data, x='wage_st', hue='state', stat='probability', common_norm=False, bins=23, alpha=0.5, ax=axes[1])\n",
    "\n",
    "axes[0].set_title(\"February 1992\")\n",
    "axes[0].set_xlabel(\"Wage range\")\n",
    "axes[0].set_ylabel(\"Percent of stores\")\n",
    "\n",
    "axes[1].set_title(\"November 1992\")\n",
    "axes[1].set_xlabel(\"Wage range\")\n",
    "\n",
    "plt.show()"
   ]
  },
  {
   "cell_type": "code",
   "execution_count": 17,
   "metadata": {},
   "outputs": [
    {
     "name": "stdout",
     "output_type": "stream",
     "text": [
      "2.753605782980582 2.753605782980582\n"
     ]
    }
   ],
   "source": [
    "##############################\n",
    "# Average Treatment Effect\n",
    "##############################\n",
    "\n",
    "# four groups with distinct mean values\n",
    "differences = card_krueger_1994_mod.groupby(['observation', 'state']).agg({\"emptot\": \"mean\"}).reset_index()\n",
    "\n",
    "# Treatment group (NJ) before treatment\n",
    "njfeb = differences.loc[(differences[\"observation\"] == \"February 1992\") & (differences[\"state\"] == \"New Jersey\"), \"emptot\"].values[0]\n",
    "\n",
    "# Control group (PA) before treatment\n",
    "pafeb = differences.loc[(differences[\"observation\"] == \"February 1992\") & (differences[\"state\"] == \"Pennsylvania\"), \"emptot\"].values[0]\n",
    "\n",
    "# Treatment group (NJ) after treatment\n",
    "njnov = differences.loc[(differences[\"observation\"] == \"November 1992\") & (differences[\"state\"] == \"New Jersey\"), \"emptot\"].values[0]\n",
    "\n",
    "# Control group (PA) after treatment\n",
    "panov = differences.loc[(differences[\"observation\"] == \"November 1992\") & (differences[\"state\"] == \"Pennsylvania\"), \"emptot\"].values[0]\n",
    "\n",
    "# Two equivalent diff-in-diff\n",
    "# difference between the difference of November and February within NJ and PA\n",
    "dif1 = (njnov - njfeb) - (panov - pafeb)\n",
    "\n",
    "# calculate the difference between the difference of NJ and PA within November and February\n",
    "dif2 = (njnov - panov) - (njfeb - pafeb)\n",
    "\n",
    "print(dif1, dif2)"
   ]
  },
  {
   "cell_type": "code",
   "execution_count": 18,
   "metadata": {},
   "outputs": [],
   "source": [
    "##############################\n",
    "# Calculate counterfactual outcome (optional)\n",
    "##############################\n",
    "\n",
    "\n",
    "# without the treatment, the employment (emptot) of NJ would decline \n",
    "# from February to November by the same amount as PA\n",
    "nj_counterfactual = pd.DataFrame({\"observation\": [\"February 1992\", \"November 1992\"],\n",
    "                                   \"state\": [\"New Jersey (Counterfactual)\", \"New Jersey (Counterfactual)\"],\n",
    "                                   \"emptot\": [njfeb, njfeb - (pafeb - panov)]})\n",
    "\n",
    "intervention = pd.DataFrame({\n",
    "    'observation': [\"Intervention\", \"Intervention\", \"Intervention\"],\n",
    "    'state': [\"New Jersey\", \"Pennsylvania\", \"New Jersey (Counterfactual)\"],\n",
    "    'emptot': [19.35, 22.3, 19.35]\n",
    "})\n",
    "\n",
    "# Combine data\n",
    "did_plotdata = pd.concat([differences, nj_counterfactual, intervention], ignore_index=True)"
   ]
  },
  {
   "cell_type": "code",
   "execution_count": 20,
   "metadata": {},
   "outputs": [
    {
     "data": {
      "text/html": [
       "<div>\n",
       "<style scoped>\n",
       "    .dataframe tbody tr th:only-of-type {\n",
       "        vertical-align: middle;\n",
       "    }\n",
       "\n",
       "    .dataframe tbody tr th {\n",
       "        vertical-align: top;\n",
       "    }\n",
       "\n",
       "    .dataframe thead th {\n",
       "        text-align: right;\n",
       "    }\n",
       "</style>\n",
       "<table border=\"1\" class=\"dataframe\">\n",
       "  <thead>\n",
       "    <tr style=\"text-align: right;\">\n",
       "      <th></th>\n",
       "      <th>observation</th>\n",
       "      <th>state</th>\n",
       "      <th>emptot</th>\n",
       "    </tr>\n",
       "  </thead>\n",
       "  <tbody>\n",
       "    <tr>\n",
       "      <th>0</th>\n",
       "      <td>February 1992</td>\n",
       "      <td>New Jersey</td>\n",
       "      <td>20.439408</td>\n",
       "    </tr>\n",
       "    <tr>\n",
       "      <th>1</th>\n",
       "      <td>February 1992</td>\n",
       "      <td>Pennsylvania</td>\n",
       "      <td>23.331169</td>\n",
       "    </tr>\n",
       "    <tr>\n",
       "      <th>2</th>\n",
       "      <td>November 1992</td>\n",
       "      <td>New Jersey</td>\n",
       "      <td>21.027429</td>\n",
       "    </tr>\n",
       "    <tr>\n",
       "      <th>3</th>\n",
       "      <td>November 1992</td>\n",
       "      <td>Pennsylvania</td>\n",
       "      <td>21.165584</td>\n",
       "    </tr>\n",
       "    <tr>\n",
       "      <th>4</th>\n",
       "      <td>February 1992</td>\n",
       "      <td>New Jersey (Counterfactual)</td>\n",
       "      <td>20.439408</td>\n",
       "    </tr>\n",
       "    <tr>\n",
       "      <th>5</th>\n",
       "      <td>November 1992</td>\n",
       "      <td>New Jersey (Counterfactual)</td>\n",
       "      <td>18.273824</td>\n",
       "    </tr>\n",
       "    <tr>\n",
       "      <th>6</th>\n",
       "      <td>Intervention</td>\n",
       "      <td>New Jersey</td>\n",
       "      <td>19.350000</td>\n",
       "    </tr>\n",
       "    <tr>\n",
       "      <th>7</th>\n",
       "      <td>Intervention</td>\n",
       "      <td>Pennsylvania</td>\n",
       "      <td>22.300000</td>\n",
       "    </tr>\n",
       "    <tr>\n",
       "      <th>8</th>\n",
       "      <td>Intervention</td>\n",
       "      <td>New Jersey (Counterfactual)</td>\n",
       "      <td>19.350000</td>\n",
       "    </tr>\n",
       "  </tbody>\n",
       "</table>\n",
       "</div>"
      ],
      "text/plain": [
       "     observation                        state     emptot\n",
       "0  February 1992                   New Jersey  20.439408\n",
       "1  February 1992                 Pennsylvania  23.331169\n",
       "2  November 1992                   New Jersey  21.027429\n",
       "3  November 1992                 Pennsylvania  21.165584\n",
       "4  February 1992  New Jersey (Counterfactual)  20.439408\n",
       "5  November 1992  New Jersey (Counterfactual)  18.273824\n",
       "6   Intervention                   New Jersey  19.350000\n",
       "7   Intervention                 Pennsylvania  22.300000\n",
       "8   Intervention  New Jersey (Counterfactual)  19.350000"
      ]
     },
     "execution_count": 20,
     "metadata": {},
     "output_type": "execute_result"
    }
   ],
   "source": [
    "did_plotdata"
   ]
  },
  {
   "attachments": {},
   "cell_type": "markdown",
   "metadata": {},
   "source": [
    "<img src=\"did.png\" alt=\"DiD plot\" width=\"500\" height=\"350\">"
   ]
  },
  {
   "cell_type": "code",
   "execution_count": 11,
   "metadata": {},
   "outputs": [
    {
     "name": "stdout",
     "output_type": "stream",
     "text": [
      "                            OLS Regression Results                            \n",
      "==============================================================================\n",
      "Dep. Variable:                 emptot   R-squared:                       0.007\n",
      "Model:                            OLS   Adj. R-squared:                  0.004\n",
      "Method:                 Least Squares   F-statistic:                     1.964\n",
      "Date:                Sun, 19 Mar 2023   Prob (F-statistic):              0.118\n",
      "Time:                        01:42:06   Log-Likelihood:                -2904.2\n",
      "No. Observations:                 794   AIC:                             5816.\n",
      "Df Residuals:                     790   BIC:                             5835.\n",
      "Df Model:                           3                                         \n",
      "Covariance Type:            nonrobust                                         \n",
      "================================================================================\n",
      "                   coef    std err          t      P>|t|      [0.025      0.975]\n",
      "--------------------------------------------------------------------------------\n",
      "const           23.3312      1.072     21.767      0.000      21.227      25.435\n",
      "time            -2.1656      1.516     -1.429      0.154      -5.141       0.810\n",
      "treated         -2.8918      1.194     -2.423      0.016      -5.235      -0.549\n",
      "time_treated     2.7536      1.688      1.631      0.103      -0.561       6.068\n",
      "==============================================================================\n",
      "Omnibus:                      218.742   Durbin-Watson:                   1.840\n",
      "Prob(Omnibus):                  0.000   Jarque-Bera (JB):              804.488\n",
      "Skew:                           1.268   Prob(JB):                    2.03e-175\n",
      "Kurtosis:                       7.229   Cond. No.                         11.3\n",
      "==============================================================================\n",
      "\n",
      "Notes:\n",
      "[1] Standard Errors assume that the covariance matrix of the errors is correctly specified.\n"
     ]
    }
   ],
   "source": [
    "##############################\n",
    "# Calculating the DiD estimator by regression\n",
    "##############################\n",
    "\n",
    "# create two dummy variables for time & treatment\n",
    "card_krueger_1994_mod['time'] = np.where(card_krueger_1994_mod['observation'] == \"November 1992\", 1, 0)\n",
    "card_krueger_1994_mod['treated'] = np.where(card_krueger_1994_mod['state'] == \"New Jersey\", 1, 0)\n",
    "\n",
    "# interaction can be specified with the : operator\n",
    "X = card_krueger_1994_mod[['time', 'treated']].copy()\n",
    "X['time_treated'] = X['time'] * X['treated']\n",
    "X = add_constant(X)\n",
    "\n",
    "Y = card_krueger_1994_mod['emptot']\n",
    "idx = np.where(np.isnan(Y))[0]\n",
    "\n",
    "# drop the missing values\n",
    "Y1 = Y.dropna()\n",
    "X1 = X.drop(idx)\n",
    "\n",
    "did_model = OLS(Y1, X1).fit()\n",
    "print(did_model.summary())"
   ]
  },
  {
   "cell_type": "code",
   "execution_count": 12,
   "metadata": {},
   "outputs": [
    {
     "name": "stdout",
     "output_type": "stream",
     "text": [
      "                          PanelOLS Estimation Summary                           \n",
      "================================================================================\n",
      "Dep. Variable:                 emptot   R-squared:                        0.0147\n",
      "Estimator:                   PanelOLS   R-squared (Between):             -0.0134\n",
      "No. Observations:                 794   R-squared (Within):               0.0147\n",
      "Date:                Sun, Mar 19 2023   R-squared (Overall):             -0.0074\n",
      "Time:                        01:42:06   Log-likelihood                   -2302.7\n",
      "Cov. Estimator:            Unadjusted                                           \n",
      "                                        F-statistic:                      2.8495\n",
      "Entities:                         410   P-value                           0.0591\n",
      "Avg Obs:                       1.9366   Distribution:                   F(2,382)\n",
      "Min Obs:                       1.0000                                           \n",
      "Max Obs:                       2.0000   F-statistic (robust):             2.8495\n",
      "                                        P-value                           0.0591\n",
      "Time periods:                       2   Distribution:                   F(2,382)\n",
      "Avg Obs:                       397.00                                           \n",
      "Min Obs:                       396.00                                           \n",
      "Max Obs:                       398.00                                           \n",
      "                                                                                \n",
      "                              Parameter Estimates                               \n",
      "================================================================================\n",
      "              Parameter  Std. Err.     T-stat    P-value    Lower CI    Upper CI\n",
      "--------------------------------------------------------------------------------\n",
      "Intercept        21.060     0.3205     65.706     0.0000      20.430      21.691\n",
      "time            -2.2833     1.0355    -2.2050     0.0280     -4.3193     -0.2473\n",
      "time:treated     2.7500     1.1544     2.3823     0.0177      0.4803      5.0197\n",
      "================================================================================\n",
      "\n",
      "F-test for Poolability: 3.3471\n",
      "P-value: 0.0000\n",
      "Distribution: F(409,382)\n",
      "\n",
      "Included effects: Entity\n"
     ]
    },
    {
     "name": "stderr",
     "output_type": "stream",
     "text": [
      "/var/folders/b6/dnmgz4v90qndj_wtz10vd5rm0000gn/T/ipykernel_83591/1354351693.py:13: SettingWithCopyWarning: \n",
      "A value is trying to be set on a copy of a slice from a DataFrame.\n",
      "Try using .loc[row_indexer,col_indexer] = value instead\n",
      "\n",
      "See the caveats in the documentation: https://pandas.pydata.org/pandas-docs/stable/user_guide/indexing.html#returning-a-view-versus-a-copy\n",
      "  card_krueger_1994_mod['time'] = np.where(card_krueger_1994_mod['observation'] == \"November 1992\", 1, 0)\n",
      "/var/folders/b6/dnmgz4v90qndj_wtz10vd5rm0000gn/T/ipykernel_83591/1354351693.py:14: SettingWithCopyWarning: \n",
      "A value is trying to be set on a copy of a slice from a DataFrame.\n",
      "Try using .loc[row_indexer,col_indexer] = value instead\n",
      "\n",
      "See the caveats in the documentation: https://pandas.pydata.org/pandas-docs/stable/user_guide/indexing.html#returning-a-view-versus-a-copy\n",
      "  card_krueger_1994_mod['treated'] = np.where(card_krueger_1994_mod['state'] == \"New Jersey\", 1, 0)\n",
      "/var/folders/b6/dnmgz4v90qndj_wtz10vd5rm0000gn/T/ipykernel_83591/1354351693.py:17: SettingWithCopyWarning: \n",
      "A value is trying to be set on a copy of a slice from a DataFrame.\n",
      "Try using .loc[row_indexer,col_indexer] = value instead\n",
      "\n",
      "See the caveats in the documentation: https://pandas.pydata.org/pandas-docs/stable/user_guide/indexing.html#returning-a-view-versus-a-copy\n",
      "  card_krueger_1994_mod['date'] = pd.to_datetime(card_krueger_1994_mod['observation'])\n",
      "/var/folders/b6/dnmgz4v90qndj_wtz10vd5rm0000gn/T/ipykernel_83591/1354351693.py:22: AbsorbingEffectWarning: \n",
      "Variables have been fully absorbed and have removed from the regression:\n",
      "\n",
      "treated\n",
      "\n",
      "  did_reg = PanelOLS.from_formula(\"emptot ~ 1 + time + treated + time:treated + EntityEffects\", data=card_krueger_1994_mod, drop_absorbed=True).fit()\n"
     ]
    }
   ],
   "source": [
    "# We may want to only includes fast food restaurants that have responses regarding\n",
    "# employment (emptot) before and after the treatment \n",
    "# (this is a so called balanced sample). \n",
    "\n",
    "# we can get this result by computing a fixed effects model \n",
    "# which is sometimes also called a within estimator\n",
    "import statsmodels.api as sm\n",
    "result = pyreadr.read_r('/Users/mingzhangyin/Dropbox (UFL)/UF teaching/My course/12-Panel data methods- DiD, synthetic control/data/card.rds')\n",
    "card_krueger_1994_mod = result[None] \n",
    "card_krueger_1994_mod = card_krueger_1994_mod[card_krueger_1994_mod['emptot'].notna()]\n",
    "\n",
    "# Create two dummy variables for time & treatment\n",
    "card_krueger_1994_mod['time'] = np.where(card_krueger_1994_mod['observation'] == \"November 1992\", 1, 0)\n",
    "card_krueger_1994_mod['treated'] = np.where(card_krueger_1994_mod['state'] == \"New Jersey\", 1, 0)\n",
    "\n",
    "# Set the DataFrame index as 'sheet' and 'observation'\n",
    "card_krueger_1994_mod['date'] = pd.to_datetime(card_krueger_1994_mod['observation'])\n",
    "card_krueger_1994_mod = card_krueger_1994_mod.set_index(['sheet', 'date'])\n",
    "\n",
    "\n",
    "# Within model (replace column names 'emptot', 'time', and 'treated' if they are different)\n",
    "did_reg = PanelOLS.from_formula(\"emptot ~ 1 + time + treated + time:treated + EntityEffects\", data=card_krueger_1994_mod, drop_absorbed=True).fit()\n",
    "\n",
    "print(did_reg)\n"
   ]
  }
 ],
 "metadata": {
  "kernelspec": {
   "display_name": "base",
   "language": "python",
   "name": "python3"
  },
  "language_info": {
   "codemirror_mode": {
    "name": "ipython",
    "version": 3
   },
   "file_extension": ".py",
   "mimetype": "text/x-python",
   "name": "python",
   "nbconvert_exporter": "python",
   "pygments_lexer": "ipython3",
   "version": "3.9.13"
  },
  "orig_nbformat": 4
 },
 "nbformat": 4,
 "nbformat_minor": 2
}
