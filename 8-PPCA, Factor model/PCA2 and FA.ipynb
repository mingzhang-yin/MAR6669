{
 "cells": [
  {
   "cell_type": "code",
   "execution_count": 137,
   "metadata": {},
   "outputs": [],
   "source": [
    "import pandas as pd\n",
    "import numpy as np\n",
    "import matplotlib.pyplot as plt\n",
    "from sklearn.decomposition import PCA\n",
    "\n",
    "from sklearn.linear_model import LinearRegression\n",
    "from sklearn.metrics import r2_score\n",
    "\n",
    "from sklearn.preprocessing import scale\n",
    "from sklearn.cluster import KMeans\n",
    "from scipy.stats import zscore\n",
    "import statsmodels.api as sm"
   ]
  },
  {
   "attachments": {},
   "cell_type": "markdown",
   "metadata": {},
   "source": [
    "################################\n",
    "## Regression and Clustering after PCA\n",
    "################################"
   ]
  },
  {
   "cell_type": "code",
   "execution_count": 138,
   "metadata": {},
   "outputs": [
    {
     "name": "stdout",
     "output_type": "stream",
     "text": [
      "   Id  Export  Size  Revenue  Years  Numprod  Q1  Q2  Q3  Q4  ...  SD1  SD2  \\\n",
      "0   1       3    54      4.0    6.5        7   8   8   5   9  ...    9    9   \n",
      "1   2       2    45      2.0    6.0        6   9   9   9   9  ...    9    9   \n",
      "2   3       1    44      2.0    5.8       11  10   4   2   7  ...   10   10   \n",
      "3   4       3    46      1.0    7.0        3   8   8  10  10  ...    9    9   \n",
      "4   5       3    46      3.0    6.5        8   9   9   7   9  ...    8    8   \n",
      "\n",
      "   SD3  SD4  SD5  SD6  SD7  INN1  INN2  INN3  \n",
      "0    7    7    6    9    9     8     6     6  \n",
      "1    9    9    9    8   10     9     9     9  \n",
      "2   10   10    8   10    5     7     2     8  \n",
      "3    5    5    8   10    9     1     1     1  \n",
      "4    9    9    8    9   10     8     7     8  \n",
      "\n",
      "[5 rows x 25 columns]\n"
     ]
    }
   ],
   "source": [
    "np.random.seed(1234)\n",
    "\n",
    "# Read the CSV file\n",
    "dupont = pd.read_csv(\"/Users/mingzhangyin/Dropbox (UFL)/UF teaching/My course/8-PPCA, Factor model/dupont_data.csv\")\n",
    "print(dupont.head())\n",
    "\n"
   ]
  },
  {
   "cell_type": "code",
   "execution_count": 139,
   "metadata": {},
   "outputs": [
    {
     "name": "stdout",
     "output_type": "stream",
     "text": [
      "                            OLS Regression Results                            \n",
      "==============================================================================\n",
      "Dep. Variable:                Revenue   R-squared:                       0.543\n",
      "Model:                            OLS   Adj. R-squared:                  0.234\n",
      "Method:                 Least Squares   F-statistic:                     1.759\n",
      "Date:                Tue, 18 Apr 2023   Prob (F-statistic):             0.0658\n",
      "Time:                        19:08:05   Log-Likelihood:                -50.971\n",
      "No. Observations:                  58   AIC:                             149.9\n",
      "Df Residuals:                      34   BIC:                             199.4\n",
      "Df Model:                          23                                         \n",
      "Covariance Type:            nonrobust                                         \n",
      "==============================================================================\n",
      "                 coef    std err          t      P>|t|      [0.025      0.975]\n",
      "------------------------------------------------------------------------------\n",
      "const          2.0628      2.247      0.918      0.365      -2.504       6.630\n",
      "Export         0.1168      0.158      0.740      0.464      -0.204       0.437\n",
      "Size          -0.0135      0.016     -0.854      0.399      -0.046       0.019\n",
      "Years         -0.0040      0.148     -0.027      0.978      -0.304       0.296\n",
      "Numprod       -0.0554      0.059     -0.943      0.352      -0.175       0.064\n",
      "Q1             0.1855      0.129      1.436      0.160      -0.077       0.448\n",
      "Q2            -0.0836      0.127     -0.659      0.514      -0.341       0.174\n",
      "Q3            -0.4245      0.131     -3.250      0.003      -0.690      -0.159\n",
      "Q4             0.3218      0.143      2.245      0.031       0.031       0.613\n",
      "TS1            0.0509      0.133      0.381      0.706      -0.220       0.322\n",
      "TS2            0.0642      0.139      0.462      0.647      -0.218       0.347\n",
      "TS3            0.0855      0.143      0.598      0.554      -0.205       0.376\n",
      "SM1            0.0939      0.157      0.597      0.554      -0.226       0.414\n",
      "SM2           -0.2056      0.161     -1.275      0.211      -0.533       0.122\n",
      "SD1            0.0313      0.138      0.226      0.822      -0.249       0.312\n",
      "SD2           -0.1449      0.179     -0.808      0.425      -0.509       0.220\n",
      "SD3            0.0203      0.146      0.139      0.890      -0.276       0.317\n",
      "SD4           -0.0728      0.155     -0.469      0.642      -0.388       0.243\n",
      "SD5           -0.0667      0.088     -0.762      0.451      -0.245       0.111\n",
      "SD6           -0.0157      0.134     -0.117      0.907      -0.287       0.256\n",
      "SD7            0.1820      0.176      1.037      0.307      -0.175       0.539\n",
      "INN1           0.0456      0.072      0.634      0.530      -0.101       0.192\n",
      "INN2           0.0521      0.096      0.542      0.592      -0.143       0.248\n",
      "INN3          -0.1349      0.108     -1.247      0.221      -0.355       0.085\n",
      "==============================================================================\n",
      "Omnibus:                        2.864   Durbin-Watson:                   1.941\n",
      "Prob(Omnibus):                  0.239   Jarque-Bera (JB):                2.275\n",
      "Skew:                           0.482   Prob(JB):                        0.321\n",
      "Kurtosis:                       3.107   Cond. No.                     1.28e+03\n",
      "==============================================================================\n",
      "\n",
      "Notes:\n",
      "[1] Standard Errors assume that the covariance matrix of the errors is correctly specified.\n",
      "[2] The condition number is large, 1.28e+03. This might indicate that there are\n",
      "strong multicollinearity or other numerical problems.\n"
     ]
    }
   ],
   "source": [
    "# Extract survey questions\n",
    "survqs = dupont.iloc[:, 6:25]\n",
    "\n",
    "# Revenue regression\n",
    "X = dupont.drop(columns=['Id', 'Revenue'])\n",
    "X = sm.add_constant(X)\n",
    "y = dupont['Revenue']\n",
    "revreg = sm.OLS(y, X).fit()\n",
    "print(revreg.summary())\n",
    "\n"
   ]
  },
  {
   "attachments": {},
   "cell_type": "markdown",
   "metadata": {},
   "source": [
    "### **K-means clustering: can we distinguish long-time customer by survey response?**"
   ]
  },
  {
   "cell_type": "code",
   "execution_count": 140,
   "metadata": {},
   "outputs": [
    {
     "data": {
      "text/plain": [
       "(3.0, 9.0)"
      ]
     },
     "execution_count": 140,
     "metadata": {},
     "output_type": "execute_result"
    },
    {
     "data": {
      "image/png": "[encoded data removed]",
      "text/plain": [
       "<Figure size 640x480 with 2 Axes>"
      ]
     },
     "metadata": {},
     "output_type": "display_data"
    }
   ],
   "source": [
    "kmeans_result = KMeans(n_clusters=2).fit(zscore(survqs))\n",
    "plt.subplot(1, 2, 1)\n",
    "plt.hist(dupont.Years[ kmeans_result.labels_ == 0])\n",
    "plt.title('Cluster 1')\n",
    "plt.xlim([3,9])\n",
    "plt.subplot(1, 2, 2)\n",
    "plt.hist(dupont.Years[ kmeans_result.labels_ == 1])\n",
    "plt.title('Cluster 2')\n",
    "plt.xlim([3,9])"
   ]
  },
  {
   "cell_type": "code",
   "execution_count": 141,
   "metadata": {},
   "outputs": [
    {
     "data": {
      "text/plain": [
       "array([[-0.77719595, -0.91002396, -0.98477468, -0.55951532, -1.03731131,\n",
       "        -0.95738715, -0.96952735, -1.03498384, -1.06540067, -0.63876049,\n",
       "        -0.50026896, -0.99010105, -0.9223304 , -0.48970936, -0.4375    ,\n",
       "        -0.76459281, -0.76140465, -1.11471183, -0.77804097],\n",
       "       [ 0.29607465,  0.34667579,  0.37515226,  0.21314869,  0.39516621,\n",
       "         0.36471891,  0.36934375,  0.39427956,  0.40586692,  0.24333733,\n",
       "         0.19057865,  0.37718135,  0.35136396,  0.18655595,  0.16666667,\n",
       "         0.29127345,  0.29005891,  0.42465213,  0.29639656]])"
      ]
     },
     "execution_count": 141,
     "metadata": {},
     "output_type": "execute_result"
    }
   ],
   "source": [
    "kmeans_result.cluster_centers_"
   ]
  },
  {
   "attachments": {},
   "cell_type": "markdown",
   "metadata": {},
   "source": [
    "### **Principle component analysis (PCA)**"
   ]
  },
  {
   "attachments": {},
   "cell_type": "markdown",
   "metadata": {},
   "source": [
    "### Choose the number of principle components"
   ]
  },
  {
   "cell_type": "code",
   "execution_count": 142,
   "metadata": {},
   "outputs": [
    {
     "data": {
      "image/png": "[encoded data removed]",
      "text/plain": [
       "<Figure size 640x480 with 1 Axes>"
      ]
     },
     "metadata": {},
     "output_type": "display_data"
    }
   ],
   "source": [
    "\n",
    "fullpca = PCA().fit(zscore(survqs))\n",
    "\n",
    "# Scree plot to choose the best number of components\n",
    "\n",
    "plt.plot(np.arange(1, len(fullpca.explained_variance_ratio_) + 1), fullpca.explained_variance_ratio_, marker='o')\n",
    "plt.xlabel('Principal Component')\n",
    "plt.ylabel('Proportion of Variance Explained')\n",
    "plt.show()"
   ]
  },
  {
   "cell_type": "code",
   "execution_count": 143,
   "metadata": {},
   "outputs": [],
   "source": [
    "# PCA with 4 components. The number of components we choose is 4 based on the scree plot\n",
    "\n",
    "f4 = PCA(n_components=4).fit_transform(zscore(survqs))\n",
    "\n"
   ]
  },
  {
   "cell_type": "code",
   "execution_count": 144,
   "metadata": {},
   "outputs": [
    {
     "data": {
      "text/plain": [
       "(58, 19)"
      ]
     },
     "execution_count": 144,
     "metadata": {},
     "output_type": "execute_result"
    }
   ],
   "source": [
    "survqs.shape"
   ]
  },
  {
   "cell_type": "code",
   "execution_count": 145,
   "metadata": {},
   "outputs": [
    {
     "data": {
      "text/plain": [
       "(58, 4)"
      ]
     },
     "execution_count": 145,
     "metadata": {},
     "output_type": "execute_result"
    }
   ],
   "source": [
    "f4.shape"
   ]
  },
  {
   "attachments": {},
   "cell_type": "markdown",
   "metadata": {},
   "source": [
    "### **K-means clustering over PCA: can we distinguish long-time customer by survey response?**"
   ]
  },
  {
   "cell_type": "code",
   "execution_count": 146,
   "metadata": {},
   "outputs": [
    {
     "data": {
      "text/plain": [
       "(3.0, 9.0)"
      ]
     },
     "execution_count": 146,
     "metadata": {},
     "output_type": "execute_result"
    },
    {
     "data": {
      "image/png": "[encoded data removed]",
      "text/plain": [
       "<Figure size 640x480 with 2 Axes>"
      ]
     },
     "metadata": {},
     "output_type": "display_data"
    }
   ],
   "source": [
    "fsc2 = KMeans(n_clusters=2).fit(f4)\n",
    "\n",
    "plt.subplot(1, 2, 1)\n",
    "plt.hist(dupont.Years[ fsc2.labels_ == 0])\n",
    "plt.title('Cluster 1')\n",
    "plt.xlim([3,9])\n",
    "plt.subplot(1, 2, 2)\n",
    "plt.hist(dupont.Years[ fsc2.labels_ == 1])\n",
    "plt.title('Cluster 2')\n",
    "plt.xlim([3,9])"
   ]
  },
  {
   "cell_type": "code",
   "execution_count": 162,
   "metadata": {},
   "outputs": [
    {
     "data": {
      "text/plain": [
       "Index(['Id', 'Export', 'Size', 'Revenue', 'Years', 'Numprod', 'Q1', 'Q2', 'Q3',\n",
       "       'Q4', 'TS1', 'TS2', 'TS3', 'SM1', 'SM2', 'SD1', 'SD2', 'SD3', 'SD4',\n",
       "       'SD5', 'SD6', 'SD7', 'INN1', 'INN2', 'INN3'],\n",
       "      dtype='object')"
      ]
     },
     "execution_count": 162,
     "metadata": {},
     "output_type": "execute_result"
    }
   ],
   "source": [
    "dupont.columns"
   ]
  },
  {
   "cell_type": "code",
   "execution_count": 169,
   "metadata": {},
   "outputs": [
    {
     "data": {
      "text/plain": [
       "16"
      ]
     },
     "execution_count": 169,
     "metadata": {},
     "output_type": "execute_result"
    }
   ],
   "source": [
    "export_cluster0 = dupont['Export'][fsc2.labels_ == 0]\n",
    "sum(export_cluster0 == 3)"
   ]
  },
  {
   "attachments": {},
   "cell_type": "markdown",
   "metadata": {},
   "source": [
    "### Regression by PCA segments, using X and principle components"
   ]
  },
  {
   "cell_type": "code",
   "execution_count": 147,
   "metadata": {},
   "outputs": [
    {
     "name": "stdout",
     "output_type": "stream",
     "text": [
      "                            OLS Regression Results                            \n",
      "==============================================================================\n",
      "Dep. Variable:                      y   R-squared:                       0.251\n",
      "Model:                            OLS   Adj. R-squared:                  0.069\n",
      "Method:                 Least Squares   F-statistic:                     1.380\n",
      "Date:                Tue, 18 Apr 2023   Prob (F-statistic):              0.242\n",
      "Time:                        19:08:08   Log-Likelihood:                -44.437\n",
      "No. Observations:                  42   AIC:                             106.9\n",
      "Df Residuals:                      33   BIC:                             122.5\n",
      "Df Model:                           8                                         \n",
      "Covariance Type:            nonrobust                                         \n",
      "==============================================================================\n",
      "                 coef    std err          t      P>|t|      [0.025      0.975]\n",
      "------------------------------------------------------------------------------\n",
      "const          1.1342      1.109      1.023      0.314      -1.123       3.391\n",
      "x1             0.1963      0.175      1.122      0.270      -0.160       0.552\n",
      "x2            -0.0134      0.014     -0.935      0.356      -0.043       0.016\n",
      "x3             0.0915      0.147      0.622      0.538      -0.208       0.391\n",
      "x4             0.0104      0.062      0.167      0.869      -0.117       0.138\n",
      "x5             0.1259      0.113      1.115      0.273      -0.104       0.356\n",
      "x6            -0.2985      0.127     -2.344      0.025      -0.558      -0.039\n",
      "x7             0.1353      0.141      0.958      0.345      -0.152       0.423\n",
      "x8            -0.0565      0.211     -0.267      0.791      -0.487       0.374\n",
      "==============================================================================\n",
      "Omnibus:                        2.330   Durbin-Watson:                   1.931\n",
      "Prob(Omnibus):                  0.312   Jarque-Bera (JB):                2.194\n",
      "Skew:                           0.516   Prob(JB):                        0.334\n",
      "Kurtosis:                       2.567   Cond. No.                         394.\n",
      "==============================================================================\n",
      "\n",
      "Notes:\n",
      "[1] Standard Errors assume that the covariance matrix of the errors is correctly specified.\n"
     ]
    }
   ],
   "source": [
    "\n",
    "c1_data = dupont.iloc[fsc2.labels_ == 0]\n",
    "c1_X = c1_data[[\"Export\",\"Size\",\"Years\",\"Numprod\"]].reset_index(drop=True).join(pd.DataFrame(f4[fsc2.labels_ == 0, :], columns=[f'PC{i+1}' for i in range(4)]))\n",
    "c1_X = sm.add_constant(c1_X)\n",
    "c1_y = c1_data['Revenue'].reset_index(drop=True)\n",
    "c1reg = sm.OLS(c1_y.values, c1_X.values).fit()\n",
    "print(c1reg.summary())\n"
   ]
  },
  {
   "cell_type": "code",
   "execution_count": 148,
   "metadata": {},
   "outputs": [
    {
     "name": "stdout",
     "output_type": "stream",
     "text": [
      "                            OLS Regression Results                            \n",
      "==============================================================================\n",
      "Dep. Variable:                      y   R-squared:                       0.584\n",
      "Model:                            OLS   Adj. R-squared:                  0.108\n",
      "Method:                 Least Squares   F-statistic:                     1.228\n",
      "Date:                Tue, 18 Apr 2023   Prob (F-statistic):              0.400\n",
      "Time:                        19:08:08   Log-Likelihood:                -15.346\n",
      "No. Observations:                  16   AIC:                             48.69\n",
      "Df Residuals:                       7   BIC:                             55.65\n",
      "Df Model:                           8                                         \n",
      "Covariance Type:            nonrobust                                         \n",
      "==============================================================================\n",
      "                 coef    std err          t      P>|t|      [0.025      0.975]\n",
      "------------------------------------------------------------------------------\n",
      "const          4.6579      3.786      1.230      0.258      -4.294      13.610\n",
      "x1             0.9849      0.563      1.748      0.124      -0.347       2.317\n",
      "x2            -0.1040      0.058     -1.789      0.117      -0.241       0.033\n",
      "x3            -0.3059      0.492     -0.621      0.554      -1.470       0.859\n",
      "x4             0.3113      0.198      1.572      0.160      -0.157       0.779\n",
      "x5             0.0793      0.128      0.618      0.556      -0.224       0.383\n",
      "x6            -0.0102      0.162     -0.063      0.952      -0.394       0.374\n",
      "x7             0.2002      0.152      1.313      0.230      -0.160       0.561\n",
      "x8            -0.0002      0.186     -0.001      0.999      -0.440       0.439\n",
      "==============================================================================\n",
      "Omnibus:                        5.891   Durbin-Watson:                   1.563\n",
      "Prob(Omnibus):                  0.053   Jarque-Bera (JB):                3.016\n",
      "Skew:                           0.904   Prob(JB):                        0.221\n",
      "Kurtosis:                       4.119   Cond. No.                         790.\n",
      "==============================================================================\n",
      "\n",
      "Notes:\n",
      "[1] Standard Errors assume that the covariance matrix of the errors is correctly specified.\n"
     ]
    },
    {
     "name": "stderr",
     "output_type": "stream",
     "text": [
      "/Users/mingzhangyin/opt/anaconda3/lib/python3.9/site-packages/scipy/stats/_stats_py.py:1769: UserWarning: kurtosistest only valid for n>=20 ... continuing anyway, n=16\n",
      "  warnings.warn(\"kurtosistest only valid for n>=20 ... continuing \"\n"
     ]
    }
   ],
   "source": [
    "\n",
    "c2_data = dupont.iloc[fsc2.labels_ == 1]\n",
    "c2_X = c2_data[[\"Export\",\"Size\",\"Years\",\"Numprod\"]].reset_index(drop=True).join(pd.DataFrame(f4[fsc2.labels_ == 1, :], columns=[f'PC{i+1}' for i in range(4)]))\n",
    "c2_X = sm.add_constant(c2_X)\n",
    "c2_y = c2_data['Revenue']\n",
    "c2reg = sm.OLS(c2_y.values, c2_X.values).fit()\n",
    "print(c2reg.summary())"
   ]
  },
  {
   "attachments": {},
   "cell_type": "markdown",
   "metadata": {},
   "source": [
    "################################\n",
    "## Factor analysis\n",
    "################################"
   ]
  },
  {
   "cell_type": "code",
   "execution_count": 149,
   "metadata": {},
   "outputs": [],
   "source": [
    "# pip install factor_analyzer\n",
    "import pandas as pd\n",
    "from factor_analyzer import FactorAnalyzer\n",
    "import matplotlib.pyplot as plt\n",
    "from factor_analyzer.factor_analyzer import calculate_bartlett_sphericity, calculate_kmo\n",
    "\n",
    "# Read the CSV file\n",
    "mydata = pd.read_csv('/Users/mingzhangyin/Dropbox (UFL)/UF teaching/My course/8-PPCA, Factor model/EFA.csv')\n",
    "\n"
   ]
  },
  {
   "cell_type": "code",
   "execution_count": 150,
   "metadata": {},
   "outputs": [
    {
     "data": {
      "text/html": [
       "<div>\n",
       "<style scoped>\n",
       "    .dataframe tbody tr th:only-of-type {\n",
       "        vertical-align: middle;\n",
       "    }\n",
       "\n",
       "    .dataframe tbody tr th {\n",
       "        vertical-align: top;\n",
       "    }\n",
       "\n",
       "    .dataframe thead th {\n",
       "        text-align: right;\n",
       "    }\n",
       "</style>\n",
       "<table border=\"1\" class=\"dataframe\">\n",
       "  <thead>\n",
       "    <tr style=\"text-align: right;\">\n",
       "      <th></th>\n",
       "      <th>Price</th>\n",
       "      <th>Safety</th>\n",
       "      <th>Exterior_Looks</th>\n",
       "      <th>Space_comfort</th>\n",
       "      <th>Technology</th>\n",
       "      <th>After_Sales_Service</th>\n",
       "      <th>Resale_Value</th>\n",
       "      <th>Fuel_Type</th>\n",
       "      <th>Fuel_Efficiency</th>\n",
       "      <th>Color</th>\n",
       "      <th>Maintenance</th>\n",
       "      <th>Test_drive</th>\n",
       "      <th>Product_reviews</th>\n",
       "      <th>Testimonials</th>\n",
       "    </tr>\n",
       "  </thead>\n",
       "  <tbody>\n",
       "    <tr>\n",
       "      <th>0</th>\n",
       "      <td>4</td>\n",
       "      <td>4</td>\n",
       "      <td>5</td>\n",
       "      <td>4</td>\n",
       "      <td>3</td>\n",
       "      <td>4</td>\n",
       "      <td>5</td>\n",
       "      <td>4</td>\n",
       "      <td>4</td>\n",
       "      <td>2</td>\n",
       "      <td>4</td>\n",
       "      <td>2</td>\n",
       "      <td>4</td>\n",
       "      <td>3</td>\n",
       "    </tr>\n",
       "    <tr>\n",
       "      <th>1</th>\n",
       "      <td>3</td>\n",
       "      <td>5</td>\n",
       "      <td>3</td>\n",
       "      <td>3</td>\n",
       "      <td>4</td>\n",
       "      <td>4</td>\n",
       "      <td>3</td>\n",
       "      <td>4</td>\n",
       "      <td>3</td>\n",
       "      <td>4</td>\n",
       "      <td>3</td>\n",
       "      <td>2</td>\n",
       "      <td>2</td>\n",
       "      <td>2</td>\n",
       "    </tr>\n",
       "    <tr>\n",
       "      <th>2</th>\n",
       "      <td>4</td>\n",
       "      <td>4</td>\n",
       "      <td>3</td>\n",
       "      <td>4</td>\n",
       "      <td>5</td>\n",
       "      <td>5</td>\n",
       "      <td>5</td>\n",
       "      <td>4</td>\n",
       "      <td>5</td>\n",
       "      <td>4</td>\n",
       "      <td>5</td>\n",
       "      <td>4</td>\n",
       "      <td>4</td>\n",
       "      <td>3</td>\n",
       "    </tr>\n",
       "    <tr>\n",
       "      <th>3</th>\n",
       "      <td>4</td>\n",
       "      <td>4</td>\n",
       "      <td>4</td>\n",
       "      <td>3</td>\n",
       "      <td>3</td>\n",
       "      <td>4</td>\n",
       "      <td>5</td>\n",
       "      <td>5</td>\n",
       "      <td>4</td>\n",
       "      <td>4</td>\n",
       "      <td>4</td>\n",
       "      <td>2</td>\n",
       "      <td>5</td>\n",
       "      <td>3</td>\n",
       "    </tr>\n",
       "    <tr>\n",
       "      <th>4</th>\n",
       "      <td>5</td>\n",
       "      <td>5</td>\n",
       "      <td>4</td>\n",
       "      <td>4</td>\n",
       "      <td>5</td>\n",
       "      <td>4</td>\n",
       "      <td>5</td>\n",
       "      <td>3</td>\n",
       "      <td>4</td>\n",
       "      <td>5</td>\n",
       "      <td>5</td>\n",
       "      <td>5</td>\n",
       "      <td>5</td>\n",
       "      <td>2</td>\n",
       "    </tr>\n",
       "  </tbody>\n",
       "</table>\n",
       "</div>"
      ],
      "text/plain": [
       "   Price  Safety  Exterior_Looks  Space_comfort  Technology  \\\n",
       "0      4       4               5              4           3   \n",
       "1      3       5               3              3           4   \n",
       "2      4       4               3              4           5   \n",
       "3      4       4               4              3           3   \n",
       "4      5       5               4              4           5   \n",
       "\n",
       "   After_Sales_Service  Resale_Value  Fuel_Type  Fuel_Efficiency  Color  \\\n",
       "0                    4             5          4                4      2   \n",
       "1                    4             3          4                3      4   \n",
       "2                    5             5          4                5      4   \n",
       "3                    4             5          5                4      4   \n",
       "4                    4             5          3                4      5   \n",
       "\n",
       "   Maintenance  Test_drive  Product_reviews  Testimonials  \n",
       "0            4           2                4             3  \n",
       "1            3           2                2             2  \n",
       "2            5           4                4             3  \n",
       "3            4           2                5             3  \n",
       "4            5           5                5             2  "
      ]
     },
     "execution_count": 150,
     "metadata": {},
     "output_type": "execute_result"
    }
   ],
   "source": [
    "mydata.head()"
   ]
  },
  {
   "cell_type": "code",
   "execution_count": 151,
   "metadata": {},
   "outputs": [
    {
     "data": {
      "text/plain": [
       "(90, 14)"
      ]
     },
     "execution_count": 151,
     "metadata": {},
     "output_type": "execute_result"
    }
   ],
   "source": [
    "mydata.shape"
   ]
  },
  {
   "cell_type": "code",
   "execution_count": 152,
   "metadata": {},
   "outputs": [
    {
     "data": {
      "image/png": "[encoded data removed]",
      "text/plain": [
       "<Figure size 640x480 with 1 Axes>"
      ]
     },
     "metadata": {},
     "output_type": "display_data"
    }
   ],
   "source": [
    "# Determine Number of Factors to Extract\n",
    "fa = FactorAnalyzer(rotation=None)\n",
    "#fa.fit(zscore(mydata))\n",
    "fa.fit(mydata)\n",
    "ev, v = fa.get_eigenvalues()\n",
    "plt.scatter(range(1, mydata.shape[1] + 1), ev)\n",
    "plt.plot(range(1, mydata.shape[1] + 1), ev)\n",
    "plt.title('Scree Plot')\n",
    "plt.xlabel('Factors')\n",
    "plt.ylabel('Eigenvalue')\n",
    "plt.grid(True)\n",
    "plt.show()\n"
   ]
  },
  {
   "attachments": {},
   "cell_type": "markdown",
   "metadata": {},
   "source": [
    "<!-- # how does fa.get_eigenvalues() work?\n",
    "correlation_matrix = mydata.corr()\n",
    "eigenvalues, eigenvectors = np.linalg.eig(correlation_matrix)\n",
    "print(\"Eigenvalues:\",sorted(eigenvalues)[::-1]) -->"
   ]
  },
  {
   "cell_type": "code",
   "execution_count": 153,
   "metadata": {},
   "outputs": [
    {
     "data": {
      "text/plain": [
       "FactorAnalyzer(n_factors=4, rotation='varimax', rotation_kwargs={})"
      ]
     },
     "execution_count": 153,
     "metadata": {},
     "output_type": "execute_result"
    }
   ],
   "source": [
    "\n",
    "# Extract (and rotate) factors\n",
    "\n",
    "Nfacs = 4  # This is for four factors. You can change this as needed.\n",
    "fa = FactorAnalyzer(n_factors=Nfacs, rotation=\"varimax\") # Set whether rotation and its type here\n",
    "\n",
    "fa.fit(mydata) # Fit the factor model\n",
    "\n"
   ]
  },
  {
   "cell_type": "code",
   "execution_count": 154,
   "metadata": {},
   "outputs": [
    {
     "name": "stdout",
     "output_type": "stream",
     "text": [
      "(14, 4)\n"
     ]
    },
    {
     "data": {
      "text/plain": [
       "<matplotlib.colorbar.Colorbar at 0x7f96a0fdc4c0>"
      ]
     },
     "execution_count": 154,
     "metadata": {},
     "output_type": "execute_result"
    },
    {
     "data": {
      "image/png": "[encoded data removed]",
      "text/plain": [
       "<Figure size 640x480 with 2 Axes>"
      ]
     },
     "metadata": {},
     "output_type": "display_data"
    }
   ],
   "source": [
    "loadings = fa.loadings_\n",
    "print(np.shape(loadings))\n",
    "plt.imshow(loadings)\n",
    "plt.xlabel('Factors')\n",
    "plt.ylabel('Original Variables')\n",
    "plt.colorbar()"
   ]
  },
  {
   "attachments": {},
   "cell_type": "markdown",
   "metadata": {},
   "source": [
    "## Name and interpret the factors"
   ]
  },
  {
   "cell_type": "code",
   "execution_count": 155,
   "metadata": {},
   "outputs": [
    {
     "data": {
      "image/png": "[encoded data removed]",
      "text/plain": [
       "<Figure size 640x480 with 1 Axes>"
      ]
     },
     "metadata": {},
     "output_type": "display_data"
    }
   ],
   "source": [
    "# Plot factor loadings of the first two factors\n",
    "fig, ax = plt.subplots()\n",
    "ax.scatter(loadings[:, 0], loadings[:, 1])\n",
    "for i, txt in enumerate(mydata.columns):\n",
    "    ax.annotate(txt, (loadings[i, 0], loadings[i, 1]))\n",
    "plt.xlabel('Factor 1')\n",
    "plt.ylabel('Factor 2')\n",
    "plt.show()\n"
   ]
  },
  {
   "cell_type": "code",
   "execution_count": 156,
   "metadata": {},
   "outputs": [
    {
     "name": "stdout",
     "output_type": "stream",
     "text": [
      "                     Factor 1  Factor 2  Factor 3  Factor 4\n",
      "Price                   0.535     0.110    -0.003    -0.050\n",
      "Safety                 -0.272     0.356    -0.175     0.060\n",
      "Exterior_Looks         -0.005     0.045     0.193    -0.544\n",
      "Space_comfort          -0.028     0.753     0.220    -0.223\n",
      "Technology              0.043     0.349     0.103     0.014\n",
      "After_Sales_Service     0.163     0.528     0.102     0.124\n",
      "Resale_Value            0.724    -0.143    -0.137     0.058\n",
      "Fuel_Type               0.044     0.557    -0.000    -0.069\n",
      "Fuel_Efficiency         0.492     0.235     0.299     0.291\n",
      "Color                   0.198    -0.029     0.266     0.706\n",
      "Maintenance             0.603     0.079     0.111     0.233\n",
      "Test_drive              0.098     0.150     0.407    -0.018\n",
      "Product_reviews         0.336     0.145     0.429     0.032\n",
      "Testimonials           -0.228    -0.008     0.677     0.001\n"
     ]
    }
   ],
   "source": [
    "\n",
    "# Evaluate what you have produced\n",
    "# Export factor loadings\n",
    "rounded_loadings = loadings.round(3)\n",
    "\n",
    "# Create a DataFrame with custom row and column names\n",
    "loadings_df = pd.DataFrame(rounded_loadings,\n",
    "                           index=mydata.columns,\n",
    "                           columns=['Factor 1', 'Factor 2', 'Factor 3', 'Factor 4'])\n",
    "\n",
    "print(loadings_df)\n",
    "\n",
    "\n",
    "# Name factors: Aesthetics, Functional Benefits, Economic Value, Credibility\n",
    "factor_names = [\"Economic Value\", \"Functional Benefits\", \"Credibility\",\"Aesthetics\"]"
   ]
  },
  {
   "cell_type": "code",
   "execution_count": 157,
   "metadata": {},
   "outputs": [
    {
     "name": "stdout",
     "output_type": "stream",
     "text": [
      "                     Economic Value  Functional Benefits  Credibility  \\\n",
      "Price                         0.535                0.110       -0.003   \n",
      "Safety                       -0.272                0.356       -0.175   \n",
      "Exterior_Looks               -0.005                0.045        0.193   \n",
      "Space_comfort                -0.028                0.753        0.220   \n",
      "Technology                    0.043                0.349        0.103   \n",
      "After_Sales_Service           0.163                0.528        0.102   \n",
      "Resale_Value                  0.724               -0.143       -0.137   \n",
      "Fuel_Type                     0.044                0.557       -0.000   \n",
      "Fuel_Efficiency               0.492                0.235        0.299   \n",
      "Color                         0.198               -0.029        0.266   \n",
      "Maintenance                   0.603                0.079        0.111   \n",
      "Test_drive                    0.098                0.150        0.407   \n",
      "Product_reviews               0.336                0.145        0.429   \n",
      "Testimonials                 -0.228               -0.008        0.677   \n",
      "\n",
      "                     Aesthetics  \n",
      "Price                    -0.050  \n",
      "Safety                    0.060  \n",
      "Exterior_Looks           -0.544  \n",
      "Space_comfort            -0.223  \n",
      "Technology                0.014  \n",
      "After_Sales_Service       0.124  \n",
      "Resale_Value              0.058  \n",
      "Fuel_Type                -0.069  \n",
      "Fuel_Efficiency           0.291  \n",
      "Color                     0.706  \n",
      "Maintenance               0.233  \n",
      "Test_drive               -0.018  \n",
      "Product_reviews           0.032  \n",
      "Testimonials              0.001  \n"
     ]
    }
   ],
   "source": [
    "loadings_df.columns = factor_names\n",
    "print(loadings_df)"
   ]
  },
  {
   "cell_type": "code",
   "execution_count": 158,
   "metadata": {},
   "outputs": [
    {
     "data": {
      "text/plain": [
       "array([0.30053289, 0.23454161, 0.33528224, 0.66551579, 0.13449564,\n",
       "       0.33125026, 0.56618323, 0.31683961, 0.47158197, 0.60918164,\n",
       "       0.43606222, 0.19807436, 0.31890273, 0.51045761])"
      ]
     },
     "execution_count": 158,
     "metadata": {},
     "output_type": "execute_result"
    }
   ],
   "source": [
    "fa.get_communalities()"
   ]
  },
  {
   "cell_type": "code",
   "execution_count": 159,
   "metadata": {},
   "outputs": [],
   "source": [
    "fa.phi_"
   ]
  },
  {
   "cell_type": "code",
   "execution_count": 160,
   "metadata": {},
   "outputs": [
    {
     "data": {
      "text/html": [
       "<div>\n",
       "<style scoped>\n",
       "    .dataframe tbody tr th:only-of-type {\n",
       "        vertical-align: middle;\n",
       "    }\n",
       "\n",
       "    .dataframe tbody tr th {\n",
       "        vertical-align: top;\n",
       "    }\n",
       "\n",
       "    .dataframe thead th {\n",
       "        text-align: right;\n",
       "    }\n",
       "</style>\n",
       "<table border=\"1\" class=\"dataframe\">\n",
       "  <thead>\n",
       "    <tr style=\"text-align: right;\">\n",
       "      <th></th>\n",
       "      <th>0</th>\n",
       "      <th>1</th>\n",
       "      <th>2</th>\n",
       "      <th>3</th>\n",
       "    </tr>\n",
       "  </thead>\n",
       "  <tbody>\n",
       "    <tr>\n",
       "      <th>0</th>\n",
       "      <td>0.684042</td>\n",
       "      <td>-0.377294</td>\n",
       "      <td>-0.829285</td>\n",
       "      <td>-1.554170</td>\n",
       "    </tr>\n",
       "    <tr>\n",
       "      <th>1</th>\n",
       "      <td>-1.319401</td>\n",
       "      <td>-0.604611</td>\n",
       "      <td>-2.172122</td>\n",
       "      <td>0.993007</td>\n",
       "    </tr>\n",
       "    <tr>\n",
       "      <th>2</th>\n",
       "      <td>1.092649</td>\n",
       "      <td>0.416129</td>\n",
       "      <td>-0.378641</td>\n",
       "      <td>0.694256</td>\n",
       "    </tr>\n",
       "    <tr>\n",
       "      <th>3</th>\n",
       "      <td>0.730056</td>\n",
       "      <td>-0.834151</td>\n",
       "      <td>-0.755207</td>\n",
       "      <td>0.225665</td>\n",
       "    </tr>\n",
       "    <tr>\n",
       "      <th>4</th>\n",
       "      <td>1.369498</td>\n",
       "      <td>0.002350</td>\n",
       "      <td>-0.533379</td>\n",
       "      <td>0.661454</td>\n",
       "    </tr>\n",
       "  </tbody>\n",
       "</table>\n",
       "</div>"
      ],
      "text/plain": [
       "          0         1         2         3\n",
       "0  0.684042 -0.377294 -0.829285 -1.554170\n",
       "1 -1.319401 -0.604611 -2.172122  0.993007\n",
       "2  1.092649  0.416129 -0.378641  0.694256\n",
       "3  0.730056 -0.834151 -0.755207  0.225665\n",
       "4  1.369498  0.002350 -0.533379  0.661454"
      ]
     },
     "execution_count": 160,
     "metadata": {},
     "output_type": "execute_result"
    }
   ],
   "source": [
    "pd.DataFrame(fa.transform(mydata)).head()"
   ]
  },
  {
   "cell_type": "code",
   "execution_count": 161,
   "metadata": {},
   "outputs": [
    {
     "name": "stdout",
     "output_type": "stream",
     "text": [
      "\u001b[0;31mInit signature:\u001b[0m\n",
      "\u001b[0mFactorAnalyzer\u001b[0m\u001b[0;34m(\u001b[0m\u001b[0;34m\u001b[0m\n",
      "\u001b[0;34m\u001b[0m    \u001b[0mn_factors\u001b[0m\u001b[0;34m=\u001b[0m\u001b[0;36m3\u001b[0m\u001b[0;34m,\u001b[0m\u001b[0;34m\u001b[0m\n",
      "\u001b[0;34m\u001b[0m    \u001b[0mrotation\u001b[0m\u001b[0;34m=\u001b[0m\u001b[0;34m'promax'\u001b[0m\u001b[0;34m,\u001b[0m\u001b[0;34m\u001b[0m\n",
      "\u001b[0;34m\u001b[0m    \u001b[0mmethod\u001b[0m\u001b[0;34m=\u001b[0m\u001b[0;34m'minres'\u001b[0m\u001b[0;34m,\u001b[0m\u001b[0;34m\u001b[0m\n",
      "\u001b[0;34m\u001b[0m    \u001b[0muse_smc\u001b[0m\u001b[0;34m=\u001b[0m\u001b[0;32mTrue\u001b[0m\u001b[0;34m,\u001b[0m\u001b[0;34m\u001b[0m\n",
      "\u001b[0;34m\u001b[0m    \u001b[0mis_corr_matrix\u001b[0m\u001b[0;34m=\u001b[0m\u001b[0;32mFalse\u001b[0m\u001b[0;34m,\u001b[0m\u001b[0;34m\u001b[0m\n",
      "\u001b[0;34m\u001b[0m    \u001b[0mbounds\u001b[0m\u001b[0;34m=\u001b[0m\u001b[0;34m(\u001b[0m\u001b[0;36m0.005\u001b[0m\u001b[0;34m,\u001b[0m \u001b[0;36m1\u001b[0m\u001b[0;34m)\u001b[0m\u001b[0;34m,\u001b[0m\u001b[0;34m\u001b[0m\n",
      "\u001b[0;34m\u001b[0m    \u001b[0mimpute\u001b[0m\u001b[0;34m=\u001b[0m\u001b[0;34m'median'\u001b[0m\u001b[0;34m,\u001b[0m\u001b[0;34m\u001b[0m\n",
      "\u001b[0;34m\u001b[0m    \u001b[0msvd_method\u001b[0m\u001b[0;34m=\u001b[0m\u001b[0;34m'randomized'\u001b[0m\u001b[0;34m,\u001b[0m\u001b[0;34m\u001b[0m\n",
      "\u001b[0;34m\u001b[0m    \u001b[0mrotation_kwargs\u001b[0m\u001b[0;34m=\u001b[0m\u001b[0;32mNone\u001b[0m\u001b[0;34m,\u001b[0m\u001b[0;34m\u001b[0m\n",
      "\u001b[0;34m\u001b[0m\u001b[0;34m)\u001b[0m\u001b[0;34m\u001b[0m\u001b[0;34m\u001b[0m\u001b[0m\n",
      "\u001b[0;31mDocstring:\u001b[0m     \n",
      "The main exploratory factor analysis class.\n",
      "\n",
      "This class:\n",
      "    (1) Fits a factor analysis model using minres, maximum likelihood,\n",
      "        or principal factor extraction and returns the loading matrix\n",
      "    (2) Optionally performs a rotation, with method including:\n",
      "\n",
      "        (a) varimax (orthogonal rotation)\n",
      "        (b) promax (oblique rotation)\n",
      "        (c) oblimin (oblique rotation)\n",
      "        (d) oblimax (orthogonal rotation)\n",
      "        (e) quartimin (oblique rotation)\n",
      "        (f) quartimax (orthogonal rotation)\n",
      "        (g) equamax (orthogonal rotation)\n",
      "\n",
      "Parameters\n",
      "----------\n",
      "n_factors : int, optional\n",
      "    The number of factors to select.\n",
      "    Defaults to 3.\n",
      "rotation : str, optional\n",
      "    The type of rotation to perform after fitting the factor analysis\n",
      "    model. If set to ``None``, no rotation will be performed, nor will\n",
      "    any associated Kaiser normalization.\n",
      "\n",
      "    Possible values include:\n",
      "\n",
      "        (a) varimax (orthogonal rotation)\n",
      "        (b) promax (oblique rotation)\n",
      "        (c) oblimin (oblique rotation)\n",
      "        (d) oblimax (orthogonal rotation)\n",
      "        (e) quartimin (oblique rotation)\n",
      "        (f) quartimax (orthogonal rotation)\n",
      "        (g) equamax (orthogonal rotation)\n",
      "\n",
      "    Defaults to 'promax'.\n",
      "\n",
      "method : {'minres', 'ml', 'principal'}, optional\n",
      "    The fitting method to use, either MINRES or Maximum Likelihood.\n",
      "    Defaults to 'minres'.\n",
      "use_smc : bool, optional\n",
      "    Whether to use squared multiple correlation as starting guesses for\n",
      "    factor analysis.\n",
      "    Defaults to ``True``.\n",
      "bounds : tuple, optional\n",
      "    The lower and upper bounds on the variables for \"L-BFGS-B\" optimization.\n",
      "    Defaults to (0.005, 1).\n",
      "impute : {'drop', 'mean', 'median'}, optional\n",
      "    How to handle missing values, if any, in the data: (a) use list-wise\n",
      "    deletion ('drop'), or (b) impute the column median ('median'), or\n",
      "    impute the column mean ('mean').\n",
      "    Defaults to 'median'\n",
      "is_corr_matrix : bool, optional\n",
      "    Set to ``True if the ``data`` is the correlation matrix.\n",
      "    Defaults to `False`.\n",
      "svd_method : {‘lapack’, ‘randomized’}\n",
      "    The SVD method to use when ``method`` is 'principal'. If 'lapack',\n",
      "    use standard SVD from ``scipy.linalg``. If 'randomized', use faster\n",
      "    ``randomized_svd`` function from scikit-learn. The latter should only\n",
      "    be used if the number of columns is greater than or equal to the\n",
      "    number of rows in in the dataset.\n",
      "    Defaults to 'randomized'\n",
      "rotation_kwargs, optional\n",
      "    Dictionary containing keyword arguments for the rotation method.\n",
      "\n",
      "Attributes\n",
      "----------\n",
      "loadings_ : :obj:`numpy.ndarray`\n",
      "    The factor loadings matrix.\n",
      "    ``None``, if ``fit()``` has not been called.\n",
      "corr_ : :obj:`numpy.ndarray`\n",
      "    The original correlation matrix.\n",
      "    ``None``, if ``fit()`` has not been called.\n",
      "rotation_matrix_ : :obj:`numpy.ndarray`\n",
      "    The rotation matrix, if a rotation has been performed. ``None`` otherwise.\n",
      "structure_ : :obj:`numpy.ndarray` or None\n",
      "    The structure loading matrix. This only exists if ``rotation``\n",
      "    is 'promax' and is ``None`` otherwise.\n",
      "phi_ : :obj:`numpy.ndarray` or None\n",
      "    The factor correlations matrix. This only exists if ``rotation``\n",
      "    is 'oblique' and is ``None`` otherwise.\n",
      "\n",
      "Notes\n",
      "-----\n",
      "This code was partly derived from the excellent R package `psych`.\n",
      "\n",
      "References\n",
      "----------\n",
      "[1] https://github.com/cran/psych/blob/master/R/fa.R\n",
      "\n",
      "Examples\n",
      "--------\n",
      ">>> import pandas as pd\n",
      ">>> from factor_analyzer import FactorAnalyzer\n",
      ">>> df_features = pd.read_csv('tests/data/test02.csv')\n",
      ">>> fa = FactorAnalyzer(rotation=None)\n",
      ">>> fa.fit(df_features)\n",
      "FactorAnalyzer(bounds=(0.005, 1), impute='median', is_corr_matrix=False,\n",
      "        method='minres', n_factors=3, rotation=None, rotation_kwargs={},\n",
      "        use_smc=True)\n",
      ">>> fa.loadings_\n",
      "array([[-0.12991218,  0.16398154,  0.73823498],\n",
      "       [ 0.03899558,  0.04658425,  0.01150343],\n",
      "       [ 0.34874135,  0.61452341, -0.07255667],\n",
      "       [ 0.45318006,  0.71926681, -0.07546472],\n",
      "       [ 0.36688794,  0.44377343, -0.01737067],\n",
      "       [ 0.74141382, -0.15008235,  0.29977512],\n",
      "       [ 0.741675  , -0.16123009, -0.20744495],\n",
      "       [ 0.82910167, -0.20519428,  0.04930817],\n",
      "       [ 0.76041819, -0.23768727, -0.1206858 ],\n",
      "       [ 0.81533404, -0.12494695,  0.17639683]])\n",
      ">>> fa.get_communalities()\n",
      "array([0.588758  , 0.00382308, 0.50452402, 0.72841183, 0.33184336,\n",
      "       0.66208428, 0.61911036, 0.73194557, 0.64929612, 0.71149718])\n",
      "\u001b[0;31mInit docstring:\u001b[0m Initialize the factor analyzer.\n",
      "\u001b[0;31mFile:\u001b[0m           ~/opt/anaconda3/lib/python3.9/site-packages/factor_analyzer/factor_analyzer.py\n",
      "\u001b[0;31mType:\u001b[0m           type\n",
      "\u001b[0;31mSubclasses:\u001b[0m     \n"
     ]
    }
   ],
   "source": [
    "?FactorAnalyzer"
   ]
  }
 ],
 "metadata": {
  "kernelspec": {
   "display_name": "base",
   "language": "python",
   "name": "python3"
  },
  "language_info": {
   "codemirror_mode": {
    "name": "ipython",
    "version": 3
   },
   "file_extension": ".py",
   "mimetype": "text/x-python",
   "name": "python",
   "nbconvert_exporter": "python",
   "pygments_lexer": "ipython3",
   "version": "3.9.13"
  },
  "orig_nbformat": 4
 },
 "nbformat": 4,
 "nbformat_minor": 2
}
