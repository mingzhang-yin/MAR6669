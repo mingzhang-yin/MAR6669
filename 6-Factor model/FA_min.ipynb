{
 "cells": [
  {
   "cell_type": "code",
   "execution_count": 137,
   "metadata": {},
   "outputs": [],
   "source": [
    "import pandas as pd\n",
    "import numpy as np\n",
    "import matplotlib.pyplot as plt\n",
    "from factor_analyzer import FactorAnalyzer  # !pip install factor_analyzer"
   ]
  },
  {
   "cell_type": "code",
   "execution_count": 13,
   "metadata": {},
   "outputs": [],
   "source": [
    "\n",
    "mydata = pd.read_csv('/content/drive/MyDrive/MAR6669-data/EFA.csv')\n",
    "\n"
   ]
  },
  {
   "cell_type": "code",
   "execution_count": 14,
   "metadata": {},
   "outputs": [
    {
     "data": {
      "text/html": [
       "<div>\n",
       "<style scoped>\n",
       "    .dataframe tbody tr th:only-of-type {\n",
       "        vertical-align: middle;\n",
       "    }\n",
       "\n",
       "    .dataframe tbody tr th {\n",
       "        vertical-align: top;\n",
       "    }\n",
       "\n",
       "    .dataframe thead th {\n",
       "        text-align: right;\n",
       "    }\n",
       "</style>\n",
       "<table border=\"1\" class=\"dataframe\">\n",
       "  <thead>\n",
       "    <tr style=\"text-align: right;\">\n",
       "      <th></th>\n",
       "      <th>Price</th>\n",
       "      <th>Safety</th>\n",
       "      <th>Exterior_Looks</th>\n",
       "      <th>Space_comfort</th>\n",
       "      <th>Technology</th>\n",
       "      <th>After_Sales_Service</th>\n",
       "      <th>Resale_Value</th>\n",
       "      <th>Fuel_Type</th>\n",
       "      <th>Fuel_Efficiency</th>\n",
       "      <th>Color</th>\n",
       "      <th>Maintenance</th>\n",
       "      <th>Test_drive</th>\n",
       "      <th>Product_reviews</th>\n",
       "      <th>Testimonials</th>\n",
       "    </tr>\n",
       "  </thead>\n",
       "  <tbody>\n",
       "    <tr>\n",
       "      <th>0</th>\n",
       "      <td>4</td>\n",
       "      <td>4</td>\n",
       "      <td>5</td>\n",
       "      <td>4</td>\n",
       "      <td>3</td>\n",
       "      <td>4</td>\n",
       "      <td>5</td>\n",
       "      <td>4</td>\n",
       "      <td>4</td>\n",
       "      <td>2</td>\n",
       "      <td>4</td>\n",
       "      <td>2</td>\n",
       "      <td>4</td>\n",
       "      <td>3</td>\n",
       "    </tr>\n",
       "    <tr>\n",
       "      <th>1</th>\n",
       "      <td>3</td>\n",
       "      <td>5</td>\n",
       "      <td>3</td>\n",
       "      <td>3</td>\n",
       "      <td>4</td>\n",
       "      <td>4</td>\n",
       "      <td>3</td>\n",
       "      <td>4</td>\n",
       "      <td>3</td>\n",
       "      <td>4</td>\n",
       "      <td>3</td>\n",
       "      <td>2</td>\n",
       "      <td>2</td>\n",
       "      <td>2</td>\n",
       "    </tr>\n",
       "    <tr>\n",
       "      <th>2</th>\n",
       "      <td>4</td>\n",
       "      <td>4</td>\n",
       "      <td>3</td>\n",
       "      <td>4</td>\n",
       "      <td>5</td>\n",
       "      <td>5</td>\n",
       "      <td>5</td>\n",
       "      <td>4</td>\n",
       "      <td>5</td>\n",
       "      <td>4</td>\n",
       "      <td>5</td>\n",
       "      <td>4</td>\n",
       "      <td>4</td>\n",
       "      <td>3</td>\n",
       "    </tr>\n",
       "    <tr>\n",
       "      <th>3</th>\n",
       "      <td>4</td>\n",
       "      <td>4</td>\n",
       "      <td>4</td>\n",
       "      <td>3</td>\n",
       "      <td>3</td>\n",
       "      <td>4</td>\n",
       "      <td>5</td>\n",
       "      <td>5</td>\n",
       "      <td>4</td>\n",
       "      <td>4</td>\n",
       "      <td>4</td>\n",
       "      <td>2</td>\n",
       "      <td>5</td>\n",
       "      <td>3</td>\n",
       "    </tr>\n",
       "    <tr>\n",
       "      <th>4</th>\n",
       "      <td>5</td>\n",
       "      <td>5</td>\n",
       "      <td>4</td>\n",
       "      <td>4</td>\n",
       "      <td>5</td>\n",
       "      <td>4</td>\n",
       "      <td>5</td>\n",
       "      <td>3</td>\n",
       "      <td>4</td>\n",
       "      <td>5</td>\n",
       "      <td>5</td>\n",
       "      <td>5</td>\n",
       "      <td>5</td>\n",
       "      <td>2</td>\n",
       "    </tr>\n",
       "  </tbody>\n",
       "</table>\n",
       "</div>"
      ],
      "text/plain": [
       "   Price  Safety  Exterior_Looks  Space_comfort  Technology  \\\n",
       "0      4       4               5              4           3   \n",
       "1      3       5               3              3           4   \n",
       "2      4       4               3              4           5   \n",
       "3      4       4               4              3           3   \n",
       "4      5       5               4              4           5   \n",
       "\n",
       "   After_Sales_Service  Resale_Value  Fuel_Type  Fuel_Efficiency  Color  \\\n",
       "0                    4             5          4                4      2   \n",
       "1                    4             3          4                3      4   \n",
       "2                    5             5          4                5      4   \n",
       "3                    4             5          5                4      4   \n",
       "4                    4             5          3                4      5   \n",
       "\n",
       "   Maintenance  Test_drive  Product_reviews  Testimonials  \n",
       "0            4           2                4             3  \n",
       "1            3           2                2             2  \n",
       "2            5           4                4             3  \n",
       "3            4           2                5             3  \n",
       "4            5           5                5             2  "
      ]
     },
     "execution_count": 14,
     "metadata": {},
     "output_type": "execute_result"
    }
   ],
   "source": [
    "mydata.head()"
   ]
  },
  {
   "cell_type": "code",
   "execution_count": 15,
   "metadata": {},
   "outputs": [
    {
     "data": {
      "text/plain": [
       "(90, 14)"
      ]
     },
     "execution_count": 15,
     "metadata": {},
     "output_type": "execute_result"
    }
   ],
   "source": [
    "mydata.shape"
   ]
  },
  {
   "cell_type": "code",
   "execution_count": 23,
   "metadata": {},
   "outputs": [
    {
     "data": {
      "text/plain": [
       "Index(['Price', 'Safety', 'Exterior_Looks', 'Space_comfort', 'Technology',\n",
       "       'After_Sales_Service', 'Resale_Value', 'Fuel_Type', 'Fuel_Efficiency',\n",
       "       'Color', 'Maintenance', 'Test_drive', 'Product_reviews',\n",
       "       'Testimonials'],\n",
       "      dtype='object')"
      ]
     },
     "execution_count": 23,
     "metadata": {},
     "output_type": "execute_result"
    }
   ],
   "source": [
    "mydata.columns"
   ]
  },
  {
   "attachments": {},
   "cell_type": "markdown",
   "metadata": {},
   "source": [
    "<!-- # how does fa.get_eigenvalues() work?\n",
    "correlation_matrix = mydata.corr()\n",
    "eigenvalues, eigenvectors = np.linalg.eig(correlation_matrix)\n",
    "print(\"Eigenvalues:\",sorted(eigenvalues)[::-1]) -->"
   ]
  },
  {
   "cell_type": "code",
   "execution_count": 16,
   "metadata": {},
   "outputs": [
    {
     "data": {
      "text/html": [
       "<style>#sk-container-id-3 {color: black;background-color: white;}#sk-container-id-3 pre{padding: 0;}#sk-container-id-3 div.sk-toggleable {background-color: white;}#sk-container-id-3 label.sk-toggleable__label {cursor: pointer;display: block;width: 100%;margin-bottom: 0;padding: 0.3em;box-sizing: border-box;text-align: center;}#sk-container-id-3 label.sk-toggleable__label-arrow:before {content: \"▸\";float: left;margin-right: 0.25em;color: #696969;}#sk-container-id-3 label.sk-toggleable__label-arrow:hover:before {color: black;}#sk-container-id-3 div.sk-estimator:hover label.sk-toggleable__label-arrow:before {color: black;}#sk-container-id-3 div.sk-toggleable__content {max-height: 0;max-width: 0;overflow: hidden;text-align: left;background-color: #f0f8ff;}#sk-container-id-3 div.sk-toggleable__content pre {margin: 0.2em;color: black;border-radius: 0.25em;background-color: #f0f8ff;}#sk-container-id-3 input.sk-toggleable__control:checked~div.sk-toggleable__content {max-height: 200px;max-width: 100%;overflow: auto;}#sk-container-id-3 input.sk-toggleable__control:checked~label.sk-toggleable__label-arrow:before {content: \"▾\";}#sk-container-id-3 div.sk-estimator input.sk-toggleable__control:checked~label.sk-toggleable__label {background-color: #d4ebff;}#sk-container-id-3 div.sk-label input.sk-toggleable__control:checked~label.sk-toggleable__label {background-color: #d4ebff;}#sk-container-id-3 input.sk-hidden--visually {border: 0;clip: rect(1px 1px 1px 1px);clip: rect(1px, 1px, 1px, 1px);height: 1px;margin: -1px;overflow: hidden;padding: 0;position: absolute;width: 1px;}#sk-container-id-3 div.sk-estimator {font-family: monospace;background-color: #f0f8ff;border: 1px dotted black;border-radius: 0.25em;box-sizing: border-box;margin-bottom: 0.5em;}#sk-container-id-3 div.sk-estimator:hover {background-color: #d4ebff;}#sk-container-id-3 div.sk-parallel-item::after {content: \"\";width: 100%;border-bottom: 1px solid gray;flex-grow: 1;}#sk-container-id-3 div.sk-label:hover label.sk-toggleable__label {background-color: #d4ebff;}#sk-container-id-3 div.sk-serial::before {content: \"\";position: absolute;border-left: 1px solid gray;box-sizing: border-box;top: 0;bottom: 0;left: 50%;z-index: 0;}#sk-container-id-3 div.sk-serial {display: flex;flex-direction: column;align-items: center;background-color: white;padding-right: 0.2em;padding-left: 0.2em;position: relative;}#sk-container-id-3 div.sk-item {position: relative;z-index: 1;}#sk-container-id-3 div.sk-parallel {display: flex;align-items: stretch;justify-content: center;background-color: white;position: relative;}#sk-container-id-3 div.sk-item::before, #sk-container-id-3 div.sk-parallel-item::before {content: \"\";position: absolute;border-left: 1px solid gray;box-sizing: border-box;top: 0;bottom: 0;left: 50%;z-index: -1;}#sk-container-id-3 div.sk-parallel-item {display: flex;flex-direction: column;z-index: 1;position: relative;background-color: white;}#sk-container-id-3 div.sk-parallel-item:first-child::after {align-self: flex-end;width: 50%;}#sk-container-id-3 div.sk-parallel-item:last-child::after {align-self: flex-start;width: 50%;}#sk-container-id-3 div.sk-parallel-item:only-child::after {width: 0;}#sk-container-id-3 div.sk-dashed-wrapped {border: 1px dashed gray;margin: 0 0.4em 0.5em 0.4em;box-sizing: border-box;padding-bottom: 0.4em;background-color: white;}#sk-container-id-3 div.sk-label label {font-family: monospace;font-weight: bold;display: inline-block;line-height: 1.2em;}#sk-container-id-3 div.sk-label-container {text-align: center;}#sk-container-id-3 div.sk-container {/* jupyter's `normalize.less` sets `[hidden] { display: none; }` but bootstrap.min.css set `[hidden] { display: none !important; }` so we also need the `!important` here to be able to override the default hidden behavior on the sphinx rendered scikit-learn.org. See: https://github.com/scikit-learn/scikit-learn/issues/21755 */display: inline-block !important;position: relative;}#sk-container-id-3 div.sk-text-repr-fallback {display: none;}</style><div id=\"sk-container-id-3\" class=\"sk-top-container\"><div class=\"sk-text-repr-fallback\"><pre>FactorAnalyzer(n_factors=4, rotation=&#x27;varimax&#x27;, rotation_kwargs={})</pre><b>In a Jupyter environment, please rerun this cell to show the HTML representation or trust the notebook. <br />On GitHub, the HTML representation is unable to render, please try loading this page with nbviewer.org.</b></div><div class=\"sk-container\" hidden><div class=\"sk-item\"><div class=\"sk-estimator sk-toggleable\"><input class=\"sk-toggleable__control sk-hidden--visually\" id=\"sk-estimator-id-3\" type=\"checkbox\" checked><label for=\"sk-estimator-id-3\" class=\"sk-toggleable__label sk-toggleable__label-arrow\">FactorAnalyzer</label><div class=\"sk-toggleable__content\"><pre>FactorAnalyzer(n_factors=4, rotation=&#x27;varimax&#x27;, rotation_kwargs={})</pre></div></div></div></div></div>"
      ],
      "text/plain": [
       "FactorAnalyzer(n_factors=4, rotation='varimax', rotation_kwargs={})"
      ]
     },
     "execution_count": 16,
     "metadata": {},
     "output_type": "execute_result"
    }
   ],
   "source": [
    "# Extract (and rotate) factors\n",
    "Nfacs = 4  # This is for four factors\n",
    "fa = FactorAnalyzer(n_factors=Nfacs, rotation=\"varimax\") # Set whether rotation and its type here\n",
    "fa.fit(mydata) # Fit the factor model\n"
   ]
  },
  {
   "cell_type": "code",
   "execution_count": 17,
   "metadata": {},
   "outputs": [
    {
     "name": "stdout",
     "output_type": "stream",
     "text": [
      "(14, 4)\n",
      "[[ 5.34735987e-01  1.09819036e-01 -3.19016988e-03 -5.01987904e-02]\n",
      " [-2.71602979e-01  3.55607452e-01 -1.75105853e-01  6.04541417e-02]\n",
      " [-4.91521487e-03  4.48939036e-02  1.92741178e-01 -5.44144699e-01]\n",
      " [-2.82902484e-02  7.52957582e-01  2.19524020e-01 -2.22664637e-01]\n",
      " [ 4.29661291e-02  3.49019338e-01  1.03184036e-01  1.37153231e-02]\n",
      " [ 1.63276231e-01  5.27968786e-01  1.02347468e-01  1.23956010e-01]\n",
      " [ 7.23570818e-01 -1.42859159e-01 -1.37285620e-01  5.80725629e-02]\n",
      " [ 4.44773494e-02  5.56858387e-01 -1.23338702e-04 -6.90659000e-02]\n",
      " [ 4.92074974e-01  2.34734582e-01  2.99063630e-01  2.91384300e-01]\n",
      " [ 1.97920700e-01 -2.87118742e-02  2.65965677e-01  7.06007733e-01]\n",
      " [ 6.02593138e-01  7.87141808e-02  1.10756057e-01  2.33411449e-01]\n",
      " [ 9.81866591e-02  1.50255378e-01  4.06842109e-01 -1.83456720e-02]\n",
      " [ 3.36044005e-01  1.44764149e-01  4.28927419e-01  3.22763832e-02]\n",
      " [-2.28305437e-01 -7.62752667e-03  6.76960087e-01  1.04855517e-03]]\n"
     ]
    }
   ],
   "source": [
    "loadings = fa.loadings_\n",
    "print(np.shape(loadings))\n",
    "print(loadings)"
   ]
  },
  {
   "cell_type": "code",
   "execution_count": 18,
   "metadata": {},
   "outputs": [
    {
     "name": "stdout",
     "output_type": "stream",
     "text": [
      "(90, 4)\n",
      "[[ 6.84042406e-01 -3.77293720e-01 -8.29285478e-01 -1.55416983e+00]\n",
      " [-1.31940097e+00 -6.04611018e-01 -2.17212189e+00  9.93007156e-01]\n",
      " [ 1.09264898e+00  4.16128810e-01 -3.78641211e-01  6.94255792e-01]\n",
      " [ 7.30055548e-01 -8.34150774e-01 -7.55206845e-01  2.25665465e-01]\n",
      " [ 1.36949780e+00  2.34995876e-03 -5.33379184e-01  6.61454329e-01]\n",
      " [-7.93554703e-01 -6.94003513e-01 -1.43654547e+00 -1.16565146e+00]\n",
      " [-9.96243472e-01  1.93508467e-01  3.31522296e-02  8.49456501e-01]\n",
      " [ 9.02970547e-01 -4.26402428e-01  1.10069923e-01 -6.57930380e-02]\n",
      " [ 8.31248939e-01 -9.44087119e-02 -2.75759717e-02 -3.83523154e-01]\n",
      " [ 4.12381562e-01 -6.42519071e-01 -7.31348249e-01  1.35844519e+00]\n",
      " [ 8.19617528e-01 -9.98948363e-02 -6.53123640e-02  3.45495428e-01]\n",
      " [ 1.07013334e+00 -8.75536560e-01  7.22336777e-01  7.88475585e-01]\n",
      " [ 1.02209135e+00 -3.68454607e-01 -3.45489275e-01 -1.57434889e+00]\n",
      " [-3.83221018e-01  5.92917145e-01 -1.16468118e+00  1.20670894e+00]\n",
      " [ 1.06308507e+00 -1.35497078e+00  5.93863203e-01  4.22778192e-02]\n",
      " [ 1.19837703e+00  5.13389442e-01 -5.52313671e-01  1.10226861e+00]\n",
      " [ 9.16317300e-01 -6.51736298e-01  3.72928563e-01 -1.27006956e+00]\n",
      " [ 2.28018408e-01  3.96282150e-01  4.00259967e-01  7.79071268e-01]\n",
      " [ 1.07937822e+00 -2.78291708e-01 -2.62121603e-01  1.54076129e+00]\n",
      " [ 1.05872291e+00  2.96289202e-01 -6.66879710e-01  7.33602755e-01]\n",
      " [ 1.15927414e+00  6.13775546e-01 -6.06683581e-01  6.39039966e-02]\n",
      " [ 6.49116818e-01 -1.48178829e+00  4.76993364e-01  1.01437265e+00]\n",
      " [ 1.09264898e+00  4.16128810e-01 -3.78641211e-01  6.94255792e-01]\n",
      " [ 1.22648921e+00  4.20145040e-01 -5.68408616e-01  5.14253334e-01]\n",
      " [ 9.23704260e-01  3.29041298e-01  4.11994455e-01  6.65749083e-02]\n",
      " [ 1.29179656e+00 -1.75191167e+00  7.88283336e-01  1.84185590e-01]\n",
      " [-1.17002788e+00  4.34242404e-01 -1.43251221e+00  8.97370553e-01]\n",
      " [ 3.75970003e-01  1.70544063e-01 -1.47632099e-01  6.97155395e-01]\n",
      " [ 5.13936422e-01 -3.27290190e-01 -2.24597277e-01  1.31014252e+00]\n",
      " [ 1.34676272e+00 -4.75222410e-01  3.38995184e-01 -1.19153141e-01]\n",
      " [ 8.84449484e-01  1.12310695e-01 -1.02162428e+00 -1.45811496e+00]\n",
      " [ 5.54428301e-02  1.60436283e-01 -2.06033350e+00  3.15775356e-01]\n",
      " [-1.34930669e+00  1.14658394e-01 -1.30920748e+00 -6.58792911e-01]\n",
      " [ 8.34551357e-01  1.16191382e+00  7.36296565e-01 -2.49053167e+00]\n",
      " [ 1.55559581e-01 -9.94433376e-01  3.77135715e-01 -1.98592570e-01]\n",
      " [ 9.33928112e-01 -8.67070010e-02 -4.32803582e-01  3.40334593e-01]\n",
      " [ 1.60335010e+00  8.96963488e-01 -3.55631784e-01  4.09506446e-01]\n",
      " [-6.99882139e-01 -4.81082114e-01 -2.84986604e-02 -1.70167376e+00]\n",
      " [-1.37568836e+00 -3.25306993e+00 -1.37323866e+00 -2.56581819e-01]\n",
      " [-1.33350683e+00 -4.42328301e-01  7.13600265e-02  2.68304698e-02]\n",
      " [ 3.30726895e-01  6.97525665e-01  3.36304689e-01  3.69807445e-01]\n",
      " [-5.38913979e-01 -8.14261472e-01 -6.40653002e-01  9.14535502e-01]\n",
      " [ 1.71551912e-01  1.54641962e+00  4.11232860e-01  7.92733497e-01]\n",
      " [-1.89986772e-01  1.41680871e+00  6.58632128e-01  1.42221212e-02]\n",
      " [-1.55489696e+00 -4.71617506e-01 -7.28574342e-02 -5.70887359e-01]\n",
      " [-7.45363624e-02 -7.28967582e-01  8.62221659e-01 -1.44087838e-01]\n",
      " [ 1.23574048e+00  1.44583547e+00  1.44633923e+00  1.73665942e-01]\n",
      " [-5.19193163e-01 -6.22840276e-01  1.06557700e+00 -1.12015706e-01]\n",
      " [-4.06510986e-01 -7.03487063e-02 -2.93180427e-01  7.93987981e-02]\n",
      " [-4.11102673e-01 -6.26242390e-01 -4.18011789e-01 -9.74322447e-01]\n",
      " [-8.10680383e-01 -8.11353650e-01 -6.56018900e-01  1.33573264e-01]\n",
      " [-8.85898313e-01 -6.09539989e-01 -1.26310491e-01 -3.24549475e-02]\n",
      " [ 8.71875142e-01  1.16954712e+00  6.62044659e-01  1.62876687e+00]\n",
      " [ 1.68675301e-01  1.48227423e+00  3.27922233e-01 -3.31518698e-01]\n",
      " [ 3.82890641e-01 -1.96917471e+00  6.92813554e-01 -1.78940698e-01]\n",
      " [ 2.59237133e-02 -1.63696532e-02 -8.80575586e-01 -7.45458672e-01]\n",
      " [-2.05645645e-01 -2.70371328e-01 -1.03460823e-01 -6.15931816e-01]\n",
      " [ 6.92486305e-02 -5.54616779e-01  2.27505271e-01  5.48305768e-02]\n",
      " [-6.51230593e-01  1.64747795e+00 -3.11573009e-02 -1.64875896e-01]\n",
      " [ 1.40559593e-01  4.48108721e-02  1.02720796e+00 -4.77097620e-01]\n",
      " [-1.43156605e+00  1.05777583e+00 -3.71982139e-01 -4.75245405e-01]\n",
      " [ 2.23322033e-01 -2.12185050e-01 -1.05577107e+00 -7.47726894e-01]\n",
      " [ 7.01204106e-01  1.28030109e+00 -2.67179825e+00 -2.42230389e+00]\n",
      " [-6.83746816e-01 -6.78771560e-01  1.12119162e+00  6.65225638e-01]\n",
      " [-1.28210774e-01  1.56691886e+00  1.02769150e+00 -6.54299957e-01]\n",
      " [-1.28210774e-01  1.56691886e+00  1.02769150e+00 -6.54299957e-01]\n",
      " [-1.43849125e+00 -1.15721563e-01  4.29214886e-01  1.64869527e-01]\n",
      " [-1.02282642e+00  4.42969527e-01  8.26268581e-01 -2.28447438e-01]\n",
      " [-1.26688167e+00 -2.44681565e-01 -1.56682343e-01 -6.03521326e-01]\n",
      " [-3.69190465e-01 -4.60316879e-01  1.25805012e+00  2.75756373e-01]\n",
      " [-7.55553708e-01  1.00683061e+00  1.13498466e+00  1.34219585e-02]\n",
      " [-6.46936060e-01 -3.16631265e-01  6.09942041e-01 -5.39087659e-02]\n",
      " [-5.56049955e-01  2.12247682e-01 -1.73410546e-01  9.77743449e-01]\n",
      " [-1.93567530e+00  4.06566951e-01  6.33403361e-01 -3.59947849e-01]\n",
      " [-1.37186405e-01 -1.48765796e+00 -2.39753604e-01 -4.59623451e-01]\n",
      " [-8.52121954e-01  3.29640441e-01  8.55631315e-01 -4.63801874e-02]\n",
      " [ 1.91076105e-01  8.30421633e-01 -9.97782288e-02 -1.21177137e+00]\n",
      " [ 4.47070117e-01  2.56685498e-01  6.66207917e-01  1.69345564e-01]\n",
      " [-1.77714641e-01  2.02961730e-01  8.37504682e-01  9.01370569e-01]\n",
      " [-1.17881799e+00  4.21897550e-01 -1.58413222e-01 -2.11130746e-01]\n",
      " [-3.09743087e-01  1.07250303e+00  7.84579301e-01 -1.68786820e-01]\n",
      " [-1.61642853e+00  1.24614721e+00  7.12812854e-01 -7.25281223e-01]\n",
      " [-6.63733783e-01  2.29702343e-01 -5.77436570e-02 -7.51724322e-01]\n",
      " [-1.02746044e-01 -1.29296673e+00  7.20354988e-01  3.36140649e-01]\n",
      " [-3.04228629e-01  4.74447777e-01  1.11872125e+00 -2.00942191e-01]\n",
      " [ 4.69927239e-01 -1.18357944e-01  3.41798186e-01  4.17503629e-01]\n",
      " [ 2.64289079e-02 -3.03188992e-01  8.74236691e-01  5.33645886e-01]\n",
      " [-4.02647035e-01 -8.93373073e-02 -1.26273724e-02 -5.37937454e-01]\n",
      " [-4.83856656e-01  6.73162060e-02  7.13052220e-01  5.42868847e-01]\n",
      " [-7.19796407e-01  1.17650682e-01 -7.63907006e-01  7.42833856e-01]]\n"
     ]
    }
   ],
   "source": [
    "scores = fa.transform(mydata)\n",
    "print(np.shape(scores))\n",
    "print(scores)"
   ]
  },
  {
   "attachments": {},
   "cell_type": "markdown",
   "metadata": {},
   "source": [
    "## Name and interpret the factors"
   ]
  },
  {
   "cell_type": "code",
   "execution_count": 19,
   "metadata": {},
   "outputs": [
    {
     "data": {
      "image/png": "[encoded data removed]",
      "text/plain": [
       "<Figure size 640x480 with 1 Axes>"
      ]
     },
     "metadata": {},
     "output_type": "display_data"
    }
   ],
   "source": [
    "# Plot factor loadings of the first two factors\n",
    "fig, ax = plt.subplots()\n",
    "ax.scatter(loadings[:, 0], loadings[:, 1])\n",
    "for i, txt in enumerate(mydata.columns):\n",
    "    ax.annotate(txt, (loadings[i, 0], loadings[i, 1]))\n",
    "plt.xlabel('Factor 1')\n",
    "plt.ylabel('Factor 2')\n",
    "plt.show()\n"
   ]
  },
  {
   "cell_type": "code",
   "execution_count": 21,
   "metadata": {},
   "outputs": [
    {
     "name": "stdout",
     "output_type": "stream",
     "text": [
      "                     Factor 1  Factor 2  Factor 3  Factor 4\n",
      "Price                   0.535     0.110    -0.003    -0.050\n",
      "Safety                 -0.272     0.356    -0.175     0.060\n",
      "Exterior_Looks         -0.005     0.045     0.193    -0.544\n",
      "Space_comfort          -0.028     0.753     0.220    -0.223\n",
      "Technology              0.043     0.349     0.103     0.014\n",
      "After_Sales_Service     0.163     0.528     0.102     0.124\n",
      "Resale_Value            0.724    -0.143    -0.137     0.058\n",
      "Fuel_Type               0.044     0.557    -0.000    -0.069\n",
      "Fuel_Efficiency         0.492     0.235     0.299     0.291\n",
      "Color                   0.198    -0.029     0.266     0.706\n",
      "Maintenance             0.603     0.079     0.111     0.233\n",
      "Test_drive              0.098     0.150     0.407    -0.018\n",
      "Product_reviews         0.336     0.145     0.429     0.032\n",
      "Testimonials           -0.228    -0.008     0.677     0.001\n"
     ]
    }
   ],
   "source": [
    "# Create a DataFrame with custom row and column names\n",
    "loadings_df = pd.DataFrame(loadings.round(3),\n",
    "                           index=mydata.columns,\n",
    "                           columns=['Factor 1', 'Factor 2', 'Factor 3', 'Factor 4'])\n",
    "\n",
    "print(loadings_df)\n",
    "\n",
    "factor_names = [\"Econ. Value\", \"Functional Benefits\", \"Credibility\",\"Aesthetics\"]"
   ]
  },
  {
   "cell_type": "code",
   "execution_count": 22,
   "metadata": {},
   "outputs": [
    {
     "name": "stdout",
     "output_type": "stream",
     "text": [
      "                     Econ. Value  Functional Benefits  Credibility  Aesthetics\n",
      "Price                      0.535                0.110       -0.003      -0.050\n",
      "Safety                    -0.272                0.356       -0.175       0.060\n",
      "Exterior_Looks            -0.005                0.045        0.193      -0.544\n",
      "Space_comfort             -0.028                0.753        0.220      -0.223\n",
      "Technology                 0.043                0.349        0.103       0.014\n",
      "After_Sales_Service        0.163                0.528        0.102       0.124\n",
      "Resale_Value               0.724               -0.143       -0.137       0.058\n",
      "Fuel_Type                  0.044                0.557       -0.000      -0.069\n",
      "Fuel_Efficiency            0.492                0.235        0.299       0.291\n",
      "Color                      0.198               -0.029        0.266       0.706\n",
      "Maintenance                0.603                0.079        0.111       0.233\n",
      "Test_drive                 0.098                0.150        0.407      -0.018\n",
      "Product_reviews            0.336                0.145        0.429       0.032\n",
      "Testimonials              -0.228               -0.008        0.677       0.001\n"
     ]
    }
   ],
   "source": [
    "loadings_df.columns = factor_names\n",
    "print(loadings_df)"
   ]
  }
 ],
 "metadata": {
  "kernelspec": {
   "display_name": "base",
   "language": "python",
   "name": "python3"
  },
  "language_info": {
   "codemirror_mode": {
    "name": "ipython",
    "version": 3
   },
   "file_extension": ".py",
   "mimetype": "text/x-python",
   "name": "python",
   "nbconvert_exporter": "python",
   "pygments_lexer": "ipython3",
   "version": "3.9.13"
  },
  "orig_nbformat": 4
 },
 "nbformat": 4,
 "nbformat_minor": 2
}
